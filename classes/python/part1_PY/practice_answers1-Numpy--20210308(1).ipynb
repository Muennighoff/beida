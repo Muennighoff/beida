{
 "cells": [
  {
   "cell_type": "markdown",
   "metadata": {},
   "source": [
    "### 1. 创建一个长度为10的一维全为0的ndarray对象，然后让第5个元素等于1"
   ]
  },
  {
   "cell_type": "code",
   "execution_count": 2,
   "metadata": {},
   "outputs": [
    {
     "name": "stdout",
     "output_type": "stream",
     "text": [
      "[0. 0. 0. 0. 0. 0. 0. 0. 0. 0.]\n",
      "[0. 0. 0. 0. 1. 0. 0. 0. 0. 0.]\n"
     ]
    }
   ],
   "source": [
    "import numpy as np\n",
    "a=np.zeros(10)\n",
    "print((a))\n",
    "a[4]=1\n",
    "print(a)"
   ]
  },
  {
   "cell_type": "markdown",
   "metadata": {},
   "source": [
    "### 2. 创建一个元素为从10到49的ndarray对象\n",
    "2.1 包含20个元素  \n",
    "2.2 每隔3取值一个元素"
   ]
  },
  {
   "cell_type": "code",
   "execution_count": 3,
   "metadata": {},
   "outputs": [
    {
     "name": "stdout",
     "output_type": "stream",
     "text": [
      "[10 11 12 13 14 15 16 17 18 19 20 21 22 23 24 25 26 27 28 29 30 31 32 33\n",
      " 34 35 36 37 38 39 40 41 42 43 44 45 46 47 48 49]\n",
      "[10.         12.05263158 14.10526316 16.15789474 18.21052632 20.26315789\n",
      " 22.31578947 24.36842105 26.42105263 28.47368421 30.52631579 32.57894737\n",
      " 34.63157895 36.68421053 38.73684211 40.78947368 42.84210526 44.89473684\n",
      " 46.94736842 49.        ]\n",
      "[10 13 16 19 22 25 28 31 34 37 40 43 46 49]\n"
     ]
    }
   ],
   "source": [
    "#2 从10到49的ndarray对象\n",
    "a=np.arange(10,50)\n",
    "print(a)\n",
    "#2.1 包含20个元素的ndarray对象\n",
    "b=np.linspace(10,49,20)\n",
    "print(b)\n",
    "#2.2 每隔3取值一个元素\n",
    "c=np.arange(10,50,3)\n",
    "print(c)"
   ]
  },
  {
   "cell_type": "markdown",
   "metadata": {},
   "source": [
    "### 3. 将2中最后一个ndarray翻转"
   ]
  },
  {
   "cell_type": "code",
   "execution_count": 4,
   "metadata": {},
   "outputs": [
    {
     "name": "stdout",
     "output_type": "stream",
     "text": [
      "[49 46 43 40 37 34 31 28 25 22 19 16 13 10]\n"
     ]
    }
   ],
   "source": [
    "reverse=c[::-1]\n",
    "print(reverse)"
   ]
  },
  {
   "cell_type": "markdown",
   "metadata": {},
   "source": [
    "### 4. 使用np.random.random创建一个10*10的ndarray对象，并打印出最大最小元素"
   ]
  },
  {
   "cell_type": "code",
   "execution_count": 5,
   "metadata": {},
   "outputs": [
    {
     "name": "stdout",
     "output_type": "stream",
     "text": [
      "[[0.18750685 0.62997927 0.52819438 0.08693416 0.17699513 0.18104799\n",
      "  0.07578256 0.04021077 0.70897813 0.71507062]\n",
      " [0.52721567 0.10839312 0.73758203 0.54414073 0.30126433 0.58802211\n",
      "  0.17197552 0.61870629 0.1379751  0.47708376]\n",
      " [0.98178427 0.58511323 0.54060769 0.43446256 0.97578273 0.77768754\n",
      "  0.17775347 0.54767835 0.24316148 0.03914381]\n",
      " [0.13472126 0.77017496 0.27901589 0.90512053 0.93757427 0.67535261\n",
      "  0.47710309 0.27404675 0.99583006 0.27477413]\n",
      " [0.99755159 0.13838633 0.38865605 0.9952087  0.81969447 0.09337563\n",
      "  0.99102657 0.03121017 0.19861525 0.60311688]\n",
      " [0.63880827 0.09872687 0.73990033 0.26476105 0.79288757 0.30393757\n",
      "  0.57187853 0.81481288 0.07491763 0.11819979]\n",
      " [0.62342509 0.86369249 0.90152662 0.89399893 0.5254379  0.93878258\n",
      "  0.72440415 0.52257065 0.97155641 0.49263964]\n",
      " [0.27537217 0.40851522 0.24841934 0.20330682 0.40964708 0.7668909\n",
      "  0.97862396 0.05795159 0.49511575 0.88571396]\n",
      " [0.13417426 0.35294794 0.54873599 0.58989248 0.38049922 0.84500358\n",
      "  0.86119016 0.44319637 0.10044314 0.02402957]\n",
      " [0.40734154 0.21213375 0.52999177 0.64596338 0.90549318 0.89989332\n",
      "  0.71181066 0.62774632 0.0687657  0.89899206]]\n",
      "0.9975515896661328\n",
      "0.024029567875234248\n"
     ]
    }
   ],
   "source": [
    "d=np.random.random((10,10))\n",
    "print(d)\n",
    "print(d.max())\n",
    "print(d.min())"
   ]
  },
  {
   "cell_type": "markdown",
   "metadata": {},
   "source": [
    "### 5. 创建一个10*10的ndarray对象，且矩阵边界全为1，里面全为0"
   ]
  },
  {
   "cell_type": "code",
   "execution_count": 6,
   "metadata": {},
   "outputs": [
    {
     "name": "stdout",
     "output_type": "stream",
     "text": [
      "[[1. 1. 1. 1. 1. 1. 1. 1. 1. 1.]\n",
      " [1. 0. 0. 0. 0. 0. 0. 0. 0. 1.]\n",
      " [1. 0. 0. 0. 0. 0. 0. 0. 0. 1.]\n",
      " [1. 0. 0. 0. 0. 0. 0. 0. 0. 1.]\n",
      " [1. 0. 0. 0. 0. 0. 0. 0. 0. 1.]\n",
      " [1. 0. 0. 0. 0. 0. 0. 0. 0. 1.]\n",
      " [1. 0. 0. 0. 0. 0. 0. 0. 0. 1.]\n",
      " [1. 0. 0. 0. 0. 0. 0. 0. 0. 1.]\n",
      " [1. 0. 0. 0. 0. 0. 0. 0. 0. 1.]\n",
      " [1. 1. 1. 1. 1. 1. 1. 1. 1. 1.]]\n"
     ]
    }
   ],
   "source": [
    "e=np.zeros((10,10))\n",
    "e[[0,9]]=1\n",
    "e[:,[0,9]]=1\n",
    "print(e)"
   ]
  },
  {
   "cell_type": "markdown",
   "metadata": {},
   "source": [
    "### 6. 创建一个每一行都是从0到4的5*5矩阵"
   ]
  },
  {
   "cell_type": "code",
   "execution_count": 7,
   "metadata": {},
   "outputs": [
    {
     "name": "stdout",
     "output_type": "stream",
     "text": [
      "[[0 1 2 3 4]\n",
      " [0 1 2 3 4]\n",
      " [0 1 2 3 4]\n",
      " [0 1 2 3 4]\n",
      " [0 1 2 3 4]]\n"
     ]
    }
   ],
   "source": [
    "f=np.array([0,1,2,3,4]*5).reshape(5,5)\n",
    "print(f)"
   ]
  },
  {
   "cell_type": "markdown",
   "metadata": {},
   "source": [
    "### 7. 创建一个长度为10的随机数组并将最大值替换为0"
   ]
  },
  {
   "cell_type": "code",
   "execution_count": 8,
   "metadata": {},
   "outputs": [
    {
     "name": "stdout",
     "output_type": "stream",
     "text": [
      "[89 73 15 20 49 10 96 66 96 10]\n",
      "[89 73 15 20 49 10  0 66  0 10]\n"
     ]
    }
   ],
   "source": [
    "g=np.random.randint(0,100,10)\n",
    "print(g)\n",
    "gmax=g.max()\n",
    "gmaxwhere=g==gmax #g==max returns an ndarray containing true, false, ...(only one \"true\" when it indexes the max value.)\n",
    "g[gmaxwhere]=0\n",
    "print(g)"
   ]
  },
  {
   "cell_type": "markdown",
   "metadata": {},
   "source": [
    "### 8. 生成长度为10的随机数组m\n",
    "8.1 运行print(t.argsort())  \n",
    "8.2 运行t.sort()  \n",
    "比较两个排序命令的区别"
   ]
  },
  {
   "cell_type": "code",
   "execution_count": 9,
   "metadata": {},
   "outputs": [
    {
     "name": "stdout",
     "output_type": "stream",
     "text": [
      "[36 78 32 47 49  1 90 63  7 45]\n",
      "[5 8 2 0 9 3 4 7 1 6]\n",
      "[ 1  7 32 36 45 47 49 63 78 90]\n"
     ]
    }
   ],
   "source": [
    "m=np.random.randint(0,100,10)\n",
    "print(m)\n",
    "#8.1\n",
    "print(m.argsort())\n",
    "#8.2\n",
    "m.sort()\n",
    "print(m)\n",
    "\n",
    "#区别：print(t.argsort())将数组按从小到大排列，并按照对应的索引值输出；sort()在原数组上进行从小到大的重新排序。"
   ]
  },
  {
   "cell_type": "markdown",
   "metadata": {},
   "source": [
    "### 9. 给定一个4维矩阵，如何得到最后两维的和？\n",
    "可使用np.random.randint(0,10,(3,3,3,3))生成0到9范围内的随机整数矩阵"
   ]
  },
  {
   "cell_type": "code",
   "execution_count": 10,
   "metadata": {},
   "outputs": [
    {
     "name": "stdout",
     "output_type": "stream",
     "text": [
      "[[43 40 42]\n",
      " [46 47 40]\n",
      " [30 54 32]]\n"
     ]
    }
   ],
   "source": [
    "h=np.random.randint(0,10,(3,3,3,3))\n",
    "j=h.sum(axis=(-1,-2))\n",
    "print(j)"
   ]
  },
  {
   "cell_type": "markdown",
   "metadata": {},
   "source": [
    "### 10. 给定数组[1, 2, 3, 4, 5]，如何得到在这个数组的每个元素之间插入3个0后的新数组？"
   ]
  },
  {
   "cell_type": "code",
   "execution_count": 11,
   "metadata": {},
   "outputs": [
    {
     "name": "stdout",
     "output_type": "stream",
     "text": [
      "[1 0 0 0 2 0 0 0 3 0 0 0 4 0 0 0 5]\n"
     ]
    }
   ],
   "source": [
    "o=np.arange(1,6)\n",
    "p=np.zeros(17,dtype=np.int8)\n",
    "p[::4]=o\n",
    "print(p)"
   ]
  },
  {
   "cell_type": "markdown",
   "metadata": {},
   "source": [
    "### 11. 给定一个二维矩阵，如何交换其中两行的元素？"
   ]
  },
  {
   "cell_type": "code",
   "execution_count": 12,
   "metadata": {},
   "outputs": [
    {
     "name": "stdout",
     "output_type": "stream",
     "text": [
      "[[25  3 98]\n",
      " [12 10 28]\n",
      " [57 61 93]]\n",
      "[[12 10 28]\n",
      " [25  3 98]\n",
      " [57 61 93]]\n"
     ]
    }
   ],
   "source": [
    "q=np.random.randint(0,100,(3,3))\n",
    "print(q)\n",
    "print(q[[1,0,2]])"
   ]
  },
  {
   "cell_type": "markdown",
   "metadata": {},
   "source": [
    "### 12. 创建一个5 \\* 3 随机矩阵和一个3 \\* 2随机矩阵，求矩阵积"
   ]
  },
  {
   "cell_type": "code",
   "execution_count": 13,
   "metadata": {},
   "outputs": [
    {
     "name": "stdout",
     "output_type": "stream",
     "text": [
      "[[6 1 4]\n",
      " [4 0 0]\n",
      " [9 7 5]\n",
      " [0 4 5]\n",
      " [7 4 8]]\n",
      "[[6 9]\n",
      " [4 6]\n",
      " [4 9]]\n",
      "[[ 56  96]\n",
      " [ 24  36]\n",
      " [102 168]\n",
      " [ 36  69]\n",
      " [ 90 159]]\n"
     ]
    }
   ],
   "source": [
    "r=np.random.randint(0,10,(5,3))\n",
    "s=np.random.randint(0,10,(3,2))\n",
    "product=np.dot(r,s)\n",
    "print(r)\n",
    "print(s)\n",
    "print(product)"
   ]
  },
  {
   "cell_type": "markdown",
   "metadata": {},
   "source": [
    "### 13. 生成一个5 \\*5 的0到10之间的随机整数矩阵，矩阵的每一行的元素都减去该行的平均值"
   ]
  },
  {
   "cell_type": "code",
   "execution_count": 14,
   "metadata": {},
   "outputs": [
    {
     "name": "stdout",
     "output_type": "stream",
     "text": [
      "[[ 0  1  1  9  4]\n",
      " [ 8  3  3  9  1]\n",
      " [ 4  5  4  4  2]\n",
      " [ 1  7 10  7  0]\n",
      " [ 5  6  8  1  8]]\n",
      "[[3. ]\n",
      " [4.8]\n",
      " [3.8]\n",
      " [5. ]\n",
      " [5.6]]\n",
      "[[-3.  -2.  -2.   6.   1. ]\n",
      " [ 3.2 -1.8 -1.8  4.2 -3.8]\n",
      " [ 0.2  1.2  0.2  0.2 -1.8]\n",
      " [-4.   2.   5.   2.  -5. ]\n",
      " [-0.6  0.4  2.4 -4.6  2.4]]\n"
     ]
    }
   ],
   "source": [
    "u=np.random.randint(0,11,(5,5))\n",
    "print(u)\n",
    "average=u.mean(axis=1).reshape(5,1)\n",
    "print(average)\n",
    "u=u-average \n",
    "print(u)"
   ]
  },
  {
   "cell_type": "markdown",
   "metadata": {},
   "source": [
    "### 14. 生成如下矩阵：\n",
    "[[0 1 0 1 0 1 0 1]  \n",
    " [1 0 1 0 1 0 1 0]  \n",
    " [0 1 0 1 0 1 0 1]  \n",
    " [1 0 1 0 1 0 1 0]  \n",
    " [0 1 0 1 0 1 0 1]  \n",
    " [1 0 1 0 1 0 1 0]  \n",
    " [0 1 0 1 0 1 0 1]  \n",
    " [1 0 1 0 1 0 1 0]  \n",
    " 14.1 要求使用np.zeros创建8*8的矩阵  \n",
    " 14.2 np.fromfunction创建"
   ]
  },
  {
   "cell_type": "code",
   "execution_count": 15,
   "metadata": {},
   "outputs": [
    {
     "name": "stdout",
     "output_type": "stream",
     "text": [
      "[[0 1 0 1 0 1 0 1]\n",
      " [1 0 1 0 1 0 1 0]\n",
      " [0 1 0 1 0 1 0 1]\n",
      " [1 0 1 0 1 0 1 0]\n",
      " [0 1 0 1 0 1 0 1]\n",
      " [1 0 1 0 1 0 1 0]\n",
      " [0 1 0 1 0 1 0 1]\n",
      " [1 0 1 0 1 0 1 0]]\n",
      "[[0 1 0 1 0 1 0 1]\n",
      " [1 0 1 0 1 0 1 0]\n",
      " [0 1 0 1 0 1 0 1]\n",
      " [1 0 1 0 1 0 1 0]\n",
      " [0 1 0 1 0 1 0 1]\n",
      " [1 0 1 0 1 0 1 0]\n",
      " [0 1 0 1 0 1 0 1]\n",
      " [1 0 1 0 1 0 1 0]]\n"
     ]
    }
   ],
   "source": [
    "#14.1\n",
    "v=np.zeros((8,8),dtype=np.int8)\n",
    "v[::2,1::2]=1\n",
    "v[1::2,::2]=1\n",
    "print(v)\n",
    "\n",
    "#14.2\n",
    "def fun(x,y):\n",
    "    return((x+y)%2)\n",
    "w=np.fromfunction(fun,(8,8),dtype=np.int8)\n",
    "print(w)"
   ]
  },
  {
   "cell_type": "markdown",
   "metadata": {},
   "source": [
    "### 15、正则化一个5\\*5随机矩阵  \n",
    "【正则的概念：假设a是矩阵中的一个元素，max/min分别是矩阵元素的最大最小值，则正则化后a = (a - min)/(max - min)】"
   ]
  },
  {
   "cell_type": "code",
   "execution_count": 10,
   "metadata": {},
   "outputs": [
    {
     "name": "stdout",
     "output_type": "stream",
     "text": [
      "[[ 6 67 73 11 50]\n",
      " [34 27 11  6 64]\n",
      " [22 51 96 65 83]\n",
      " [96 55 56 81 74]\n",
      " [73 43 11 15 73]]\n",
      "[[0.         0.67777778 0.74444444 0.05555556 0.48888889]\n",
      " [0.31111111 0.23333333 0.05555556 0.         0.64444444]\n",
      " [0.17777778 0.5        1.         0.65555556 0.85555556]\n",
      " [1.         0.54444444 0.55555556 0.83333333 0.75555556]\n",
      " [0.74444444 0.41111111 0.05555556 0.1        0.74444444]]\n"
     ]
    }
   ],
   "source": [
    "z=np.random.randint(0,100,size=(5,5))\n",
    "print(z)\n",
    "zmin=z.min()\n",
    "zmax=z.max()\n",
    "z=(z-zmin)/(zmax-zmin)\n",
    "print(z)"
   ]
  },
  {
   "cell_type": "code",
   "execution_count": null,
   "metadata": {},
   "outputs": [],
   "source": []
  }
 ],
 "metadata": {
  "kernelspec": {
   "display_name": "Python 3",
   "language": "python",
   "name": "python3"
  },
  "language_info": {
   "codemirror_mode": {
    "name": "ipython",
    "version": 3
   },
   "file_extension": ".py",
   "mimetype": "text/x-python",
   "name": "python",
   "nbconvert_exporter": "python",
   "pygments_lexer": "ipython3",
   "version": "3.8.5"
  }
 },
 "nbformat": 4,
 "nbformat_minor": 2
}
