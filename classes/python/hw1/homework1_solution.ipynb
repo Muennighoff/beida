{
 "cells": [
  {
   "cell_type": "markdown",
   "metadata": {},
   "source": [
    "# Python数据分析第一次作业\n",
    "根据题目要求，完成对共享单车数据的分析   \n",
    "数据文件为在压缩包\"citibike-tripdata.csv.zip\"中，需要自行解压后进行处理。"
   ]
  },
  {
   "cell_type": "markdown",
   "metadata": {},
   "source": [
    "## 1.读取数据，并显示前10行。（0.5分）"
   ]
  },
  {
   "cell_type": "code",
   "execution_count": 41,
   "metadata": {
    "scrolled": true
   },
   "outputs": [
    {
     "data": {
      "text/html": [
       "<div>\n",
       "<style scoped>\n",
       "    .dataframe tbody tr th:only-of-type {\n",
       "        vertical-align: middle;\n",
       "    }\n",
       "\n",
       "    .dataframe tbody tr th {\n",
       "        vertical-align: top;\n",
       "    }\n",
       "\n",
       "    .dataframe thead th {\n",
       "        text-align: right;\n",
       "    }\n",
       "</style>\n",
       "<table border=\"1\" class=\"dataframe\">\n",
       "  <thead>\n",
       "    <tr style=\"text-align: right;\">\n",
       "      <th></th>\n",
       "      <th>tripduration</th>\n",
       "      <th>starttime</th>\n",
       "      <th>stoptime</th>\n",
       "      <th>start station id</th>\n",
       "      <th>start station name</th>\n",
       "      <th>start station latitude</th>\n",
       "      <th>start station longitude</th>\n",
       "      <th>end station id</th>\n",
       "      <th>end station name</th>\n",
       "      <th>end station latitude</th>\n",
       "      <th>end station longitude</th>\n",
       "      <th>bikeid</th>\n",
       "      <th>usertype</th>\n",
       "      <th>birth year</th>\n",
       "      <th>gender</th>\n",
       "    </tr>\n",
       "  </thead>\n",
       "  <tbody>\n",
       "    <tr>\n",
       "      <th>0</th>\n",
       "      <td>364</td>\n",
       "      <td>2017-07-01 00:00:00</td>\n",
       "      <td>2017-07-01 00:06:05</td>\n",
       "      <td>539</td>\n",
       "      <td>Metropolitan Ave &amp; Bedford Ave</td>\n",
       "      <td>40.715348</td>\n",
       "      <td>-73.960241</td>\n",
       "      <td>3107</td>\n",
       "      <td>Bedford Ave &amp; Nassau Ave</td>\n",
       "      <td>40.723117</td>\n",
       "      <td>-73.952123</td>\n",
       "      <td>14744</td>\n",
       "      <td>Subscriber</td>\n",
       "      <td>1986.0</td>\n",
       "      <td>1</td>\n",
       "    </tr>\n",
       "    <tr>\n",
       "      <th>1</th>\n",
       "      <td>2142</td>\n",
       "      <td>2017-07-01 00:00:03</td>\n",
       "      <td>2017-07-01 00:35:46</td>\n",
       "      <td>293</td>\n",
       "      <td>Lafayette St &amp; E 8 St</td>\n",
       "      <td>40.730207</td>\n",
       "      <td>-73.991026</td>\n",
       "      <td>3425</td>\n",
       "      <td>2 Ave  &amp; E 104 St</td>\n",
       "      <td>40.789210</td>\n",
       "      <td>-73.943708</td>\n",
       "      <td>19587</td>\n",
       "      <td>Subscriber</td>\n",
       "      <td>1981.0</td>\n",
       "      <td>1</td>\n",
       "    </tr>\n",
       "    <tr>\n",
       "      <th>2</th>\n",
       "      <td>328</td>\n",
       "      <td>2017-07-01 00:00:08</td>\n",
       "      <td>2017-07-01 00:05:37</td>\n",
       "      <td>3242</td>\n",
       "      <td>Schermerhorn St &amp; Court St</td>\n",
       "      <td>40.691029</td>\n",
       "      <td>-73.991834</td>\n",
       "      <td>3397</td>\n",
       "      <td>Court St &amp; Nelson St</td>\n",
       "      <td>40.676395</td>\n",
       "      <td>-73.998699</td>\n",
       "      <td>27937</td>\n",
       "      <td>Subscriber</td>\n",
       "      <td>1984.0</td>\n",
       "      <td>2</td>\n",
       "    </tr>\n",
       "    <tr>\n",
       "      <th>3</th>\n",
       "      <td>2530</td>\n",
       "      <td>2017-07-01 00:00:11</td>\n",
       "      <td>2017-07-01 00:42:22</td>\n",
       "      <td>2002</td>\n",
       "      <td>Wythe Ave &amp; Metropolitan Ave</td>\n",
       "      <td>40.716887</td>\n",
       "      <td>-73.963198</td>\n",
       "      <td>398</td>\n",
       "      <td>Atlantic Ave &amp; Furman St</td>\n",
       "      <td>40.691652</td>\n",
       "      <td>-73.999979</td>\n",
       "      <td>26066</td>\n",
       "      <td>Subscriber</td>\n",
       "      <td>1985.0</td>\n",
       "      <td>1</td>\n",
       "    </tr>\n",
       "    <tr>\n",
       "      <th>4</th>\n",
       "      <td>2534</td>\n",
       "      <td>2017-07-01 00:00:15</td>\n",
       "      <td>2017-07-01 00:42:29</td>\n",
       "      <td>2002</td>\n",
       "      <td>Wythe Ave &amp; Metropolitan Ave</td>\n",
       "      <td>40.716887</td>\n",
       "      <td>-73.963198</td>\n",
       "      <td>398</td>\n",
       "      <td>Atlantic Ave &amp; Furman St</td>\n",
       "      <td>40.691652</td>\n",
       "      <td>-73.999979</td>\n",
       "      <td>29408</td>\n",
       "      <td>Subscriber</td>\n",
       "      <td>1982.0</td>\n",
       "      <td>2</td>\n",
       "    </tr>\n",
       "    <tr>\n",
       "      <th>5</th>\n",
       "      <td>545</td>\n",
       "      <td>2017-07-01 00:00:18</td>\n",
       "      <td>2017-07-01 00:09:24</td>\n",
       "      <td>361</td>\n",
       "      <td>Allen St &amp; Hester St</td>\n",
       "      <td>40.716059</td>\n",
       "      <td>-73.991908</td>\n",
       "      <td>502</td>\n",
       "      <td>Henry St &amp; Grand St</td>\n",
       "      <td>40.714215</td>\n",
       "      <td>-73.981346</td>\n",
       "      <td>21203</td>\n",
       "      <td>Subscriber</td>\n",
       "      <td>1954.0</td>\n",
       "      <td>2</td>\n",
       "    </tr>\n",
       "    <tr>\n",
       "      <th>6</th>\n",
       "      <td>1496</td>\n",
       "      <td>2017-07-01 00:00:18</td>\n",
       "      <td>2017-07-01 00:25:15</td>\n",
       "      <td>3233</td>\n",
       "      <td>E 48 St &amp; 5 Ave</td>\n",
       "      <td>40.757246</td>\n",
       "      <td>-73.978059</td>\n",
       "      <td>546</td>\n",
       "      <td>E 30 St &amp; Park Ave S</td>\n",
       "      <td>40.744449</td>\n",
       "      <td>-73.983035</td>\n",
       "      <td>15933</td>\n",
       "      <td>Customer</td>\n",
       "      <td>1971.0</td>\n",
       "      <td>1</td>\n",
       "    </tr>\n",
       "    <tr>\n",
       "      <th>7</th>\n",
       "      <td>1495</td>\n",
       "      <td>2017-07-01 00:00:19</td>\n",
       "      <td>2017-07-01 00:25:15</td>\n",
       "      <td>3233</td>\n",
       "      <td>E 48 St &amp; 5 Ave</td>\n",
       "      <td>40.757246</td>\n",
       "      <td>-73.978059</td>\n",
       "      <td>546</td>\n",
       "      <td>E 30 St &amp; Park Ave S</td>\n",
       "      <td>40.744449</td>\n",
       "      <td>-73.983035</td>\n",
       "      <td>18515</td>\n",
       "      <td>Customer</td>\n",
       "      <td>1964.0</td>\n",
       "      <td>2</td>\n",
       "    </tr>\n",
       "    <tr>\n",
       "      <th>8</th>\n",
       "      <td>593</td>\n",
       "      <td>2017-07-01 00:00:27</td>\n",
       "      <td>2017-07-01 00:10:20</td>\n",
       "      <td>3314</td>\n",
       "      <td>W 95 St &amp; Broadway</td>\n",
       "      <td>40.793770</td>\n",
       "      <td>-73.971888</td>\n",
       "      <td>3363</td>\n",
       "      <td>E 102 St &amp; Park Ave</td>\n",
       "      <td>40.790483</td>\n",
       "      <td>-73.950331</td>\n",
       "      <td>29135</td>\n",
       "      <td>Subscriber</td>\n",
       "      <td>1982.0</td>\n",
       "      <td>1</td>\n",
       "    </tr>\n",
       "    <tr>\n",
       "      <th>9</th>\n",
       "      <td>1950</td>\n",
       "      <td>2017-07-01 00:00:30</td>\n",
       "      <td>2017-07-01 00:33:00</td>\n",
       "      <td>3085</td>\n",
       "      <td>Roebling St &amp; N 4 St</td>\n",
       "      <td>40.714690</td>\n",
       "      <td>-73.957390</td>\n",
       "      <td>468</td>\n",
       "      <td>Broadway &amp; W 56 St</td>\n",
       "      <td>40.765265</td>\n",
       "      <td>-73.981923</td>\n",
       "      <td>17365</td>\n",
       "      <td>Subscriber</td>\n",
       "      <td>1983.0</td>\n",
       "      <td>1</td>\n",
       "    </tr>\n",
       "  </tbody>\n",
       "</table>\n",
       "</div>"
      ],
      "text/plain": [
       "   tripduration            starttime             stoptime  start station id  \\\n",
       "0           364  2017-07-01 00:00:00  2017-07-01 00:06:05               539   \n",
       "1          2142  2017-07-01 00:00:03  2017-07-01 00:35:46               293   \n",
       "2           328  2017-07-01 00:00:08  2017-07-01 00:05:37              3242   \n",
       "3          2530  2017-07-01 00:00:11  2017-07-01 00:42:22              2002   \n",
       "4          2534  2017-07-01 00:00:15  2017-07-01 00:42:29              2002   \n",
       "5           545  2017-07-01 00:00:18  2017-07-01 00:09:24               361   \n",
       "6          1496  2017-07-01 00:00:18  2017-07-01 00:25:15              3233   \n",
       "7          1495  2017-07-01 00:00:19  2017-07-01 00:25:15              3233   \n",
       "8           593  2017-07-01 00:00:27  2017-07-01 00:10:20              3314   \n",
       "9          1950  2017-07-01 00:00:30  2017-07-01 00:33:00              3085   \n",
       "\n",
       "               start station name  start station latitude  \\\n",
       "0  Metropolitan Ave & Bedford Ave               40.715348   \n",
       "1           Lafayette St & E 8 St               40.730207   \n",
       "2      Schermerhorn St & Court St               40.691029   \n",
       "3    Wythe Ave & Metropolitan Ave               40.716887   \n",
       "4    Wythe Ave & Metropolitan Ave               40.716887   \n",
       "5            Allen St & Hester St               40.716059   \n",
       "6                 E 48 St & 5 Ave               40.757246   \n",
       "7                 E 48 St & 5 Ave               40.757246   \n",
       "8              W 95 St & Broadway               40.793770   \n",
       "9            Roebling St & N 4 St               40.714690   \n",
       "\n",
       "   start station longitude  end station id          end station name  \\\n",
       "0               -73.960241            3107  Bedford Ave & Nassau Ave   \n",
       "1               -73.991026            3425         2 Ave  & E 104 St   \n",
       "2               -73.991834            3397      Court St & Nelson St   \n",
       "3               -73.963198             398  Atlantic Ave & Furman St   \n",
       "4               -73.963198             398  Atlantic Ave & Furman St   \n",
       "5               -73.991908             502       Henry St & Grand St   \n",
       "6               -73.978059             546      E 30 St & Park Ave S   \n",
       "7               -73.978059             546      E 30 St & Park Ave S   \n",
       "8               -73.971888            3363       E 102 St & Park Ave   \n",
       "9               -73.957390             468        Broadway & W 56 St   \n",
       "\n",
       "   end station latitude  end station longitude  bikeid    usertype  \\\n",
       "0             40.723117             -73.952123   14744  Subscriber   \n",
       "1             40.789210             -73.943708   19587  Subscriber   \n",
       "2             40.676395             -73.998699   27937  Subscriber   \n",
       "3             40.691652             -73.999979   26066  Subscriber   \n",
       "4             40.691652             -73.999979   29408  Subscriber   \n",
       "5             40.714215             -73.981346   21203  Subscriber   \n",
       "6             40.744449             -73.983035   15933    Customer   \n",
       "7             40.744449             -73.983035   18515    Customer   \n",
       "8             40.790483             -73.950331   29135  Subscriber   \n",
       "9             40.765265             -73.981923   17365  Subscriber   \n",
       "\n",
       "   birth year  gender  \n",
       "0      1986.0       1  \n",
       "1      1981.0       1  \n",
       "2      1984.0       2  \n",
       "3      1985.0       1  \n",
       "4      1982.0       2  \n",
       "5      1954.0       2  \n",
       "6      1971.0       1  \n",
       "7      1964.0       2  \n",
       "8      1982.0       1  \n",
       "9      1983.0       1  "
      ]
     },
     "execution_count": 41,
     "metadata": {},
     "output_type": "execute_result"
    }
   ],
   "source": [
    "import time\n",
    "import pandas as pd\n",
    "bikedata = pd.read_csv('./citibike-tripdata.csv')\n",
    "bikedata.head(10)"
   ]
  },
  {
   "cell_type": "markdown",
   "metadata": {},
   "source": [
    "## 2. 检查每个字段是否有缺失值，统计各字段缺失值比例，并将数值转化为百分比形式，保留两位小数，如9.99%；最后用平均数或众数填充。（0.5分）\n",
    "(注意填充时一定要符合具体含义)"
   ]
  },
  {
   "cell_type": "code",
   "execution_count": 2,
   "metadata": {},
   "outputs": [
    {
     "data": {
      "text/plain": [
       "tripduration                0.00%\n",
       "starttime                   0.00%\n",
       "stoptime                    0.00%\n",
       "start station id            0.00%\n",
       "start station name          0.00%\n",
       "start station latitude      0.00%\n",
       "start station longitude     0.00%\n",
       "end station id              0.00%\n",
       "end station name            0.00%\n",
       "end station latitude        0.00%\n",
       "end station longitude       0.00%\n",
       "bikeid                      0.00%\n",
       "usertype                    0.00%\n",
       "birth year                 13.17%\n",
       "gender                      0.00%\n",
       "dtype: object"
      ]
     },
     "execution_count": 2,
     "metadata": {},
     "output_type": "execute_result"
    }
   ],
   "source": [
    "(bikedata.isnull().sum() / bikedata.shape[0]).map(lambda x: '%.2f%%' % (x*100))"
   ]
  },
  {
   "cell_type": "code",
   "execution_count": 3,
   "metadata": {},
   "outputs": [],
   "source": [
    "# 发现只有birth year列有缺失值。考虑到年份的均值没有意义，所以选择用众数填充\n",
    "bikedata['birth year'] = bikedata['birth year'].fillna(bikedata['birth year'].mode()[0])"
   ]
  },
  {
   "cell_type": "markdown",
   "metadata": {},
   "source": [
    "## 3. 计算骑行时间(tripduration)字段的基本统计量，包括最大值、最小值、均值、方差及各个四分位数等。（0.5分）"
   ]
  },
  {
   "cell_type": "code",
   "execution_count": 4,
   "metadata": {},
   "outputs": [
    {
     "data": {
      "text/plain": [
       "count    1.735599e+06\n",
       "mean     1.060143e+03\n",
       "std      9.622457e+03\n",
       "min      6.100000e+01\n",
       "25%      3.950000e+02\n",
       "50%      6.760000e+02\n",
       "75%      1.183000e+03\n",
       "max      2.477222e+06\n",
       "Name: tripduration, dtype: float64"
      ]
     },
     "execution_count": 4,
     "metadata": {},
     "output_type": "execute_result"
    }
   ],
   "source": [
    "bikedata['tripduration'].describe()"
   ]
  },
  {
   "cell_type": "code",
   "execution_count": 5,
   "metadata": {},
   "outputs": [
    {
     "data": {
      "text/plain": [
       "92591672.1349108"
      ]
     },
     "execution_count": 5,
     "metadata": {},
     "output_type": "execute_result"
    }
   ],
   "source": [
    "# 计算方差\n",
    "bikedata['tripduration'].var()"
   ]
  },
  {
   "cell_type": "markdown",
   "metadata": {},
   "source": [
    "## 4. 统计骑行时间大于等于3天的记录个数，并将相应记录从原DataFrame中剔除。（0.5分）\n",
    "骑行时间(tripduration)字段的单位为秒"
   ]
  },
  {
   "cell_type": "code",
   "execution_count": 6,
   "metadata": {},
   "outputs": [
    {
     "data": {
      "text/plain": [
       "235"
      ]
     },
     "execution_count": 6,
     "metadata": {},
     "output_type": "execute_result"
    }
   ],
   "source": [
    "bikedata[bikedata['tripduration'] >= 3*24*60*60].shape[0]"
   ]
  },
  {
   "cell_type": "code",
   "execution_count": 7,
   "metadata": {},
   "outputs": [
    {
     "data": {
      "text/html": [
       "<div>\n",
       "<style scoped>\n",
       "    .dataframe tbody tr th:only-of-type {\n",
       "        vertical-align: middle;\n",
       "    }\n",
       "\n",
       "    .dataframe tbody tr th {\n",
       "        vertical-align: top;\n",
       "    }\n",
       "\n",
       "    .dataframe thead th {\n",
       "        text-align: right;\n",
       "    }\n",
       "</style>\n",
       "<table border=\"1\" class=\"dataframe\">\n",
       "  <thead>\n",
       "    <tr style=\"text-align: right;\">\n",
       "      <th></th>\n",
       "      <th>tripduration</th>\n",
       "      <th>starttime</th>\n",
       "      <th>stoptime</th>\n",
       "      <th>start station id</th>\n",
       "      <th>start station name</th>\n",
       "      <th>start station latitude</th>\n",
       "      <th>start station longitude</th>\n",
       "      <th>end station id</th>\n",
       "      <th>end station name</th>\n",
       "      <th>end station latitude</th>\n",
       "      <th>end station longitude</th>\n",
       "      <th>bikeid</th>\n",
       "      <th>usertype</th>\n",
       "      <th>birth year</th>\n",
       "      <th>gender</th>\n",
       "    </tr>\n",
       "  </thead>\n",
       "  <tbody>\n",
       "    <tr>\n",
       "      <th>0</th>\n",
       "      <td>364</td>\n",
       "      <td>2017-07-01 00:00:00</td>\n",
       "      <td>2017-07-01 00:06:05</td>\n",
       "      <td>539</td>\n",
       "      <td>Metropolitan Ave &amp; Bedford Ave</td>\n",
       "      <td>40.715348</td>\n",
       "      <td>-73.960241</td>\n",
       "      <td>3107</td>\n",
       "      <td>Bedford Ave &amp; Nassau Ave</td>\n",
       "      <td>40.723117</td>\n",
       "      <td>-73.952123</td>\n",
       "      <td>14744</td>\n",
       "      <td>Subscriber</td>\n",
       "      <td>1986.0</td>\n",
       "      <td>1</td>\n",
       "    </tr>\n",
       "    <tr>\n",
       "      <th>1</th>\n",
       "      <td>2142</td>\n",
       "      <td>2017-07-01 00:00:03</td>\n",
       "      <td>2017-07-01 00:35:46</td>\n",
       "      <td>293</td>\n",
       "      <td>Lafayette St &amp; E 8 St</td>\n",
       "      <td>40.730207</td>\n",
       "      <td>-73.991026</td>\n",
       "      <td>3425</td>\n",
       "      <td>2 Ave  &amp; E 104 St</td>\n",
       "      <td>40.789210</td>\n",
       "      <td>-73.943708</td>\n",
       "      <td>19587</td>\n",
       "      <td>Subscriber</td>\n",
       "      <td>1981.0</td>\n",
       "      <td>1</td>\n",
       "    </tr>\n",
       "    <tr>\n",
       "      <th>2</th>\n",
       "      <td>328</td>\n",
       "      <td>2017-07-01 00:00:08</td>\n",
       "      <td>2017-07-01 00:05:37</td>\n",
       "      <td>3242</td>\n",
       "      <td>Schermerhorn St &amp; Court St</td>\n",
       "      <td>40.691029</td>\n",
       "      <td>-73.991834</td>\n",
       "      <td>3397</td>\n",
       "      <td>Court St &amp; Nelson St</td>\n",
       "      <td>40.676395</td>\n",
       "      <td>-73.998699</td>\n",
       "      <td>27937</td>\n",
       "      <td>Subscriber</td>\n",
       "      <td>1984.0</td>\n",
       "      <td>2</td>\n",
       "    </tr>\n",
       "    <tr>\n",
       "      <th>3</th>\n",
       "      <td>2530</td>\n",
       "      <td>2017-07-01 00:00:11</td>\n",
       "      <td>2017-07-01 00:42:22</td>\n",
       "      <td>2002</td>\n",
       "      <td>Wythe Ave &amp; Metropolitan Ave</td>\n",
       "      <td>40.716887</td>\n",
       "      <td>-73.963198</td>\n",
       "      <td>398</td>\n",
       "      <td>Atlantic Ave &amp; Furman St</td>\n",
       "      <td>40.691652</td>\n",
       "      <td>-73.999979</td>\n",
       "      <td>26066</td>\n",
       "      <td>Subscriber</td>\n",
       "      <td>1985.0</td>\n",
       "      <td>1</td>\n",
       "    </tr>\n",
       "    <tr>\n",
       "      <th>4</th>\n",
       "      <td>2534</td>\n",
       "      <td>2017-07-01 00:00:15</td>\n",
       "      <td>2017-07-01 00:42:29</td>\n",
       "      <td>2002</td>\n",
       "      <td>Wythe Ave &amp; Metropolitan Ave</td>\n",
       "      <td>40.716887</td>\n",
       "      <td>-73.963198</td>\n",
       "      <td>398</td>\n",
       "      <td>Atlantic Ave &amp; Furman St</td>\n",
       "      <td>40.691652</td>\n",
       "      <td>-73.999979</td>\n",
       "      <td>29408</td>\n",
       "      <td>Subscriber</td>\n",
       "      <td>1982.0</td>\n",
       "      <td>2</td>\n",
       "    </tr>\n",
       "    <tr>\n",
       "      <th>...</th>\n",
       "      <td>...</td>\n",
       "      <td>...</td>\n",
       "      <td>...</td>\n",
       "      <td>...</td>\n",
       "      <td>...</td>\n",
       "      <td>...</td>\n",
       "      <td>...</td>\n",
       "      <td>...</td>\n",
       "      <td>...</td>\n",
       "      <td>...</td>\n",
       "      <td>...</td>\n",
       "      <td>...</td>\n",
       "      <td>...</td>\n",
       "      <td>...</td>\n",
       "      <td>...</td>\n",
       "    </tr>\n",
       "    <tr>\n",
       "      <th>1735594</th>\n",
       "      <td>560</td>\n",
       "      <td>2017-07-31 23:59:33</td>\n",
       "      <td>2017-08-01 00:08:53</td>\n",
       "      <td>3260</td>\n",
       "      <td>Mercer St &amp; Bleecker St</td>\n",
       "      <td>40.727064</td>\n",
       "      <td>-73.996621</td>\n",
       "      <td>236</td>\n",
       "      <td>St Marks Pl &amp; 2 Ave</td>\n",
       "      <td>40.728419</td>\n",
       "      <td>-73.987140</td>\n",
       "      <td>16126</td>\n",
       "      <td>Subscriber</td>\n",
       "      <td>1990.0</td>\n",
       "      <td>2</td>\n",
       "    </tr>\n",
       "    <tr>\n",
       "      <th>1735595</th>\n",
       "      <td>272</td>\n",
       "      <td>2017-07-31 23:59:35</td>\n",
       "      <td>2017-08-01 00:04:08</td>\n",
       "      <td>247</td>\n",
       "      <td>Perry St &amp; Bleecker St</td>\n",
       "      <td>40.735354</td>\n",
       "      <td>-74.004831</td>\n",
       "      <td>434</td>\n",
       "      <td>9 Ave &amp; W 18 St</td>\n",
       "      <td>40.743174</td>\n",
       "      <td>-74.003664</td>\n",
       "      <td>27684</td>\n",
       "      <td>Subscriber</td>\n",
       "      <td>1999.0</td>\n",
       "      <td>1</td>\n",
       "    </tr>\n",
       "    <tr>\n",
       "      <th>1735596</th>\n",
       "      <td>1211</td>\n",
       "      <td>2017-07-31 23:59:37</td>\n",
       "      <td>2017-08-01 00:19:49</td>\n",
       "      <td>3303</td>\n",
       "      <td>Butler St &amp; Court St</td>\n",
       "      <td>40.684989</td>\n",
       "      <td>-73.994403</td>\n",
       "      <td>3308</td>\n",
       "      <td>Kane St &amp; Clinton St</td>\n",
       "      <td>40.686176</td>\n",
       "      <td>-73.996453</td>\n",
       "      <td>28402</td>\n",
       "      <td>Subscriber</td>\n",
       "      <td>1975.0</td>\n",
       "      <td>2</td>\n",
       "    </tr>\n",
       "    <tr>\n",
       "      <th>1735597</th>\n",
       "      <td>547</td>\n",
       "      <td>2017-07-31 23:59:48</td>\n",
       "      <td>2017-08-01 00:08:56</td>\n",
       "      <td>276</td>\n",
       "      <td>Duane St &amp; Greenwich St</td>\n",
       "      <td>40.717488</td>\n",
       "      <td>-74.010455</td>\n",
       "      <td>127</td>\n",
       "      <td>Barrow St &amp; Hudson St</td>\n",
       "      <td>40.731724</td>\n",
       "      <td>-74.006744</td>\n",
       "      <td>30150</td>\n",
       "      <td>Subscriber</td>\n",
       "      <td>1992.0</td>\n",
       "      <td>1</td>\n",
       "    </tr>\n",
       "    <tr>\n",
       "      <th>1735598</th>\n",
       "      <td>1816</td>\n",
       "      <td>2017-07-31 23:59:57</td>\n",
       "      <td>2017-08-01 00:30:13</td>\n",
       "      <td>3091</td>\n",
       "      <td>Frost St &amp; Meeker St</td>\n",
       "      <td>40.717640</td>\n",
       "      <td>-73.948820</td>\n",
       "      <td>258</td>\n",
       "      <td>DeKalb Ave &amp; Vanderbilt Ave</td>\n",
       "      <td>40.689407</td>\n",
       "      <td>-73.968855</td>\n",
       "      <td>19643</td>\n",
       "      <td>Customer</td>\n",
       "      <td>1988.0</td>\n",
       "      <td>0</td>\n",
       "    </tr>\n",
       "  </tbody>\n",
       "</table>\n",
       "<p>1735364 rows × 15 columns</p>\n",
       "</div>"
      ],
      "text/plain": [
       "         tripduration            starttime             stoptime  \\\n",
       "0                 364  2017-07-01 00:00:00  2017-07-01 00:06:05   \n",
       "1                2142  2017-07-01 00:00:03  2017-07-01 00:35:46   \n",
       "2                 328  2017-07-01 00:00:08  2017-07-01 00:05:37   \n",
       "3                2530  2017-07-01 00:00:11  2017-07-01 00:42:22   \n",
       "4                2534  2017-07-01 00:00:15  2017-07-01 00:42:29   \n",
       "...               ...                  ...                  ...   \n",
       "1735594           560  2017-07-31 23:59:33  2017-08-01 00:08:53   \n",
       "1735595           272  2017-07-31 23:59:35  2017-08-01 00:04:08   \n",
       "1735596          1211  2017-07-31 23:59:37  2017-08-01 00:19:49   \n",
       "1735597           547  2017-07-31 23:59:48  2017-08-01 00:08:56   \n",
       "1735598          1816  2017-07-31 23:59:57  2017-08-01 00:30:13   \n",
       "\n",
       "         start station id              start station name  \\\n",
       "0                     539  Metropolitan Ave & Bedford Ave   \n",
       "1                     293           Lafayette St & E 8 St   \n",
       "2                    3242      Schermerhorn St & Court St   \n",
       "3                    2002    Wythe Ave & Metropolitan Ave   \n",
       "4                    2002    Wythe Ave & Metropolitan Ave   \n",
       "...                   ...                             ...   \n",
       "1735594              3260         Mercer St & Bleecker St   \n",
       "1735595               247          Perry St & Bleecker St   \n",
       "1735596              3303            Butler St & Court St   \n",
       "1735597               276         Duane St & Greenwich St   \n",
       "1735598              3091            Frost St & Meeker St   \n",
       "\n",
       "         start station latitude  start station longitude  end station id  \\\n",
       "0                     40.715348               -73.960241            3107   \n",
       "1                     40.730207               -73.991026            3425   \n",
       "2                     40.691029               -73.991834            3397   \n",
       "3                     40.716887               -73.963198             398   \n",
       "4                     40.716887               -73.963198             398   \n",
       "...                         ...                      ...             ...   \n",
       "1735594               40.727064               -73.996621             236   \n",
       "1735595               40.735354               -74.004831             434   \n",
       "1735596               40.684989               -73.994403            3308   \n",
       "1735597               40.717488               -74.010455             127   \n",
       "1735598               40.717640               -73.948820             258   \n",
       "\n",
       "                    end station name  end station latitude  \\\n",
       "0           Bedford Ave & Nassau Ave             40.723117   \n",
       "1                  2 Ave  & E 104 St             40.789210   \n",
       "2               Court St & Nelson St             40.676395   \n",
       "3           Atlantic Ave & Furman St             40.691652   \n",
       "4           Atlantic Ave & Furman St             40.691652   \n",
       "...                              ...                   ...   \n",
       "1735594          St Marks Pl & 2 Ave             40.728419   \n",
       "1735595              9 Ave & W 18 St             40.743174   \n",
       "1735596         Kane St & Clinton St             40.686176   \n",
       "1735597        Barrow St & Hudson St             40.731724   \n",
       "1735598  DeKalb Ave & Vanderbilt Ave             40.689407   \n",
       "\n",
       "         end station longitude  bikeid    usertype  birth year  gender  \n",
       "0                   -73.952123   14744  Subscriber      1986.0       1  \n",
       "1                   -73.943708   19587  Subscriber      1981.0       1  \n",
       "2                   -73.998699   27937  Subscriber      1984.0       2  \n",
       "3                   -73.999979   26066  Subscriber      1985.0       1  \n",
       "4                   -73.999979   29408  Subscriber      1982.0       2  \n",
       "...                        ...     ...         ...         ...     ...  \n",
       "1735594             -73.987140   16126  Subscriber      1990.0       2  \n",
       "1735595             -74.003664   27684  Subscriber      1999.0       1  \n",
       "1735596             -73.996453   28402  Subscriber      1975.0       2  \n",
       "1735597             -74.006744   30150  Subscriber      1992.0       1  \n",
       "1735598             -73.968855   19643    Customer      1988.0       0  \n",
       "\n",
       "[1735364 rows x 15 columns]"
      ]
     },
     "execution_count": 7,
     "metadata": {},
     "output_type": "execute_result"
    }
   ],
   "source": [
    "bikedata = bikedata.drop(bikedata[bikedata['tripduration'] >= 3*24*60*60].index)\n",
    "bikedata"
   ]
  },
  {
   "cell_type": "markdown",
   "metadata": {},
   "source": [
    "## 5. 检查站点id和站点name是否一一对应。如果有id相同name不同，或id不同name相同的，将这些记录从数据中剔除。（0.5分）"
   ]
  },
  {
   "cell_type": "code",
   "execution_count": 8,
   "metadata": {},
   "outputs": [
    {
     "data": {
      "text/html": [
       "<div>\n",
       "<style scoped>\n",
       "    .dataframe tbody tr th:only-of-type {\n",
       "        vertical-align: middle;\n",
       "    }\n",
       "\n",
       "    .dataframe tbody tr th {\n",
       "        vertical-align: top;\n",
       "    }\n",
       "\n",
       "    .dataframe thead th {\n",
       "        text-align: right;\n",
       "    }\n",
       "</style>\n",
       "<table border=\"1\" class=\"dataframe\">\n",
       "  <thead>\n",
       "    <tr style=\"text-align: right;\">\n",
       "      <th></th>\n",
       "      <th>id</th>\n",
       "      <th>name</th>\n",
       "    </tr>\n",
       "  </thead>\n",
       "  <tbody>\n",
       "    <tr>\n",
       "      <th>0</th>\n",
       "      <td>539</td>\n",
       "      <td>Metropolitan Ave &amp; Bedford Ave</td>\n",
       "    </tr>\n",
       "    <tr>\n",
       "      <th>1</th>\n",
       "      <td>293</td>\n",
       "      <td>Lafayette St &amp; E 8 St</td>\n",
       "    </tr>\n",
       "    <tr>\n",
       "      <th>2</th>\n",
       "      <td>3242</td>\n",
       "      <td>Schermerhorn St &amp; Court St</td>\n",
       "    </tr>\n",
       "    <tr>\n",
       "      <th>3</th>\n",
       "      <td>2002</td>\n",
       "      <td>Wythe Ave &amp; Metropolitan Ave</td>\n",
       "    </tr>\n",
       "    <tr>\n",
       "      <th>4</th>\n",
       "      <td>2002</td>\n",
       "      <td>Wythe Ave &amp; Metropolitan Ave</td>\n",
       "    </tr>\n",
       "    <tr>\n",
       "      <th>...</th>\n",
       "      <td>...</td>\n",
       "      <td>...</td>\n",
       "    </tr>\n",
       "    <tr>\n",
       "      <th>3470723</th>\n",
       "      <td>236</td>\n",
       "      <td>St Marks Pl &amp; 2 Ave</td>\n",
       "    </tr>\n",
       "    <tr>\n",
       "      <th>3470724</th>\n",
       "      <td>434</td>\n",
       "      <td>9 Ave &amp; W 18 St</td>\n",
       "    </tr>\n",
       "    <tr>\n",
       "      <th>3470725</th>\n",
       "      <td>3308</td>\n",
       "      <td>Kane St &amp; Clinton St</td>\n",
       "    </tr>\n",
       "    <tr>\n",
       "      <th>3470726</th>\n",
       "      <td>127</td>\n",
       "      <td>Barrow St &amp; Hudson St</td>\n",
       "    </tr>\n",
       "    <tr>\n",
       "      <th>3470727</th>\n",
       "      <td>258</td>\n",
       "      <td>DeKalb Ave &amp; Vanderbilt Ave</td>\n",
       "    </tr>\n",
       "  </tbody>\n",
       "</table>\n",
       "<p>3470728 rows × 2 columns</p>\n",
       "</div>"
      ],
      "text/plain": [
       "           id                            name\n",
       "0         539  Metropolitan Ave & Bedford Ave\n",
       "1         293           Lafayette St & E 8 St\n",
       "2        3242      Schermerhorn St & Court St\n",
       "3        2002    Wythe Ave & Metropolitan Ave\n",
       "4        2002    Wythe Ave & Metropolitan Ave\n",
       "...       ...                             ...\n",
       "3470723   236             St Marks Pl & 2 Ave\n",
       "3470724   434                 9 Ave & W 18 St\n",
       "3470725  3308            Kane St & Clinton St\n",
       "3470726   127           Barrow St & Hudson St\n",
       "3470727   258     DeKalb Ave & Vanderbilt Ave\n",
       "\n",
       "[3470728 rows x 2 columns]"
      ]
     },
     "execution_count": 8,
     "metadata": {},
     "output_type": "execute_result"
    }
   ],
   "source": [
    "start_id_name = bikedata[['start station id', 'start station name']].rename(columns={'start station id': 'id', 'start station name': 'name'})\n",
    "end_id_name = bikedata[['end station id', 'end station name']].rename(columns={'end station id': 'id', 'end station name': 'name'})\n",
    "\n",
    "# 将起点和终点的(id, name)数据拼接在一起\n",
    "id_name = pd.concat([start_id_name, end_id_name], ignore_index=True)\n",
    "id_name"
   ]
  },
  {
   "cell_type": "code",
   "execution_count": 9,
   "metadata": {},
   "outputs": [
    {
     "name": "stdout",
     "output_type": "stream",
     "text": [
      "1\n",
      "1\n"
     ]
    }
   ],
   "source": [
    "# 分别检查一个id最多对应几个不同的name、一个name最多对应几个不同的id\n",
    "print(id_name.groupby('id')['name'].nunique().max())\n",
    "print(id_name.groupby('name')['id'].nunique().max())\n",
    "# 发现所有id和name都是一一对应的"
   ]
  },
  {
   "cell_type": "markdown",
   "metadata": {},
   "source": [
    "## 6. 根据bikeid字段统计在数据中有多少辆不同的自行车。（0.5分）"
   ]
  },
  {
   "cell_type": "code",
   "execution_count": 10,
   "metadata": {},
   "outputs": [
    {
     "data": {
      "text/plain": [
       "10422"
      ]
     },
     "execution_count": 10,
     "metadata": {},
     "output_type": "execute_result"
    }
   ],
   "source": [
    "bikedata['bikeid'].nunique()"
   ]
  },
  {
   "cell_type": "markdown",
   "metadata": {},
   "source": [
    "## 7. 统计每辆自行车的骑行次数、总骑行时间、平均每次骑行时间、到过（出发或结束）的站点个数。（1.5分）\n",
    "生成以bikeid为index、指标为columns的DataFrame"
   ]
  },
  {
   "cell_type": "code",
   "execution_count": 11,
   "metadata": {},
   "outputs": [
    {
     "data": {
      "text/html": [
       "<div>\n",
       "<style scoped>\n",
       "    .dataframe tbody tr th:only-of-type {\n",
       "        vertical-align: middle;\n",
       "    }\n",
       "\n",
       "    .dataframe tbody tr th {\n",
       "        vertical-align: top;\n",
       "    }\n",
       "\n",
       "    .dataframe thead th {\n",
       "        text-align: right;\n",
       "    }\n",
       "</style>\n",
       "<table border=\"1\" class=\"dataframe\">\n",
       "  <thead>\n",
       "    <tr style=\"text-align: right;\">\n",
       "      <th></th>\n",
       "      <th>frequency</th>\n",
       "      <th>total time</th>\n",
       "      <th>mean time</th>\n",
       "      <th>num of start stations</th>\n",
       "      <th>num of end stations</th>\n",
       "      <th>num of stations</th>\n",
       "    </tr>\n",
       "    <tr>\n",
       "      <th>bikeid</th>\n",
       "      <th></th>\n",
       "      <th></th>\n",
       "      <th></th>\n",
       "      <th></th>\n",
       "      <th></th>\n",
       "      <th></th>\n",
       "    </tr>\n",
       "  </thead>\n",
       "  <tbody>\n",
       "    <tr>\n",
       "      <th>14529</th>\n",
       "      <td>104</td>\n",
       "      <td>201587</td>\n",
       "      <td>1938.336538</td>\n",
       "      <td>81</td>\n",
       "      <td>80</td>\n",
       "      <td>84</td>\n",
       "    </tr>\n",
       "    <tr>\n",
       "      <th>14530</th>\n",
       "      <td>153</td>\n",
       "      <td>110876</td>\n",
       "      <td>724.679739</td>\n",
       "      <td>121</td>\n",
       "      <td>124</td>\n",
       "      <td>128</td>\n",
       "    </tr>\n",
       "    <tr>\n",
       "      <th>14531</th>\n",
       "      <td>180</td>\n",
       "      <td>163721</td>\n",
       "      <td>909.561111</td>\n",
       "      <td>141</td>\n",
       "      <td>140</td>\n",
       "      <td>144</td>\n",
       "    </tr>\n",
       "    <tr>\n",
       "      <th>14532</th>\n",
       "      <td>58</td>\n",
       "      <td>73186</td>\n",
       "      <td>1261.827586</td>\n",
       "      <td>51</td>\n",
       "      <td>51</td>\n",
       "      <td>54</td>\n",
       "    </tr>\n",
       "    <tr>\n",
       "      <th>14533</th>\n",
       "      <td>195</td>\n",
       "      <td>173172</td>\n",
       "      <td>888.061538</td>\n",
       "      <td>148</td>\n",
       "      <td>150</td>\n",
       "      <td>153</td>\n",
       "    </tr>\n",
       "    <tr>\n",
       "      <th>...</th>\n",
       "      <td>...</td>\n",
       "      <td>...</td>\n",
       "      <td>...</td>\n",
       "      <td>...</td>\n",
       "      <td>...</td>\n",
       "      <td>...</td>\n",
       "    </tr>\n",
       "    <tr>\n",
       "      <th>30333</th>\n",
       "      <td>35</td>\n",
       "      <td>49890</td>\n",
       "      <td>1425.428571</td>\n",
       "      <td>30</td>\n",
       "      <td>30</td>\n",
       "      <td>30</td>\n",
       "    </tr>\n",
       "    <tr>\n",
       "      <th>30334</th>\n",
       "      <td>37</td>\n",
       "      <td>51598</td>\n",
       "      <td>1394.540541</td>\n",
       "      <td>35</td>\n",
       "      <td>35</td>\n",
       "      <td>36</td>\n",
       "    </tr>\n",
       "    <tr>\n",
       "      <th>30335</th>\n",
       "      <td>46</td>\n",
       "      <td>37499</td>\n",
       "      <td>815.195652</td>\n",
       "      <td>42</td>\n",
       "      <td>41</td>\n",
       "      <td>43</td>\n",
       "    </tr>\n",
       "    <tr>\n",
       "      <th>30336</th>\n",
       "      <td>43</td>\n",
       "      <td>50116</td>\n",
       "      <td>1165.488372</td>\n",
       "      <td>40</td>\n",
       "      <td>41</td>\n",
       "      <td>41</td>\n",
       "    </tr>\n",
       "    <tr>\n",
       "      <th>30337</th>\n",
       "      <td>27</td>\n",
       "      <td>17538</td>\n",
       "      <td>649.555556</td>\n",
       "      <td>25</td>\n",
       "      <td>25</td>\n",
       "      <td>26</td>\n",
       "    </tr>\n",
       "  </tbody>\n",
       "</table>\n",
       "<p>10422 rows × 6 columns</p>\n",
       "</div>"
      ],
      "text/plain": [
       "        frequency  total time    mean time  num of start stations  \\\n",
       "bikeid                                                              \n",
       "14529         104      201587  1938.336538                     81   \n",
       "14530         153      110876   724.679739                    121   \n",
       "14531         180      163721   909.561111                    141   \n",
       "14532          58       73186  1261.827586                     51   \n",
       "14533         195      173172   888.061538                    148   \n",
       "...           ...         ...          ...                    ...   \n",
       "30333          35       49890  1425.428571                     30   \n",
       "30334          37       51598  1394.540541                     35   \n",
       "30335          46       37499   815.195652                     42   \n",
       "30336          43       50116  1165.488372                     40   \n",
       "30337          27       17538   649.555556                     25   \n",
       "\n",
       "        num of end stations  num of stations  \n",
       "bikeid                                        \n",
       "14529                    80               84  \n",
       "14530                   124              128  \n",
       "14531                   140              144  \n",
       "14532                    51               54  \n",
       "14533                   150              153  \n",
       "...                     ...              ...  \n",
       "30333                    30               30  \n",
       "30334                    35               36  \n",
       "30335                    41               43  \n",
       "30336                    41               41  \n",
       "30337                    25               26  \n",
       "\n",
       "[10422 rows x 6 columns]"
      ]
     },
     "execution_count": 11,
     "metadata": {},
     "output_type": "execute_result"
    }
   ],
   "source": [
    "bike_groupby = bikedata.groupby('bikeid')  # 先生成groupby对象，避免计算每个统计值时都重复groupby一遍\n",
    "res = pd.DataFrame({\n",
    "    'frequency': bike_groupby.size(),\n",
    "    'total time': bike_groupby['tripduration'].sum(),\n",
    "    'mean time': bike_groupby['tripduration'].mean(),\n",
    "    'num of start stations': bike_groupby['start station id'].nunique(),\n",
    "    'num of end stations': bike_groupby['end station id'].nunique(),\n",
    "})\n",
    "\n",
    "# 如果将出发站点和结束站点算在一起统计\n",
    "start_stations = bikedata[['bikeid', 'start station id']].rename(columns={'start station id': 'station id'})\n",
    "end_stations = bikedata[['bikeid', 'end station id']].rename(columns={'end station id': 'station id'})\n",
    "stations = pd.concat([start_stations, end_stations])\n",
    "res['num of stations'] = stations.groupby('bikeid')['station id'].nunique()\n",
    "res"
   ]
  },
  {
   "cell_type": "code",
   "execution_count": 45,
   "metadata": {},
   "outputs": [
    {
     "data": {
      "text/plain": [
       "frequency                   184.000000\n",
       "total time               202960.000000\n",
       "mean time                  1103.043478\n",
       "num of start stations       132.000000\n",
       "num of end stations         133.000000\n",
       "num of stations             137.000000\n",
       "Name: 14744, dtype: float64"
      ]
     },
     "execution_count": 45,
     "metadata": {},
     "output_type": "execute_result"
    }
   ],
   "source": [
    "res.loc[14744, :]"
   ]
  },
  {
   "cell_type": "markdown",
   "metadata": {},
   "source": [
    "## 8. 统计出发站点、结束站点的个数，并考察两类站点的集合是否相等。（1分）"
   ]
  },
  {
   "cell_type": "code",
   "execution_count": 13,
   "metadata": {},
   "outputs": [
    {
     "name": "stdout",
     "output_type": "stream",
     "text": [
      "623\n",
      "634\n"
     ]
    },
    {
     "data": {
      "text/plain": [
       "False"
      ]
     },
     "execution_count": 13,
     "metadata": {},
     "output_type": "execute_result"
    }
   ],
   "source": [
    "# 出发站点的个数\n",
    "print(bikedata['start station id'].nunique())\n",
    "\n",
    "# 结束站点的个数\n",
    "print(bikedata['end station id'].nunique())\n",
    "\n",
    "# 出发站点和结束站点的个数都不同，所以两类站点的集合肯定不相等。验证如下：\n",
    "set(bikedata['start station id'].tolist()) == set(bikedata['end station id'].tolist())"
   ]
  },
  {
   "cell_type": "markdown",
   "metadata": {},
   "source": [
    "## 9. 统计以各站点作为起始站点和结束站点的行程数，并找到出发行程最多的前三个站点的id和name，和结束行程最多的前三个站点的id和name。（1分）"
   ]
  },
  {
   "cell_type": "code",
   "execution_count": 14,
   "metadata": {},
   "outputs": [
    {
     "data": {
      "text/plain": [
       "start station id  start station name                           \n",
       "72                W 52 St & 11 Ave                                 4019\n",
       "79                Franklin St & W Broadway                         2927\n",
       "82                St James Pl & Pearl St                           1320\n",
       "83                Atlantic Ave & Fort Greene Pl                    1664\n",
       "116               W 17 St & 8 Ave                                  4026\n",
       "                                                                   ... \n",
       "3472              W 15 St & 10 Ave                                 3767\n",
       "3474              6 Ave & Spring St                                1934\n",
       "3476              Norman Ave & Leonard St                           794\n",
       "3477              39 St & 2 Ave - Citi Bike HQ at Industry City      67\n",
       "3478              2 Ave & 36 St - Citi Bike HQ at Industry City     285\n",
       "Length: 623, dtype: int64"
      ]
     },
     "execution_count": 14,
     "metadata": {},
     "output_type": "execute_result"
    }
   ],
   "source": [
    "# 统计以各站点为出发站点的行程数\n",
    "station_start_trips = bikedata.groupby(['start station id', 'start station name']).size()\n",
    "station_start_trips"
   ]
  },
  {
   "cell_type": "code",
   "execution_count": 15,
   "metadata": {},
   "outputs": [
    {
     "data": {
      "text/plain": [
       "end station id  end station name                             \n",
       "72              W 52 St & 11 Ave                                 4023\n",
       "79              Franklin St & W Broadway                         2935\n",
       "82              St James Pl & Pearl St                           1335\n",
       "83              Atlantic Ave & Fort Greene Pl                    1904\n",
       "116             W 17 St & 8 Ave                                  4068\n",
       "                                                                 ... \n",
       "3472            W 15 St & 10 Ave                                 3865\n",
       "3474            6 Ave & Spring St                                1961\n",
       "3476            Norman Ave & Leonard St                           826\n",
       "3477            39 St & 2 Ave - Citi Bike HQ at Industry City      77\n",
       "3478            2 Ave & 36 St - Citi Bike HQ at Industry City     277\n",
       "Length: 634, dtype: int64"
      ]
     },
     "execution_count": 15,
     "metadata": {},
     "output_type": "execute_result"
    }
   ],
   "source": [
    "# 统计以各站点为结束站点的行程数\n",
    "station_end_trips = bikedata.groupby(['end station id', 'end station name']).size()\n",
    "station_end_trips"
   ]
  },
  {
   "cell_type": "code",
   "execution_count": 16,
   "metadata": {},
   "outputs": [
    {
     "data": {
      "text/plain": [
       "start station id  start station name   \n",
       "519               Pershing Square North    14853\n",
       "426               West St & Chambers St    14118\n",
       "514               12 Ave & W 40 St         12263\n",
       "dtype: int64"
      ]
     },
     "execution_count": 16,
     "metadata": {},
     "output_type": "execute_result"
    }
   ],
   "source": [
    "# 统计出发行程最多的站点及其出发行程数\n",
    "station_start_trips.nlargest(3)"
   ]
  },
  {
   "cell_type": "code",
   "execution_count": 17,
   "metadata": {},
   "outputs": [
    {
     "data": {
      "text/plain": [
       "end station id  end station name     \n",
       "426             West St & Chambers St    14795\n",
       "519             Pershing Square North    14469\n",
       "514             12 Ave & W 40 St         12690\n",
       "dtype: int64"
      ]
     },
     "execution_count": 17,
     "metadata": {},
     "output_type": "execute_result"
    }
   ],
   "source": [
    "# 统计结束行程最多的站点及其结束行程数\n",
    "station_end_trips.nlargest(3)"
   ]
  },
  {
   "cell_type": "markdown",
   "metadata": {},
   "source": [
    "## 10. 统计每天7:00-9:00最繁忙（出发和结束行程最多）的3个站点。（1分）\n",
    "（包括起始行程和结束行程）"
   ]
  },
  {
   "cell_type": "code",
   "execution_count": 18,
   "metadata": {},
   "outputs": [
    {
     "data": {
      "text/plain": [
       "id   name                 \n",
       "519  Pershing Square North    4897\n",
       "359  E 47 St & Park Ave       3995\n",
       "426  West St & Chambers St    2939\n",
       "dtype: int64"
      ]
     },
     "execution_count": 18,
     "metadata": {},
     "output_type": "execute_result"
    }
   ],
   "source": [
    "# 范围：出发时间在7:00-9:00之间的行程的出发站点 和 结束时间在7:00-9:00之间的行程的结束站点\n",
    "# 1. 先抽取出出发和结束时间，存入bikedata两个新的列\n",
    "get_hour_from_time = lambda s: s[11:13]\n",
    "bikedata['start hour'] = bikedata['starttime'].map(get_hour_from_time)\n",
    "bikedata['stop hour'] = bikedata['stoptime'].map(get_hour_from_time)\n",
    "\n",
    "# 2. 抽取出所有起始站点和结束站点的(id, name, hour)记录\n",
    "start_id_name_hour = bikedata[['start station id', 'start station name', 'start hour']].rename(columns={'start station id': 'id', 'start station name': 'name', 'start hour': 'hour'})\n",
    "end_id_name_hour = bikedata[['end station id', 'end station name', 'stop hour']].rename(columns={'end station id': 'id', 'end station name': 'name', 'stop hour': 'hour'})\n",
    "id_name_hour = pd.concat([start_id_name_hour, end_id_name_hour], ignore_index=True)\n",
    "\n",
    "# 3. 筛选出在时间范围内的记录\n",
    "id_name_hour = id_name_hour[id_name_hour['hour'].isin(['07', '08'])]\n",
    "\n",
    "# 4. 找到3个记录数最多的站点\n",
    "id_name_hour.groupby(['id', 'name']).size().nlargest(3)\n"
   ]
  },
  {
   "cell_type": "markdown",
   "metadata": {},
   "source": [
    "## 11. 统计每天17:00-19:00最繁忙的3条（有向）路线。（1分）\n",
    "（A->B与B->A算作两条不同路线）"
   ]
  },
  {
   "cell_type": "code",
   "execution_count": 19,
   "metadata": {},
   "outputs": [
    {
     "data": {
      "text/plain": [
       "start station id  start station name     end station id  end station name     \n",
       "402               Broadway & E 22 St     519             Pershing Square North    157\n",
       "505               6 Ave & W 33 St        519             Pershing Square North    150\n",
       "426               West St & Chambers St  514             12 Ave & W 40 St         148\n",
       "dtype: int64"
      ]
     },
     "execution_count": 19,
     "metadata": {},
     "output_type": "execute_result"
    }
   ],
   "source": [
    "# 范围：起始时间和终止时间都在17:00-19:00之间的记录\n",
    "bikedata_afternoon = bikedata[['start station id', 'start station name', 'end station id', 'end station name', 'start hour', 'stop hour']]\n",
    "bikedata_afternoon = bikedata_afternoon[bikedata_afternoon['start hour'].isin(['17', '18'])]\n",
    "bikedata_afternoon = bikedata_afternoon[bikedata_afternoon['stop hour'].isin(['17', '18'])]\n",
    "\n",
    "# 找到三条最繁忙的路线及出行次数\n",
    "bikedata_afternoon.groupby(['start station id', 'start station name', 'end station id', 'end station name']).size().nlargest(3)"
   ]
  },
  {
   "cell_type": "markdown",
   "metadata": {},
   "source": [
    "## 12. 统计usertype的中用户类型个数，并分析每类用户在骑行时长、每天骑行时间段上的差异（1.5分）"
   ]
  },
  {
   "cell_type": "code",
   "execution_count": 20,
   "metadata": {},
   "outputs": [
    {
     "data": {
      "text/plain": [
       "Subscriber    1473802\n",
       "Customer       261562\n",
       "Name: usertype, dtype: int64"
      ]
     },
     "execution_count": 20,
     "metadata": {},
     "output_type": "execute_result"
    }
   ],
   "source": [
    "# 查看有哪些usertype，以及每种usertype有多少条记录\n",
    "bikedata['usertype'].value_counts()"
   ]
  },
  {
   "cell_type": "code",
   "execution_count": 21,
   "metadata": {},
   "outputs": [
    {
     "data": {
      "text/plain": [
       "count    1.473802e+06\n",
       "mean     8.196182e+02\n",
       "std      1.852188e+03\n",
       "min      6.100000e+01\n",
       "25%      3.670000e+02\n",
       "50%      6.030000e+02\n",
       "75%      1.021000e+03\n",
       "max      2.575480e+05\n",
       "Name: tripduration, dtype: float64"
      ]
     },
     "execution_count": 21,
     "metadata": {},
     "output_type": "execute_result"
    }
   ],
   "source": [
    "# 分别取出每种usertype对应的记录，展示骑行时长的分布情况\n",
    "bikedata[bikedata['usertype'] == 'Subscriber']['tripduration'].describe()"
   ]
  },
  {
   "cell_type": "code",
   "execution_count": 22,
   "metadata": {},
   "outputs": [
    {
     "data": {
      "text/plain": [
       "count    261562.000000\n",
       "mean       1808.427623\n",
       "std        4784.126422\n",
       "min          61.000000\n",
       "25%         850.000000\n",
       "50%        1292.000000\n",
       "75%        1741.000000\n",
       "max      258623.000000\n",
       "Name: tripduration, dtype: float64"
      ]
     },
     "execution_count": 22,
     "metadata": {},
     "output_type": "execute_result"
    }
   ],
   "source": [
    "bikedata[bikedata['usertype'] == 'Customer']['tripduration'].describe()"
   ]
  },
  {
   "cell_type": "code",
   "execution_count": 23,
   "metadata": {},
   "outputs": [
    {
     "data": {
      "text/plain": [
       "<AxesSubplot:ylabel='Frequency'>"
      ]
     },
     "execution_count": 23,
     "metadata": {},
     "output_type": "execute_result"
    },
    {
     "data": {
      "image/png": "[encoded data removed]",
      "text/plain": [
       "<Figure size 432x288 with 1 Axes>"
      ]
     },
     "metadata": {
      "needs_background": "light"
     },
     "output_type": "display_data"
    }
   ],
   "source": [
    "# “分析每类用户每天骑行时间段上的差异”这个问题没有标准答案\n",
    "# 这里绘制两类用户骑行开始小时和结束小时的频数分布直方图作为抛砖引玉的示例\n",
    "import matplotlib.pyplot as plt\n",
    "\n",
    "# 取出两种用户骑行记录开始小时\n",
    "cus_start = bikedata[bikedata['usertype'] == 'Customer']['start hour'].map(int)\n",
    "sub_start = bikedata[bikedata['usertype'] == 'Subscriber']['start hour'].map(int)\n",
    "\n",
    "# 利用pd.DataFrame.plot.hist绘制直方图\n",
    "hist_start = pd.DataFrame({\n",
    "    'Subscriber': sub_start,\n",
    "    'Customer': cus_start\n",
    "})\n",
    "hist_start.plot.hist(alpha=0.7)"
   ]
  },
  {
   "cell_type": "code",
   "execution_count": 24,
   "metadata": {},
   "outputs": [
    {
     "data": {
      "text/plain": [
       "<AxesSubplot:ylabel='Frequency'>"
      ]
     },
     "execution_count": 24,
     "metadata": {},
     "output_type": "execute_result"
    },
    {
     "data": {
      "image/png": "[encoded data removed]",
      "text/plain": [
       "<Figure size 432x288 with 1 Axes>"
      ]
     },
     "metadata": {
      "needs_background": "light"
     },
     "output_type": "display_data"
    }
   ],
   "source": [
    "# 结束时间同理\n",
    "cus_stop = bikedata[bikedata['usertype'] == 'Customer']['stop hour'].map(int)\n",
    "sub_stop = bikedata[bikedata['usertype'] == 'Subscriber']['stop hour'].map(int)\n",
    "\n",
    "hist_stop = pd.DataFrame({\n",
    "    'Subscriber': sub_stop,\n",
    "    'Customer': cus_stop\n",
    "})\n",
    "hist_stop.plot.hist(alpha=0.7)"
   ]
  }
 ],
 "metadata": {
  "kernelspec": {
   "display_name": "Python 3",
   "language": "python",
   "name": "python3"
  },
  "language_info": {
   "codemirror_mode": {
    "name": "ipython",
    "version": 3
   },
   "file_extension": ".py",
   "mimetype": "text/x-python",
   "name": "python",
   "nbconvert_exporter": "python",
   "pygments_lexer": "ipython3",
   "version": "3.6.12"
  }
 },
 "nbformat": 4,
 "nbformat_minor": 2
}
