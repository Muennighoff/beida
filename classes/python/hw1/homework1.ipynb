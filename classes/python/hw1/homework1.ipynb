{
  "nbformat": 4,
  "nbformat_minor": 0,
  "metadata": {
    "kernelspec": {
      "display_name": "Python 3",
      "language": "python",
      "name": "python3"
    },
    "language_info": {
      "codemirror_mode": {
        "name": "ipython",
        "version": 3
      },
      "file_extension": ".py",
      "mimetype": "text/x-python",
      "name": "python",
      "nbconvert_exporter": "python",
      "pygments_lexer": "ipython3",
      "version": "3.6.5"
    },
    "colab": {
      "name": "Python数据分析-第一次作业.ipynb",
      "provenance": [],
      "collapsed_sections": [],
      "toc_visible": true
    }
  },
  "cells": [
    {
      "cell_type": "markdown",
      "metadata": {
        "id": "V9vxxQL2Zc8a"
      },
      "source": [
        "# Python数据分析第一次作业\n",
        "根据题目要求，完成对共享单车数据的分析   \n",
        "数据文件为在压缩包\"citibike-tripdata.csv.zip\"中，需要自行解压后进行处理。"
      ]
    },
    {
      "cell_type": "markdown",
      "metadata": {
        "id": "Mhzfzo4_Zc8f"
      },
      "source": [
        "## 1.读取数据，并显示前10行。（0.5分）"
      ]
    },
    {
      "cell_type": "code",
      "metadata": {
        "colab": {
          "base_uri": "https://localhost:8080/",
          "height": 809
        },
        "id": "YVgIlCWwZc8g",
        "outputId": "8ff28b4f-4dfe-4494-a803-bda8c5175398"
      },
      "source": [
        "import pandas as pd\n",
        "\n",
        "data = pd.read_csv(\"/content/citibike-tripdata.csv\")\n",
        "data.head(10)"
      ],
      "execution_count": 104,
      "outputs": [
        {
          "output_type": "execute_result",
          "data": {
            "text/html": [
              "<div>\n",
              "<style scoped>\n",
              "    .dataframe tbody tr th:only-of-type {\n",
              "        vertical-align: middle;\n",
              "    }\n",
              "\n",
              "    .dataframe tbody tr th {\n",
              "        vertical-align: top;\n",
              "    }\n",
              "\n",
              "    .dataframe thead th {\n",
              "        text-align: right;\n",
              "    }\n",
              "</style>\n",
              "<table border=\"1\" class=\"dataframe\">\n",
              "  <thead>\n",
              "    <tr style=\"text-align: right;\">\n",
              "      <th></th>\n",
              "      <th>tripduration</th>\n",
              "      <th>starttime</th>\n",
              "      <th>stoptime</th>\n",
              "      <th>start station id</th>\n",
              "      <th>start station name</th>\n",
              "      <th>start station latitude</th>\n",
              "      <th>start station longitude</th>\n",
              "      <th>end station id</th>\n",
              "      <th>end station name</th>\n",
              "      <th>end station latitude</th>\n",
              "      <th>end station longitude</th>\n",
              "      <th>bikeid</th>\n",
              "      <th>usertype</th>\n",
              "      <th>birth year</th>\n",
              "      <th>gender</th>\n",
              "    </tr>\n",
              "  </thead>\n",
              "  <tbody>\n",
              "    <tr>\n",
              "      <th>0</th>\n",
              "      <td>364</td>\n",
              "      <td>2017-07-01 00:00:00</td>\n",
              "      <td>2017-07-01 00:06:05</td>\n",
              "      <td>539</td>\n",
              "      <td>Metropolitan Ave &amp; Bedford Ave</td>\n",
              "      <td>40.72</td>\n",
              "      <td>-73.96</td>\n",
              "      <td>3107</td>\n",
              "      <td>Bedford Ave &amp; Nassau Ave</td>\n",
              "      <td>40.72</td>\n",
              "      <td>-73.95</td>\n",
              "      <td>14744</td>\n",
              "      <td>Subscriber</td>\n",
              "      <td>1986.00</td>\n",
              "      <td>1</td>\n",
              "    </tr>\n",
              "    <tr>\n",
              "      <th>1</th>\n",
              "      <td>2142</td>\n",
              "      <td>2017-07-01 00:00:03</td>\n",
              "      <td>2017-07-01 00:35:46</td>\n",
              "      <td>293</td>\n",
              "      <td>Lafayette St &amp; E 8 St</td>\n",
              "      <td>40.73</td>\n",
              "      <td>-73.99</td>\n",
              "      <td>3425</td>\n",
              "      <td>2 Ave  &amp; E 104 St</td>\n",
              "      <td>40.79</td>\n",
              "      <td>-73.94</td>\n",
              "      <td>19587</td>\n",
              "      <td>Subscriber</td>\n",
              "      <td>1981.00</td>\n",
              "      <td>1</td>\n",
              "    </tr>\n",
              "    <tr>\n",
              "      <th>2</th>\n",
              "      <td>328</td>\n",
              "      <td>2017-07-01 00:00:08</td>\n",
              "      <td>2017-07-01 00:05:37</td>\n",
              "      <td>3242</td>\n",
              "      <td>Schermerhorn St &amp; Court St</td>\n",
              "      <td>40.69</td>\n",
              "      <td>-73.99</td>\n",
              "      <td>3397</td>\n",
              "      <td>Court St &amp; Nelson St</td>\n",
              "      <td>40.68</td>\n",
              "      <td>-74.00</td>\n",
              "      <td>27937</td>\n",
              "      <td>Subscriber</td>\n",
              "      <td>1984.00</td>\n",
              "      <td>2</td>\n",
              "    </tr>\n",
              "    <tr>\n",
              "      <th>3</th>\n",
              "      <td>2530</td>\n",
              "      <td>2017-07-01 00:00:11</td>\n",
              "      <td>2017-07-01 00:42:22</td>\n",
              "      <td>2002</td>\n",
              "      <td>Wythe Ave &amp; Metropolitan Ave</td>\n",
              "      <td>40.72</td>\n",
              "      <td>-73.96</td>\n",
              "      <td>398</td>\n",
              "      <td>Atlantic Ave &amp; Furman St</td>\n",
              "      <td>40.69</td>\n",
              "      <td>-74.00</td>\n",
              "      <td>26066</td>\n",
              "      <td>Subscriber</td>\n",
              "      <td>1985.00</td>\n",
              "      <td>1</td>\n",
              "    </tr>\n",
              "    <tr>\n",
              "      <th>4</th>\n",
              "      <td>2534</td>\n",
              "      <td>2017-07-01 00:00:15</td>\n",
              "      <td>2017-07-01 00:42:29</td>\n",
              "      <td>2002</td>\n",
              "      <td>Wythe Ave &amp; Metropolitan Ave</td>\n",
              "      <td>40.72</td>\n",
              "      <td>-73.96</td>\n",
              "      <td>398</td>\n",
              "      <td>Atlantic Ave &amp; Furman St</td>\n",
              "      <td>40.69</td>\n",
              "      <td>-74.00</td>\n",
              "      <td>29408</td>\n",
              "      <td>Subscriber</td>\n",
              "      <td>1982.00</td>\n",
              "      <td>2</td>\n",
              "    </tr>\n",
              "    <tr>\n",
              "      <th>5</th>\n",
              "      <td>545</td>\n",
              "      <td>2017-07-01 00:00:18</td>\n",
              "      <td>2017-07-01 00:09:24</td>\n",
              "      <td>361</td>\n",
              "      <td>Allen St &amp; Hester St</td>\n",
              "      <td>40.72</td>\n",
              "      <td>-73.99</td>\n",
              "      <td>502</td>\n",
              "      <td>Henry St &amp; Grand St</td>\n",
              "      <td>40.71</td>\n",
              "      <td>-73.98</td>\n",
              "      <td>21203</td>\n",
              "      <td>Subscriber</td>\n",
              "      <td>1954.00</td>\n",
              "      <td>2</td>\n",
              "    </tr>\n",
              "    <tr>\n",
              "      <th>6</th>\n",
              "      <td>1496</td>\n",
              "      <td>2017-07-01 00:00:18</td>\n",
              "      <td>2017-07-01 00:25:15</td>\n",
              "      <td>3233</td>\n",
              "      <td>E 48 St &amp; 5 Ave</td>\n",
              "      <td>40.76</td>\n",
              "      <td>-73.98</td>\n",
              "      <td>546</td>\n",
              "      <td>E 30 St &amp; Park Ave S</td>\n",
              "      <td>40.74</td>\n",
              "      <td>-73.98</td>\n",
              "      <td>15933</td>\n",
              "      <td>Customer</td>\n",
              "      <td>1971.00</td>\n",
              "      <td>1</td>\n",
              "    </tr>\n",
              "    <tr>\n",
              "      <th>7</th>\n",
              "      <td>1495</td>\n",
              "      <td>2017-07-01 00:00:19</td>\n",
              "      <td>2017-07-01 00:25:15</td>\n",
              "      <td>3233</td>\n",
              "      <td>E 48 St &amp; 5 Ave</td>\n",
              "      <td>40.76</td>\n",
              "      <td>-73.98</td>\n",
              "      <td>546</td>\n",
              "      <td>E 30 St &amp; Park Ave S</td>\n",
              "      <td>40.74</td>\n",
              "      <td>-73.98</td>\n",
              "      <td>18515</td>\n",
              "      <td>Customer</td>\n",
              "      <td>1964.00</td>\n",
              "      <td>2</td>\n",
              "    </tr>\n",
              "    <tr>\n",
              "      <th>8</th>\n",
              "      <td>593</td>\n",
              "      <td>2017-07-01 00:00:27</td>\n",
              "      <td>2017-07-01 00:10:20</td>\n",
              "      <td>3314</td>\n",
              "      <td>W 95 St &amp; Broadway</td>\n",
              "      <td>40.79</td>\n",
              "      <td>-73.97</td>\n",
              "      <td>3363</td>\n",
              "      <td>E 102 St &amp; Park Ave</td>\n",
              "      <td>40.79</td>\n",
              "      <td>-73.95</td>\n",
              "      <td>29135</td>\n",
              "      <td>Subscriber</td>\n",
              "      <td>1982.00</td>\n",
              "      <td>1</td>\n",
              "    </tr>\n",
              "    <tr>\n",
              "      <th>9</th>\n",
              "      <td>1950</td>\n",
              "      <td>2017-07-01 00:00:30</td>\n",
              "      <td>2017-07-01 00:33:00</td>\n",
              "      <td>3085</td>\n",
              "      <td>Roebling St &amp; N 4 St</td>\n",
              "      <td>40.71</td>\n",
              "      <td>-73.96</td>\n",
              "      <td>468</td>\n",
              "      <td>Broadway &amp; W 56 St</td>\n",
              "      <td>40.77</td>\n",
              "      <td>-73.98</td>\n",
              "      <td>17365</td>\n",
              "      <td>Subscriber</td>\n",
              "      <td>1983.00</td>\n",
              "      <td>1</td>\n",
              "    </tr>\n",
              "  </tbody>\n",
              "</table>\n",
              "</div>"
            ],
            "text/plain": [
              "   tripduration            starttime  ... birth year  gender\n",
              "0           364  2017-07-01 00:00:00  ...    1986.00       1\n",
              "1          2142  2017-07-01 00:00:03  ...    1981.00       1\n",
              "2           328  2017-07-01 00:00:08  ...    1984.00       2\n",
              "3          2530  2017-07-01 00:00:11  ...    1985.00       1\n",
              "4          2534  2017-07-01 00:00:15  ...    1982.00       2\n",
              "5           545  2017-07-01 00:00:18  ...    1954.00       2\n",
              "6          1496  2017-07-01 00:00:18  ...    1971.00       1\n",
              "7          1495  2017-07-01 00:00:19  ...    1964.00       2\n",
              "8           593  2017-07-01 00:00:27  ...    1982.00       1\n",
              "9          1950  2017-07-01 00:00:30  ...    1983.00       1\n",
              "\n",
              "[10 rows x 15 columns]"
            ]
          },
          "metadata": {
            "tags": []
          },
          "execution_count": 104
        }
      ]
    },
    {
      "cell_type": "markdown",
      "metadata": {
        "id": "HGUATnneZc8h"
      },
      "source": [
        "## 2. 检查每个字段是否有缺失值，统计各字段缺失值比例，并将数值转化为百分比形式，保留两位小数，如9.99%；最后用平均数或众数填充。（0.5分）\n",
        "(注意填充时一定要符合具体含义)"
      ]
    },
    {
      "cell_type": "code",
      "metadata": {
        "colab": {
          "base_uri": "https://localhost:8080/"
        },
        "id": "rEC7D5J5Zc8h",
        "outputId": "7cefcb6b-233b-40a4-c42a-130b142661c7"
      },
      "source": [
        "# 检查\n",
        "# NaN only in birth year\n",
        "print(\"检查\\n\", data.isnull().sum())\n",
        "\n",
        "# 比例\n",
        "print(\"比例\\n\", data[\"birth year\"].isnull().sum() / len(data[\"birth year\"]))\n",
        "\n",
        "# 百分比\n",
        "print(\"百分比\\n\", round(data[\"birth year\"].isnull().sum() / len(data[\"birth year\"]) * 100, 2), \"%\")\n",
        "\n",
        "# 填充\n",
        "data[\"birth year\"].fillna(data[\"birth year\"].mean(), inplace=True)\n",
        "print(\"新比例\\n\", data[\"birth year\"].isnull().sum() / len(data[\"birth year\"]))"
      ],
      "execution_count": 105,
      "outputs": [
        {
          "output_type": "stream",
          "text": [
            "检查\n",
            " tripduration                    0\n",
            "starttime                       0\n",
            "stoptime                        0\n",
            "start station id                0\n",
            "start station name              0\n",
            "start station latitude          0\n",
            "start station longitude         0\n",
            "end station id                  0\n",
            "end station name                0\n",
            "end station latitude            0\n",
            "end station longitude           0\n",
            "bikeid                          0\n",
            "usertype                        0\n",
            "birth year                 228596\n",
            "gender                          0\n",
            "dtype: int64\n",
            "比例\n",
            " 0.13171014733241954\n",
            "百分比\n",
            " 13.17 %\n",
            "新比例\n",
            " 0.0\n"
          ],
          "name": "stdout"
        }
      ]
    },
    {
      "cell_type": "markdown",
      "metadata": {
        "id": "Y5BUmh9aZc8h"
      },
      "source": [
        "## 3. 计算骑行时间(tripduration)字段的基本统计量，包括最大值、最小值、均值、方差及各个四分位数等。（0.5分）"
      ]
    },
    {
      "cell_type": "code",
      "metadata": {
        "colab": {
          "base_uri": "https://localhost:8080/"
        },
        "id": "pPOLHj3DZc8i",
        "outputId": "af194d1c-f04e-4d0f-d09f-babd2ed16d48"
      },
      "source": [
        "pd.options.display.float_format = '{:.2f}'.format\n",
        "\n",
        "# 基本统计量\n",
        "print(\"基本统计量\\n\", data[\"tripduration\"].describe())\n",
        "\n",
        "# 方差\n",
        "print(\"方差\\n\", round(data[\"tripduration\"].var(), 2))"
      ],
      "execution_count": 106,
      "outputs": [
        {
          "output_type": "stream",
          "text": [
            "基本统计量\n",
            " count   1735599.00\n",
            "mean       1060.14\n",
            "std        9622.46\n",
            "min          61.00\n",
            "25%         395.00\n",
            "50%         676.00\n",
            "75%        1183.00\n",
            "max     2477222.00\n",
            "Name: tripduration, dtype: float64\n",
            "方差\n",
            " 92591672.13\n"
          ],
          "name": "stdout"
        }
      ]
    },
    {
      "cell_type": "markdown",
      "metadata": {
        "id": "fI9LGTrKZc8i"
      },
      "source": [
        "## 4. 统计骑行时间大于等于3天的记录个数，并将相应记录从原DataFrame中剔除。（0.5分）\n",
        "骑行时间(tripduration)字段的单位为秒"
      ]
    },
    {
      "cell_type": "code",
      "metadata": {
        "colab": {
          "base_uri": "https://localhost:8080/"
        },
        "id": "_6cxQNoOZc8i",
        "outputId": "ce8c30bf-78fc-4f5e-dbf2-a0a1007a8b93"
      },
      "source": [
        "# 统计\n",
        "print(\"统计\\n\", data.loc[data[\"tripduration\"] >= 60*60*24*3][\"tripduration\"].count())\n",
        "\n",
        "# 剔除\n",
        "data.drop(data.loc[data[\"tripduration\"] >= 60*60*24*3].index, inplace=True)"
      ],
      "execution_count": 107,
      "outputs": [
        {
          "output_type": "stream",
          "text": [
            "统计\n",
            " 235\n"
          ],
          "name": "stdout"
        }
      ]
    },
    {
      "cell_type": "markdown",
      "metadata": {
        "id": "r7SKYZyNZc8i"
      },
      "source": [
        "## 5. 检查站点id和站点name是否一一对应。如果有id相同name不同，或id不同name相同的，将这些记录从数据中剔除。（0.5分）"
      ]
    },
    {
      "cell_type": "code",
      "metadata": {
        "colab": {
          "base_uri": "https://localhost:8080/"
        },
        "id": "MEhC-usAk5GI",
        "outputId": "774ef707-a202-4217-d0e9-9df66f53d0d9"
      },
      "source": [
        "sub_start = data[[\"start station id\", \"start station name\"]]\n",
        "sub_end = data[[\"end station id\", \"end station name\"]].rename(columns={\"end station id\": \"start station id\", \n",
        "                                                                       \"end station name\": \"start station name\"})\n",
        "# 是否单射\n",
        "print(pd.concat([sub_start, sub_end]).groupby([\"start station id\"]).nunique().value_counts())\n",
        "print(pd.concat([sub_start, sub_end]).groupby([\"start station name\"]).nunique().value_counts())\n",
        "\n",
        "# 没有相同+不同的"
      ],
      "execution_count": 127,
      "outputs": [
        {
          "output_type": "stream",
          "text": [
            "start station name\n",
            "1                     634\n",
            "dtype: int64\n",
            "start station id\n",
            "1                   634\n",
            "dtype: int64\n"
          ],
          "name": "stdout"
        }
      ]
    },
    {
      "cell_type": "markdown",
      "metadata": {
        "id": "G_jRjEgTZc8j"
      },
      "source": [
        "## 6. 根据bikeid字段统计在数据中有多少辆不同的自行车。（0.5分）"
      ]
    },
    {
      "cell_type": "code",
      "metadata": {
        "colab": {
          "base_uri": "https://localhost:8080/"
        },
        "id": "DBN641KdZc8j",
        "outputId": "51af63d8-0298-45cd-ca29-304525dbff89"
      },
      "source": [
        "print(\"不同的自行车\\n\", data['bikeid'].nunique())"
      ],
      "execution_count": 128,
      "outputs": [
        {
          "output_type": "stream",
          "text": [
            "不同的自行车\n",
            " 10422\n"
          ],
          "name": "stdout"
        }
      ]
    },
    {
      "cell_type": "markdown",
      "metadata": {
        "id": "a3HxsOsYZc8j"
      },
      "source": [
        "## 7. 统计每辆自行车的骑行次数、总骑行时间、平均每次骑行时间、到过（出发或结束）的站点个数。（1.5分）\n",
        "生成以bikeid为index、指标为columns的DataFrame"
      ]
    },
    {
      "cell_type": "code",
      "metadata": {
        "colab": {
          "base_uri": "https://localhost:8080/",
          "height": 417
        },
        "id": "U76KkPtAZc8j",
        "outputId": "47efa1c1-71e6-4bf0-b71a-f38779ba556f"
      },
      "source": [
        "# 骑行次数\n",
        "\n",
        "subdata = data.groupby([\"bikeid\"]).agg({'tripduration':['count', 'sum', 'mean'], \n",
        "                                        'start station id':'count',\n",
        "                                        })\n",
        "subdata.head(10)"
      ],
      "execution_count": 130,
      "outputs": [
        {
          "output_type": "execute_result",
          "data": {
            "text/html": [
              "<div>\n",
              "<style scoped>\n",
              "    .dataframe tbody tr th:only-of-type {\n",
              "        vertical-align: middle;\n",
              "    }\n",
              "\n",
              "    .dataframe tbody tr th {\n",
              "        vertical-align: top;\n",
              "    }\n",
              "\n",
              "    .dataframe thead tr th {\n",
              "        text-align: left;\n",
              "    }\n",
              "\n",
              "    .dataframe thead tr:last-of-type th {\n",
              "        text-align: right;\n",
              "    }\n",
              "</style>\n",
              "<table border=\"1\" class=\"dataframe\">\n",
              "  <thead>\n",
              "    <tr>\n",
              "      <th></th>\n",
              "      <th colspan=\"3\" halign=\"left\">tripduration</th>\n",
              "      <th>start station id</th>\n",
              "    </tr>\n",
              "    <tr>\n",
              "      <th></th>\n",
              "      <th>count</th>\n",
              "      <th>sum</th>\n",
              "      <th>mean</th>\n",
              "      <th>count</th>\n",
              "    </tr>\n",
              "    <tr>\n",
              "      <th>bikeid</th>\n",
              "      <th></th>\n",
              "      <th></th>\n",
              "      <th></th>\n",
              "      <th></th>\n",
              "    </tr>\n",
              "  </thead>\n",
              "  <tbody>\n",
              "    <tr>\n",
              "      <th>14529</th>\n",
              "      <td>104</td>\n",
              "      <td>201587</td>\n",
              "      <td>1938.34</td>\n",
              "      <td>104</td>\n",
              "    </tr>\n",
              "    <tr>\n",
              "      <th>14530</th>\n",
              "      <td>153</td>\n",
              "      <td>110876</td>\n",
              "      <td>724.68</td>\n",
              "      <td>153</td>\n",
              "    </tr>\n",
              "    <tr>\n",
              "      <th>14531</th>\n",
              "      <td>180</td>\n",
              "      <td>163721</td>\n",
              "      <td>909.56</td>\n",
              "      <td>180</td>\n",
              "    </tr>\n",
              "    <tr>\n",
              "      <th>14532</th>\n",
              "      <td>58</td>\n",
              "      <td>73186</td>\n",
              "      <td>1261.83</td>\n",
              "      <td>58</td>\n",
              "    </tr>\n",
              "    <tr>\n",
              "      <th>14533</th>\n",
              "      <td>195</td>\n",
              "      <td>173172</td>\n",
              "      <td>888.06</td>\n",
              "      <td>195</td>\n",
              "    </tr>\n",
              "    <tr>\n",
              "      <th>14534</th>\n",
              "      <td>176</td>\n",
              "      <td>160478</td>\n",
              "      <td>911.81</td>\n",
              "      <td>176</td>\n",
              "    </tr>\n",
              "    <tr>\n",
              "      <th>14535</th>\n",
              "      <td>174</td>\n",
              "      <td>155612</td>\n",
              "      <td>894.32</td>\n",
              "      <td>174</td>\n",
              "    </tr>\n",
              "    <tr>\n",
              "      <th>14536</th>\n",
              "      <td>172</td>\n",
              "      <td>193246</td>\n",
              "      <td>1123.52</td>\n",
              "      <td>172</td>\n",
              "    </tr>\n",
              "    <tr>\n",
              "      <th>14537</th>\n",
              "      <td>163</td>\n",
              "      <td>153934</td>\n",
              "      <td>944.38</td>\n",
              "      <td>163</td>\n",
              "    </tr>\n",
              "    <tr>\n",
              "      <th>14539</th>\n",
              "      <td>158</td>\n",
              "      <td>196166</td>\n",
              "      <td>1241.56</td>\n",
              "      <td>158</td>\n",
              "    </tr>\n",
              "  </tbody>\n",
              "</table>\n",
              "</div>"
            ],
            "text/plain": [
              "       tripduration                 start station id\n",
              "              count     sum    mean            count\n",
              "bikeid                                              \n",
              "14529           104  201587 1938.34              104\n",
              "14530           153  110876  724.68              153\n",
              "14531           180  163721  909.56              180\n",
              "14532            58   73186 1261.83               58\n",
              "14533           195  173172  888.06              195\n",
              "14534           176  160478  911.81              176\n",
              "14535           174  155612  894.32              174\n",
              "14536           172  193246 1123.52              172\n",
              "14537           163  153934  944.38              163\n",
              "14539           158  196166 1241.56              158"
            ]
          },
          "metadata": {
            "tags": []
          },
          "execution_count": 130
        }
      ]
    },
    {
      "cell_type": "markdown",
      "metadata": {
        "id": "I38q4DVcZc8j"
      },
      "source": [
        "## 8. 统计出发站点、结束站点的个数，并考察两类站点的集合是否相等。（1分）"
      ]
    },
    {
      "cell_type": "code",
      "metadata": {
        "colab": {
          "base_uri": "https://localhost:8080/"
        },
        "id": "32958cXkZc8k",
        "outputId": "a6c38ebc-06e3-4a59-a6e4-e837bf02a5a0"
      },
      "source": [
        "# 不一样 - 好像有更多结束站\n",
        "# 可能是因为有客户把自行车放在一个很隔离的站点；然后没有人从哪里开始\n",
        "print(\"统计\\n\", data['start station id'].nunique(), data['end station id'].nunique())"
      ],
      "execution_count": 100,
      "outputs": [
        {
          "output_type": "stream",
          "text": [
            "统计\n",
            " 623 634\n"
          ],
          "name": "stdout"
        }
      ]
    },
    {
      "cell_type": "markdown",
      "metadata": {
        "id": "34jsV-VVZc8k"
      },
      "source": [
        "## 9. 统计以各站点作为起始站点和结束站点的行程数，并找到出发行程最多的前三个站点的id和name，和结束行程最多的前三个站点的id和name。（1分）"
      ]
    },
    {
      "cell_type": "code",
      "metadata": {
        "colab": {
          "base_uri": "https://localhost:8080/"
        },
        "id": "v0PWpCsOZc8k",
        "outputId": "c1c158c7-9f91-44ca-e65d-bc75a511da56"
      },
      "source": [
        "print(\"起始站点\\n\", data.groupby([\"start station id\", \"start station name\"]).size().reset_index().sort_values(by=0, ascending=False)[:3])\n",
        "\n",
        "print(\"\\n结束站点\\n\", data.groupby([\"end station id\", \"end station name\"]).size().reset_index().sort_values(by=0, ascending=False)[:3])"
      ],
      "execution_count": 136,
      "outputs": [
        {
          "output_type": "stream",
          "text": [
            "起始站点\n",
            "      start station id     start station name      0\n",
            "264               519  Pershing Square North  14853\n",
            "184               426  West St & Chambers St  14118\n",
            "259               514       12 Ave & W 40 St  12263\n",
            "\n",
            "结束站点\n",
            "      end station id       end station name      0\n",
            "184             426  West St & Chambers St  14795\n",
            "264             519  Pershing Square North  14469\n",
            "259             514       12 Ave & W 40 St  12690\n"
          ],
          "name": "stdout"
        }
      ]
    },
    {
      "cell_type": "markdown",
      "metadata": {
        "id": "Cnh0tRw5Zc8k"
      },
      "source": [
        "## 10. 统计每天7:00-9:00最繁忙（出发和结束行程最多）的3个站点。（1分）\n",
        "（包括起始行程和结束行程）"
      ]
    },
    {
      "cell_type": "code",
      "metadata": {
        "colab": {
          "base_uri": "https://localhost:8080/",
          "height": 141
        },
        "id": "LiSNl7TnZc8k",
        "outputId": "8fdda145-8b42-4c58-a125-ace0f9c7fddc"
      },
      "source": [
        "sub_start = data.loc[(pd.to_datetime(data['starttime']).dt.time >= pd.to_datetime(\"07:00:00\").time()) & \\\n",
        "                   (pd.to_datetime(data['starttime']).dt.time <= pd.to_datetime(\"09:00:00\").time())]\n",
        "sub_end = data.loc[(pd.to_datetime(data['stoptime']).dt.time >= pd.to_datetime(\"07:00:00\").time()) & \\\n",
        "                   (pd.to_datetime(data['stoptime']).dt.time <= pd.to_datetime(\"09:00:00\").time())]\n",
        "         \n",
        "sub_start = sub_start.groupby([\"start station id\", \"start station name\"]).agg({'tripduration':'count'}).reset_index()\n",
        "sub_end = sub_end.groupby([\"end station id\", \"end station name\"]).agg({'tripduration':'count'}).reset_index()\n",
        "\n",
        "sub_start.rename(columns={\"start station id\": \"id\", \"start station name\": \"name\", \"tripduration\": \"start_count\"}, inplace=True)\n",
        "sub_end.rename(columns={\"end station id\": \"id\", \"end station name\": \"name\", \"tripduration\": \"end_count\"}, inplace=True)\n",
        "\n",
        "sub_data = pd.concat([sub_start, sub_end]).groupby(['id', 'name']).sum().reset_index()\n",
        "sub_data[\"total_count\"] = sub_data[\"start_count\"] + sub_data[\"end_count\"]\n",
        "\n",
        "# 最繁忙\n",
        "sub_data.sort_values(by=\"total_count\", ascending=False)[:3]"
      ],
      "execution_count": 137,
      "outputs": [
        {
          "output_type": "execute_result",
          "data": {
            "text/html": [
              "<div>\n",
              "<style scoped>\n",
              "    .dataframe tbody tr th:only-of-type {\n",
              "        vertical-align: middle;\n",
              "    }\n",
              "\n",
              "    .dataframe tbody tr th {\n",
              "        vertical-align: top;\n",
              "    }\n",
              "\n",
              "    .dataframe thead th {\n",
              "        text-align: right;\n",
              "    }\n",
              "</style>\n",
              "<table border=\"1\" class=\"dataframe\">\n",
              "  <thead>\n",
              "    <tr style=\"text-align: right;\">\n",
              "      <th></th>\n",
              "      <th>id</th>\n",
              "      <th>name</th>\n",
              "      <th>start_count</th>\n",
              "      <th>end_count</th>\n",
              "      <th>total_count</th>\n",
              "    </tr>\n",
              "  </thead>\n",
              "  <tbody>\n",
              "    <tr>\n",
              "      <th>264</th>\n",
              "      <td>519</td>\n",
              "      <td>Pershing Square North</td>\n",
              "      <td>2453.00</td>\n",
              "      <td>2445.00</td>\n",
              "      <td>4898.00</td>\n",
              "    </tr>\n",
              "    <tr>\n",
              "      <th>128</th>\n",
              "      <td>359</td>\n",
              "      <td>E 47 St &amp; Park Ave</td>\n",
              "      <td>1009.00</td>\n",
              "      <td>2987.00</td>\n",
              "      <td>3996.00</td>\n",
              "    </tr>\n",
              "    <tr>\n",
              "      <th>184</th>\n",
              "      <td>426</td>\n",
              "      <td>West St &amp; Chambers St</td>\n",
              "      <td>1078.00</td>\n",
              "      <td>1861.00</td>\n",
              "      <td>2939.00</td>\n",
              "    </tr>\n",
              "  </tbody>\n",
              "</table>\n",
              "</div>"
            ],
            "text/plain": [
              "      id                   name  start_count  end_count  total_count\n",
              "264  519  Pershing Square North      2453.00    2445.00      4898.00\n",
              "128  359     E 47 St & Park Ave      1009.00    2987.00      3996.00\n",
              "184  426  West St & Chambers St      1078.00    1861.00      2939.00"
            ]
          },
          "metadata": {
            "tags": []
          },
          "execution_count": 137
        }
      ]
    },
    {
      "cell_type": "markdown",
      "metadata": {
        "id": "w1AyRj6uZc8k"
      },
      "source": [
        "## 11. 统计每天17:00-19:00最繁忙的3条（有向）路线。（1分）\n",
        "（A->B与B->A算作两条不同路线）"
      ]
    },
    {
      "cell_type": "code",
      "metadata": {
        "colab": {
          "base_uri": "https://localhost:8080/"
        },
        "id": "DusC4Tu9Zc8k",
        "outputId": "ac97e8ac-a40b-4a35-c3cd-9c7389dd8b91"
      },
      "source": [
        "sub_data = data.loc[(pd.to_datetime(data['stoptime']).dt.time >= pd.to_datetime(\"17:00:00\").time()) & \\\n",
        "                   (pd.to_datetime(data['starttime']).dt.time <= pd.to_datetime(\"19:00:00\").time())]\n",
        "\n",
        "# 最繁忙\n",
        "print(\"允许A=B:\\n\", sub_data.groupby([\"start station id\", \"end station id\"]).agg({'tripduration':'count'}).reset_index() \\\n",
        "      .rename({\"tripduration\": \"count\"}, axis=1).sort_values(by=\"count\", ascending=False)[:3])\n",
        "\n",
        "print(\"\\nA!=B:\\n\", sub_data.loc[sub_data[\"start station id\"] != sub_data[\"end station id\"]].groupby([\"start station id\", \"end station id\"]) \\\n",
        "      .agg({'tripduration':'count'}).reset_index().rename({\"tripduration\": \"count\"}, axis=1).sort_values(by=\"count\", ascending=False)[:3])"
      ],
      "execution_count": 144,
      "outputs": [
        {
          "output_type": "stream",
          "text": [
            "允许A=B:\n",
            "        start station id  end station id  count\n",
            "70617              3182            3182    242\n",
            "11596               281             281    235\n",
            "70618              3182            3254    234\n",
            "\n",
            "A!=B:\n",
            "        start station id  end station id  count\n",
            "70205              3182            3254    234\n",
            "32813               426             514    195\n",
            "72564              3254            3182    185\n"
          ],
          "name": "stdout"
        }
      ]
    },
    {
      "cell_type": "markdown",
      "metadata": {
        "id": "bAEUqAE4Zc8l"
      },
      "source": [
        "## 12. 统计usertype的中用户类型个数，并分析每类用户在骑行时长、每天骑行时间段上的差异（1.5分）"
      ]
    },
    {
      "cell_type": "code",
      "metadata": {
        "colab": {
          "base_uri": "https://localhost:8080/",
          "height": 974
        },
        "id": "noEnYscnZc8l",
        "outputId": "cd9f7780-e631-42a8-9e61-506fc07f3088"
      },
      "source": [
        "# 这个不包括骑大于一次的客户，因为我们没有一种userid\n",
        "print(\"统计\\n\", data[\"usertype\"].value_counts())\n",
        "\n",
        "# 时长分析\n",
        "print(\"\\n时长分析\\n\", data.groupby([\"usertype\"]).agg({'tripduration':['mean', 'median', 'max', 'min', 'count']}))\n",
        "\n",
        "# 差异\n",
        "print(\"\\n差异分析\\n\")\n",
        "data[\"date\"] = pd.to_datetime(data['starttime']).dt.date\n",
        "subdata = data.groupby([\"date\", \"usertype\"]).agg({'tripduration':['mean', 'count']})\n",
        "subdata.unstack(level=1).plot(figsize=(12, 12), color=['blue', 'red', 'cyan', 'darkred'])"
      ],
      "execution_count": 98,
      "outputs": [
        {
          "output_type": "stream",
          "text": [
            "统计\n",
            " Subscriber    1473887\n",
            "Customer       261712\n",
            "Name: usertype, dtype: int64\n",
            "\n",
            "时长分析\n",
            "            tripduration                             \n",
            "                   mean median      max min    count\n",
            "usertype                                            \n",
            "Customer        2215.59   1293  2477222  61   261712\n",
            "Subscriber       854.98    603  1604573  61  1473887\n",
            "\n",
            "差异分析\n",
            "\n"
          ],
          "name": "stdout"
        },
        {
          "output_type": "execute_result",
          "data": {
            "text/plain": [
              "<matplotlib.axes._subplots.AxesSubplot at 0x7fd395591fd0>"
            ]
          },
          "metadata": {
            "tags": []
          },
          "execution_count": 98
        },
        {
          "output_type": "display_data",
          "data": {
            "image/png": "[encoded data removed]",
            "text/plain": [
              "<Figure size 864x864 with 1 Axes>"
            ]
          },
          "metadata": {
            "tags": [],
            "needs_background": "light"
          }
        }
      ]
    }
  ]
}