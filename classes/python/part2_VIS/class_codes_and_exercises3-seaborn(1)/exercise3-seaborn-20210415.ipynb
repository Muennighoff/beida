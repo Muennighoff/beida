{
 "cells": [
  {
   "cell_type": "markdown",
   "metadata": {},
   "source": [
    "# seaborn练习（与matplotlib B练习相同，使用MAG中和“数据可视化”相关的科学文献数据集）"
   ]
  },
  {
   "cell_type": "code",
   "execution_count": null,
   "metadata": {},
   "outputs": [],
   "source": [
    "import pandas as pd\n",
    "import numpy as np\n",
    "import matplotlib.pyplot as plt \n",
    "import seaborn as sns"
   ]
  },
  {
   "cell_type": "markdown",
   "metadata": {},
   "source": [
    "### 0. 请先阅读数据说明。注意：在以下分析中，如果发现数据异常，可以直接进行数据规整和处理。由于你已经完成了matplotlib B的练习，所以这部分可以使用之前处理过的数据。"
   ]
  },
  {
   "cell_type": "markdown",
   "metadata": {},
   "source": [
    "### 1. 请针对数据集中各文献类型（在doc_type字段）的作者人数（即一篇论文有多少个作者）做可视化，并对结果进行简要解读。（提示：可以使用箱线图）"
   ]
  },
  {
   "cell_type": "code",
   "execution_count": null,
   "metadata": {},
   "outputs": [],
   "source": []
  },
  {
   "cell_type": "markdown",
   "metadata": {},
   "source": [
    "### 2. 请对各篇文献被引次数的分布进行可视化，并对结果进行简要解读。（提示：尝试ppt中各种不同的单变量直方图、密度分布、累积分布等）"
   ]
  },
  {
   "cell_type": "code",
   "execution_count": null,
   "metadata": {},
   "outputs": [],
   "source": []
  },
  {
   "cell_type": "markdown",
   "metadata": {},
   "source": [
    "### 3. 一篇论文中的作者人数和该论文的被引次数有何关系？请针对此做可视化，并对结果进行简要解读。（提示：可以用sns.relplot散点图或其他你认为合适的方式）"
   ]
  },
  {
   "cell_type": "code",
   "execution_count": null,
   "metadata": {},
   "outputs": [],
   "source": []
  },
  {
   "cell_type": "markdown",
   "metadata": {},
   "source": [
    "### 4. 在这里，我们简单地认为被引量在10次及以上的为高被引论文，少于10次的为低被引论文。请考察这两类论文中，作者数量的分布差异，并对结果进行简要解读。（提示：可以画定类箱线图、定类小提琴图等或使用其他你认为合适的方式）"
   ]
  },
  {
   "cell_type": "code",
   "execution_count": null,
   "metadata": {},
   "outputs": [],
   "source": []
  }
 ],
 "metadata": {
  "kernelspec": {
   "display_name": "Python 3",
   "language": "python",
   "name": "python3"
  },
  "language_info": {
   "codemirror_mode": {
    "name": "ipython",
    "version": 3
   },
   "file_extension": ".py",
   "mimetype": "text/x-python",
   "name": "python",
   "nbconvert_exporter": "python",
   "pygments_lexer": "ipython3",
   "version": "3.8.5"
  }
 },
 "nbformat": 4,
 "nbformat_minor": 4
}
