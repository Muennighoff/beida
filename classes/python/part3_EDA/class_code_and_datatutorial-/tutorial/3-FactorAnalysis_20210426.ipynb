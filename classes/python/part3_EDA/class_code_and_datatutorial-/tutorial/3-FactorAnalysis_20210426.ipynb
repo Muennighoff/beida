{
 "cells": [
  {
   "cell_type": "code",
   "execution_count": 1,
   "metadata": {},
   "outputs": [],
   "source": [
    "# Import required libraries\n",
    "import pandas as pd\n",
    "from sklearn.datasets import load_iris\n",
    "from factor_analyzer import FactorAnalyzer\n",
    "import matplotlib.pyplot as plt"
   ]
  },
  {
   "cell_type": "markdown",
   "metadata": {},
   "source": [
    "# Dataset and its summary"
   ]
  },
  {
   "cell_type": "markdown",
   "metadata": {},
   "source": [
    "Let's perform factor analysis on BFI (dataset based on personality assessment project), which were collected using a 6 point response scale: 1 Very Inaccurate, 2 Moderately Inaccurate, 3 Slightly Inaccurate 4 Slightly Accurate, 5 Moderately Accurate, and 6 Very Accurate. You can also download this dataset from the following the link: https://vincentarelbundock.github.io/Rdatasets/datasets.html"
   ]
  },
  {
   "cell_type": "code",
   "execution_count": 2,
   "metadata": {},
   "outputs": [],
   "source": [
    "df= pd.read_csv(\"bfi.csv\")"
   ]
  },
  {
   "cell_type": "code",
   "execution_count": 3,
   "metadata": {},
   "outputs": [
    {
     "data": {
      "text/plain": [
       "Index(['Unnamed: 0', 'A1', 'A2', 'A3', 'A4', 'A5', 'C1', 'C2', 'C3', 'C4',\n",
       "       'C5', 'E1', 'E2', 'E3', 'E4', 'E5', 'N1', 'N2', 'N3', 'N4', 'N5', 'O1',\n",
       "       'O2', 'O3', 'O4', 'O5', 'gender', 'education', 'age'],\n",
       "      dtype='object')"
      ]
     },
     "execution_count": 3,
     "metadata": {},
     "output_type": "execute_result"
    }
   ],
   "source": [
    "df.columns"
   ]
  },
  {
   "cell_type": "code",
   "execution_count": 4,
   "metadata": {},
   "outputs": [],
   "source": [
    "# Dropping unnecessary columns\n",
    "df.drop(['gender', 'education', 'age'],axis=1,inplace=True)"
   ]
  },
  {
   "cell_type": "code",
   "execution_count": 5,
   "metadata": {},
   "outputs": [],
   "source": [
    "# Dropping missing values rows\n",
    "df.dropna(inplace=True)"
   ]
  },
  {
   "cell_type": "code",
   "execution_count": 6,
   "metadata": {},
   "outputs": [
    {
     "name": "stdout",
     "output_type": "stream",
     "text": [
      "<class 'pandas.core.frame.DataFrame'>\n",
      "Int64Index: 2436 entries, 0 to 2799\n",
      "Data columns (total 26 columns):\n",
      " #   Column      Non-Null Count  Dtype  \n",
      "---  ------      --------------  -----  \n",
      " 0   Unnamed: 0  2436 non-null   int64  \n",
      " 1   A1          2436 non-null   float64\n",
      " 2   A2          2436 non-null   float64\n",
      " 3   A3          2436 non-null   float64\n",
      " 4   A4          2436 non-null   float64\n",
      " 5   A5          2436 non-null   float64\n",
      " 6   C1          2436 non-null   float64\n",
      " 7   C2          2436 non-null   float64\n",
      " 8   C3          2436 non-null   float64\n",
      " 9   C4          2436 non-null   float64\n",
      " 10  C5          2436 non-null   float64\n",
      " 11  E1          2436 non-null   float64\n",
      " 12  E2          2436 non-null   float64\n",
      " 13  E3          2436 non-null   float64\n",
      " 14  E4          2436 non-null   float64\n",
      " 15  E5          2436 non-null   float64\n",
      " 16  N1          2436 non-null   float64\n",
      " 17  N2          2436 non-null   float64\n",
      " 18  N3          2436 non-null   float64\n",
      " 19  N4          2436 non-null   float64\n",
      " 20  N5          2436 non-null   float64\n",
      " 21  O1          2436 non-null   float64\n",
      " 22  O2          2436 non-null   int64  \n",
      " 23  O3          2436 non-null   float64\n",
      " 24  O4          2436 non-null   float64\n",
      " 25  O5          2436 non-null   float64\n",
      "dtypes: float64(24), int64(2)\n",
      "memory usage: 513.8 KB\n"
     ]
    }
   ],
   "source": [
    "df.info()"
   ]
  },
  {
   "cell_type": "code",
   "execution_count": 7,
   "metadata": {},
   "outputs": [
    {
     "data": {
      "text/html": [
       "<div>\n",
       "<style scoped>\n",
       "    .dataframe tbody tr th:only-of-type {\n",
       "        vertical-align: middle;\n",
       "    }\n",
       "\n",
       "    .dataframe tbody tr th {\n",
       "        vertical-align: top;\n",
       "    }\n",
       "\n",
       "    .dataframe thead th {\n",
       "        text-align: right;\n",
       "    }\n",
       "</style>\n",
       "<table border=\"1\" class=\"dataframe\">\n",
       "  <thead>\n",
       "    <tr style=\"text-align: right;\">\n",
       "      <th></th>\n",
       "      <th>Unnamed: 0</th>\n",
       "      <th>A1</th>\n",
       "      <th>A2</th>\n",
       "      <th>A3</th>\n",
       "      <th>A4</th>\n",
       "      <th>A5</th>\n",
       "      <th>C1</th>\n",
       "      <th>C2</th>\n",
       "      <th>C3</th>\n",
       "      <th>C4</th>\n",
       "      <th>...</th>\n",
       "      <th>N1</th>\n",
       "      <th>N2</th>\n",
       "      <th>N3</th>\n",
       "      <th>N4</th>\n",
       "      <th>N5</th>\n",
       "      <th>O1</th>\n",
       "      <th>O2</th>\n",
       "      <th>O3</th>\n",
       "      <th>O4</th>\n",
       "      <th>O5</th>\n",
       "    </tr>\n",
       "  </thead>\n",
       "  <tbody>\n",
       "    <tr>\n",
       "      <th>0</th>\n",
       "      <td>61617</td>\n",
       "      <td>2.0</td>\n",
       "      <td>4.0</td>\n",
       "      <td>3.0</td>\n",
       "      <td>4.0</td>\n",
       "      <td>4.0</td>\n",
       "      <td>2.0</td>\n",
       "      <td>3.0</td>\n",
       "      <td>3.0</td>\n",
       "      <td>4.0</td>\n",
       "      <td>...</td>\n",
       "      <td>3.0</td>\n",
       "      <td>4.0</td>\n",
       "      <td>2.0</td>\n",
       "      <td>2.0</td>\n",
       "      <td>3.0</td>\n",
       "      <td>3.0</td>\n",
       "      <td>6</td>\n",
       "      <td>3.0</td>\n",
       "      <td>4.0</td>\n",
       "      <td>3.0</td>\n",
       "    </tr>\n",
       "    <tr>\n",
       "      <th>1</th>\n",
       "      <td>61618</td>\n",
       "      <td>2.0</td>\n",
       "      <td>4.0</td>\n",
       "      <td>5.0</td>\n",
       "      <td>2.0</td>\n",
       "      <td>5.0</td>\n",
       "      <td>5.0</td>\n",
       "      <td>4.0</td>\n",
       "      <td>4.0</td>\n",
       "      <td>3.0</td>\n",
       "      <td>...</td>\n",
       "      <td>3.0</td>\n",
       "      <td>3.0</td>\n",
       "      <td>3.0</td>\n",
       "      <td>5.0</td>\n",
       "      <td>5.0</td>\n",
       "      <td>4.0</td>\n",
       "      <td>2</td>\n",
       "      <td>4.0</td>\n",
       "      <td>3.0</td>\n",
       "      <td>3.0</td>\n",
       "    </tr>\n",
       "    <tr>\n",
       "      <th>2</th>\n",
       "      <td>61620</td>\n",
       "      <td>5.0</td>\n",
       "      <td>4.0</td>\n",
       "      <td>5.0</td>\n",
       "      <td>4.0</td>\n",
       "      <td>4.0</td>\n",
       "      <td>4.0</td>\n",
       "      <td>5.0</td>\n",
       "      <td>4.0</td>\n",
       "      <td>2.0</td>\n",
       "      <td>...</td>\n",
       "      <td>4.0</td>\n",
       "      <td>5.0</td>\n",
       "      <td>4.0</td>\n",
       "      <td>2.0</td>\n",
       "      <td>3.0</td>\n",
       "      <td>4.0</td>\n",
       "      <td>2</td>\n",
       "      <td>5.0</td>\n",
       "      <td>5.0</td>\n",
       "      <td>2.0</td>\n",
       "    </tr>\n",
       "    <tr>\n",
       "      <th>3</th>\n",
       "      <td>61621</td>\n",
       "      <td>4.0</td>\n",
       "      <td>4.0</td>\n",
       "      <td>6.0</td>\n",
       "      <td>5.0</td>\n",
       "      <td>5.0</td>\n",
       "      <td>4.0</td>\n",
       "      <td>4.0</td>\n",
       "      <td>3.0</td>\n",
       "      <td>5.0</td>\n",
       "      <td>...</td>\n",
       "      <td>2.0</td>\n",
       "      <td>5.0</td>\n",
       "      <td>2.0</td>\n",
       "      <td>4.0</td>\n",
       "      <td>1.0</td>\n",
       "      <td>3.0</td>\n",
       "      <td>3</td>\n",
       "      <td>4.0</td>\n",
       "      <td>3.0</td>\n",
       "      <td>5.0</td>\n",
       "    </tr>\n",
       "    <tr>\n",
       "      <th>4</th>\n",
       "      <td>61622</td>\n",
       "      <td>2.0</td>\n",
       "      <td>3.0</td>\n",
       "      <td>3.0</td>\n",
       "      <td>4.0</td>\n",
       "      <td>5.0</td>\n",
       "      <td>4.0</td>\n",
       "      <td>4.0</td>\n",
       "      <td>5.0</td>\n",
       "      <td>3.0</td>\n",
       "      <td>...</td>\n",
       "      <td>2.0</td>\n",
       "      <td>3.0</td>\n",
       "      <td>4.0</td>\n",
       "      <td>4.0</td>\n",
       "      <td>3.0</td>\n",
       "      <td>3.0</td>\n",
       "      <td>3</td>\n",
       "      <td>4.0</td>\n",
       "      <td>3.0</td>\n",
       "      <td>3.0</td>\n",
       "    </tr>\n",
       "  </tbody>\n",
       "</table>\n",
       "<p>5 rows × 26 columns</p>\n",
       "</div>"
      ],
      "text/plain": [
       "   Unnamed: 0   A1   A2   A3   A4   A5   C1   C2   C3   C4  ...   N1   N2  \\\n",
       "0       61617  2.0  4.0  3.0  4.0  4.0  2.0  3.0  3.0  4.0  ...  3.0  4.0   \n",
       "1       61618  2.0  4.0  5.0  2.0  5.0  5.0  4.0  4.0  3.0  ...  3.0  3.0   \n",
       "2       61620  5.0  4.0  5.0  4.0  4.0  4.0  5.0  4.0  2.0  ...  4.0  5.0   \n",
       "3       61621  4.0  4.0  6.0  5.0  5.0  4.0  4.0  3.0  5.0  ...  2.0  5.0   \n",
       "4       61622  2.0  3.0  3.0  4.0  5.0  4.0  4.0  5.0  3.0  ...  2.0  3.0   \n",
       "\n",
       "    N3   N4   N5   O1  O2   O3   O4   O5  \n",
       "0  2.0  2.0  3.0  3.0   6  3.0  4.0  3.0  \n",
       "1  3.0  5.0  5.0  4.0   2  4.0  3.0  3.0  \n",
       "2  4.0  2.0  3.0  4.0   2  5.0  5.0  2.0  \n",
       "3  2.0  4.0  1.0  3.0   3  4.0  3.0  5.0  \n",
       "4  4.0  4.0  3.0  3.0   3  4.0  3.0  3.0  \n",
       "\n",
       "[5 rows x 26 columns]"
      ]
     },
     "execution_count": 7,
     "metadata": {},
     "output_type": "execute_result"
    }
   ],
   "source": [
    "df.head()"
   ]
  },
  {
   "cell_type": "markdown",
   "metadata": {},
   "source": [
    "# Step 1: Adequacy Test"
   ]
  },
  {
   "cell_type": "markdown",
   "metadata": {},
   "source": [
    "Before you perform factor analysis, you need to evaluate the “factorability” of our dataset. Factorability means \"can we found the factors in the dataset?\". There are two methods to check the factorability or sampling adequacy:\n",
    "\n",
    "Bartlett’s Test\n",
    "Kaiser-Meyer-Olkin Test (KMO Test)"
   ]
  },
  {
   "cell_type": "markdown",
   "metadata": {},
   "source": [
    "Bartlett’s test of sphericity checks whether or not the observed variables intercorrelate at all using the observed correlation matrix against the identity matrix. If the test found statistically insignificant, you should not employ a factor analysis."
   ]
  },
  {
   "cell_type": "code",
   "execution_count": 8,
   "metadata": {},
   "outputs": [
    {
     "data": {
      "text/plain": [
       "(18210.19955392497, 0.0)"
      ]
     },
     "execution_count": 8,
     "metadata": {},
     "output_type": "execute_result"
    }
   ],
   "source": [
    "from factor_analyzer.factor_analyzer import calculate_bartlett_sphericity\n",
    "chi_square_value,p_value=calculate_bartlett_sphericity(df)\n",
    "chi_square_value, p_value"
   ]
  },
  {
   "cell_type": "markdown",
   "metadata": {},
   "source": [
    "In this Bartlett ’s test, the p-value is 0. The test was statistically significant, indicating that the observed correlation matrix is not an identity matrix."
   ]
  },
  {
   "cell_type": "markdown",
   "metadata": {},
   "source": [
    "Kaiser-Meyer-Olkin (KMO) Test measures the suitability of data for factor analysis. It determines the adequacy for each observed variable and for the complete model. KMO estimates the proportion of variance among all the observed variable. KMO values range between 0 and 1. Value of KMO less than 0.6 is considered inadequate."
   ]
  },
  {
   "cell_type": "code",
   "execution_count": 9,
   "metadata": {},
   "outputs": [
    {
     "data": {
      "text/plain": [
       "0.8482210116350438"
      ]
     },
     "execution_count": 9,
     "metadata": {},
     "output_type": "execute_result"
    }
   ],
   "source": [
    "from factor_analyzer.factor_analyzer import calculate_kmo\n",
    "kmo_all,kmo_model=calculate_kmo(df)\n",
    "kmo_model"
   ]
  },
  {
   "cell_type": "markdown",
   "metadata": {},
   "source": [
    "The overall KMO for our data is 0.84, which is excellent. This value indicates that you can proceed with your planned factor analysis."
   ]
  },
  {
   "cell_type": "markdown",
   "metadata": {},
   "source": [
    "# Step 2: Choosing the Number of Factors"
   ]
  },
  {
   "cell_type": "markdown",
   "metadata": {},
   "source": [
    "For choosing the number of factors, you can use the Kaiser criterion and scree plot. Both are based on eigenvalues."
   ]
  },
  {
   "cell_type": "code",
   "execution_count": 10,
   "metadata": {},
   "outputs": [
    {
     "data": {
      "text/plain": [
       "array([5.13457985, 2.75337527, 2.14814212, 1.85250623, 1.54846254,\n",
       "       1.11066151, 0.98067695, 0.82430872, 0.79516217, 0.71828982,\n",
       "       0.68602566, 0.67614851, 0.65177562, 0.62297416, 0.59623084,\n",
       "       0.56244599, 0.54329886, 0.51434031, 0.49437154, 0.48263949,\n",
       "       0.44865495, 0.42280589, 0.40028481, 0.38773757, 0.38183723,\n",
       "       0.2622634 ])"
      ]
     },
     "execution_count": 10,
     "metadata": {},
     "output_type": "execute_result"
    }
   ],
   "source": [
    "# Create factor analysis object and perform factor analysis\n",
    "fa = FactorAnalyzer()\n",
    "fa.fit(df)\n",
    "# Check Eigenvalues\n",
    "ev, v = fa.get_eigenvalues()\n",
    "ev"
   ]
  },
  {
   "cell_type": "markdown",
   "metadata": {},
   "source": [
    "Here, you can see only for 6-factors eigenvalues are greater than one. It means we need to choose only 6 factors (or unobserved variables)."
   ]
  },
  {
   "cell_type": "code",
   "execution_count": 11,
   "metadata": {},
   "outputs": [
    {
     "data": {
      "image/png": "[encoded data removed]",
      "text/plain": [
       "<Figure size 432x288 with 1 Axes>"
      ]
     },
     "metadata": {
      "needs_background": "light"
     },
     "output_type": "display_data"
    }
   ],
   "source": [
    "# Create scree plot using matplotlib\n",
    "plt.scatter(range(1,df.shape[1]+1),ev)\n",
    "plt.plot(range(1,df.shape[1]+1),ev)\n",
    "plt.title('Scree Plot')\n",
    "plt.xlabel('Factors')\n",
    "plt.ylabel('Eigenvalue')\n",
    "plt.grid()\n",
    "plt.show()"
   ]
  },
  {
   "cell_type": "markdown",
   "metadata": {},
   "source": [
    "The scree plot method draws a straight line for each factor and its eigenvalues. Number eigenvalues greater than one considered as the number of factors.\n",
    "\n",
    "Here, you can see only for 6-factors eigenvalues are greater than one. It means we need to choose only 6 factors (or unobserved variables)."
   ]
  },
  {
   "cell_type": "markdown",
   "metadata": {},
   "source": [
    "# Step 3: Performing Factor Analysis"
   ]
  },
  {
   "cell_type": "code",
   "execution_count": 12,
   "metadata": {},
   "outputs": [
    {
     "name": "stdout",
     "output_type": "stream",
     "text": [
      "[[-0.02290301 -0.03247244  0.03316871 -0.03809335  0.00379506  0.10374847]\n",
      " [ 0.09939617  0.06047379  0.02669442 -0.53078469 -0.12030937  0.16363839]\n",
      " [ 0.03176731  0.259875    0.1402256   0.64656947  0.05577021 -0.09704963]\n",
      " [-0.00525556  0.40884857  0.10953353  0.58700379  0.01618433  0.03914857]\n",
      " [-0.07926603  0.25534237  0.22930808  0.39176034 -0.13629257  0.03340065]\n",
      " [-0.14364476  0.4910488   0.0856494   0.45108988  0.00911123  0.10588827]\n",
      " [ 0.00562295  0.12364715  0.54015019  0.00422137  0.18345833  0.13879815]\n",
      " [ 0.08435816  0.10650466  0.65249593  0.05653766  0.0792028   0.20858043]\n",
      " [-0.03394649  0.0497959   0.54587749  0.10028627 -0.0123717   0.05447959]\n",
      " [ 0.23161662  0.0089893  -0.67278538 -0.08998026 -0.15345088  0.22697701]\n",
      " [ 0.29340234 -0.14364361 -0.55970425 -0.04706994  0.0256143   0.09577897]\n",
      " [ 0.05310218 -0.52147723  0.02649196 -0.09054496 -0.05928098  0.33201867]\n",
      " [ 0.2631889  -0.62292324 -0.11075758 -0.07455019 -0.03044005  0.29120361]\n",
      " [ 0.00119     0.63056485  0.07741736  0.15388275  0.21421252  0.09215221]\n",
      " [-0.14723885  0.68281775  0.10390412  0.2065131  -0.13327166 -0.03773659]\n",
      " [ 0.02197833  0.50438366  0.31238313  0.04844782  0.18521834 -0.11350852]\n",
      " [ 0.79096653  0.033469   -0.04001445 -0.19151604 -0.07737848 -0.16815916]\n",
      " [ 0.77708495 -0.01765921 -0.02173671 -0.15558624  0.00764293 -0.199391  ]\n",
      " [ 0.72818732 -0.03614562 -0.0674602  -0.02313414 -0.01532483  0.02192578]\n",
      " [ 0.59778566 -0.2770728  -0.1837043   0.01861508  0.06451108  0.18288878]\n",
      " [ 0.53479082 -0.11293748 -0.04097176  0.09644978 -0.1645811   0.11185692]\n",
      " [-0.00891931  0.30231759  0.10733112 -0.00134206  0.46434464  0.16741622]\n",
      " [ 0.16146455  0.02029611 -0.10051682  0.04691938 -0.50064301  0.08416413]\n",
      " [ 0.0196248   0.40211954  0.07042896  0.06363394  0.54784203  0.12081642]\n",
      " [ 0.22872114 -0.0926477  -0.03000306  0.14801513  0.34628284  0.20228617]\n",
      " [ 0.06801995  0.00091956 -0.06223948 -0.05313796 -0.57993276  0.10662123]]\n"
     ]
    }
   ],
   "source": [
    "# Create factor analysis object and perform factor analysis\n",
    "fa = FactorAnalyzer()\n",
    "fa.set_params(n_factors = 6, rotation=\"varimax\")\n",
    "fa.fit(df)\n",
    "loadings = fa.loadings_\n",
    "print(loadings)"
   ]
  },
  {
   "cell_type": "markdown",
   "metadata": {},
   "source": [
    "Factor 1 has high factor loadings for E1,E2,E3,E4, and E5 (Extraversion)\n",
    "Factor 2 has high factor loadings for N1,N2,N3,N4, and N5 (Neuroticism)\n",
    "Factor 3 has high factor loadings for C1,C2,C3,C4, and C5 (Conscientiousness)\n",
    "Factor 4 has high factor loadings for O1,O2,O3,O4, and O5 (Opennness)\n",
    "Factor 5 has high factor loadings for A1,A2,A3,A4, and A5 (Agreeableness)\n",
    "Factor 6 has none of the high loagings for any variable and is not easily interpretable. Its good if we take only five factors."
   ]
  }
 ],
 "metadata": {
  "kernelspec": {
   "display_name": "Python 3",
   "language": "python",
   "name": "python3"
  },
  "language_info": {
   "codemirror_mode": {
    "name": "ipython",
    "version": 3
   },
   "file_extension": ".py",
   "mimetype": "text/x-python",
   "name": "python",
   "nbconvert_exporter": "python",
   "pygments_lexer": "ipython3",
   "version": "3.8.5"
  }
 },
 "nbformat": 4,
 "nbformat_minor": 4
}
