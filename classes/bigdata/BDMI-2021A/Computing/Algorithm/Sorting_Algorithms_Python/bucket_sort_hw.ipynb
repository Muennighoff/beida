{
 "cells": [
  {
   "cell_type": "markdown",
   "metadata": {},
   "source": [
    "# Bucket sort"
   ]
  },
  {
   "cell_type": "code",
   "execution_count": 1,
   "metadata": {},
   "outputs": [],
   "source": [
    "def bucket_sort(A, min_value, max_value):\n",
    "    buckets = [[] for _ in range(min_value, max_value+1)]\n",
    "    for x in A:\n",
    "        # implement it by yourself (将数放到对应的桶里)\n",
    "    sorted_arr = []\n",
    "    for bucket in buckets:\n",
    "        # implement it by yourself (按顺序合并所有的桶)\n",
    "    return sorted_arr"
   ]
  },
  {
   "cell_type": "code",
   "execution_count": 2,
   "metadata": {
    "tags": []
   },
   "outputs": [
    {
     "name": "stdout",
     "output_type": "stream",
     "text": [
      "[0, 1, 2, 3, 4, 5, 6, 7, 8, 9]\n"
     ]
    }
   ],
   "source": [
    "arr = [5,1,2,7,3,9,4,0,6,8]\n",
    "sorted_arr = bucket_sort(arr, 0, 9)\n",
    "print(sorted_arr)"
   ]
  },
  {
   "cell_type": "markdown",
   "metadata": {},
   "source": [
    "# Radix sort"
   ]
  },
  {
   "cell_type": "code",
<<<<<<< HEAD
   "execution_count": 4,
=======
   "execution_count": 3,
>>>>>>> 6aa6400d1c563e3e047eb8b57eb04c309bbb7c0b
   "metadata": {},
   "outputs": [],
   "source": [
    "def getDigits(x, base):\n",
    "    digits = []\n",
    "    while x > 0:\n",
    "        digits.append( x % base )\n",
    "        x = (x / base).__trunc__()\n",
    "    return digits\n",
    "    \n",
    "class myInt:\n",
    "    def __init__(self,x, base=10, keyDigit=0):\n",
    "        self.digits = getDigits(x, base)\n",
    "        self.keyDigit = keyDigit\n",
    "        self.value = x\n",
    "        \n",
    "    def key(self):\n",
    "        if len(self.digits) > self.keyDigit:\n",
    "            return self.digits[self.keyDigit]\n",
    "        return 0\n",
    "    \n",
    "    def updateKeyDigit(self,p):\n",
    "        self.keyDigit = p\n",
    "        \n",
    "    def getValue(self):\n",
    "        return self.value"
   ]
  },
  {
   "cell_type": "code",
   "execution_count": 9,
   "metadata": {},
   "outputs": [],
   "source": [
    "def bucketSortBase(A, base):\n",
    "    buckets = [[] for _ in range(base)]\n",
    "    for x in A:\n",
    "        # implement it by yourself (根据指定位置放进对应的桶里)\n",
    "        buckets[x-min].append(x)\n",
    "    sorted_arr = []\n",
    "    for bucket in buckets:\n",
    "        # implement it by yourself (按照顺序合并所有的桶)\n",
    "        sorted_arr = sorted_arr+bucket\n",
    "    return sorted_arr\n",
    "\n",
    "def radix_sort(A, n_digits, base):\n",
    "    B = [ myInt(x, base=base) for x in A ]\n",
    "    for j in range(n_digits):\n",
    "        for x in B:\n",
    "            x.updateKeyDigit(j)\n",
    "            # implement it by yourself (指定比较的位置)\n",
    "        # implement it by yourself (桶排序)\n",
    "        B = bucketSortBase(B, bucketMax=base)\n",
    "    B = [x.getValue() for x in B]\n",
    "    return B"
   ]
  },
  {
   "cell_type": "code",
   "execution_count": 10,
   "metadata": {
    "tags": []
   },
   "outputs": [
    {
<<<<<<< HEAD
     "ename": "TypeError",
     "evalue": "unsupported operand type(s) for -: 'myInt' and 'builtin_function_or_method'",
     "output_type": "error",
     "traceback": [
      "\u001b[1;31m---------------------------------------------------------------------------\u001b[0m",
      "\u001b[1;31mTypeError\u001b[0m                                 Traceback (most recent call last)",
      "\u001b[1;32m<ipython-input-10-1948c77c07f3>\u001b[0m in \u001b[0;36m<module>\u001b[1;34m\u001b[0m\n\u001b[0;32m      1\u001b[0m \u001b[0marr\u001b[0m \u001b[1;33m=\u001b[0m \u001b[1;33m[\u001b[0m\u001b[1;36m523\u001b[0m\u001b[1;33m,\u001b[0m\u001b[1;36m123\u001b[0m\u001b[1;33m,\u001b[0m\u001b[1;36m4\u001b[0m\u001b[1;33m,\u001b[0m\u001b[1;36m33\u001b[0m\u001b[1;33m,\u001b[0m\u001b[1;36m12\u001b[0m\u001b[1;33m]\u001b[0m\u001b[1;33m\u001b[0m\u001b[1;33m\u001b[0m\u001b[0m\n\u001b[1;32m----> 2\u001b[1;33m \u001b[0msorted_arr\u001b[0m \u001b[1;33m=\u001b[0m \u001b[0mradix_sort\u001b[0m\u001b[1;33m(\u001b[0m\u001b[0marr\u001b[0m\u001b[1;33m,\u001b[0m \u001b[1;36m3\u001b[0m\u001b[1;33m,\u001b[0m \u001b[1;36m10\u001b[0m\u001b[1;33m)\u001b[0m\u001b[1;33m\u001b[0m\u001b[1;33m\u001b[0m\u001b[0m\n\u001b[0m\u001b[0;32m      3\u001b[0m \u001b[0mprint\u001b[0m\u001b[1;33m(\u001b[0m\u001b[0msorted_arr\u001b[0m\u001b[1;33m)\u001b[0m\u001b[1;33m\u001b[0m\u001b[1;33m\u001b[0m\u001b[0m\n",
      "\u001b[1;32m<ipython-input-9-ad1a2c10662b>\u001b[0m in \u001b[0;36mradix_sort\u001b[1;34m(A, n_digits, base)\u001b[0m\n\u001b[0;32m     17\u001b[0m             \u001b[1;31m# implement it by yourself (指定比较的位置)\u001b[0m\u001b[1;33m\u001b[0m\u001b[1;33m\u001b[0m\u001b[1;33m\u001b[0m\u001b[0m\n\u001b[0;32m     18\u001b[0m         \u001b[1;31m# implement it by yourself (桶排序)\u001b[0m\u001b[1;33m\u001b[0m\u001b[1;33m\u001b[0m\u001b[1;33m\u001b[0m\u001b[0m\n\u001b[1;32m---> 19\u001b[1;33m         \u001b[0mB\u001b[0m \u001b[1;33m=\u001b[0m \u001b[0mbucketSortBase\u001b[0m\u001b[1;33m(\u001b[0m\u001b[0mB\u001b[0m\u001b[1;33m,\u001b[0m \u001b[0mbase\u001b[0m\u001b[1;33m=\u001b[0m\u001b[0mbase\u001b[0m\u001b[1;33m)\u001b[0m\u001b[1;33m\u001b[0m\u001b[1;33m\u001b[0m\u001b[0m\n\u001b[0m\u001b[0;32m     20\u001b[0m     \u001b[0mB\u001b[0m \u001b[1;33m=\u001b[0m \u001b[1;33m[\u001b[0m\u001b[0mx\u001b[0m\u001b[1;33m.\u001b[0m\u001b[0mgetValue\u001b[0m\u001b[1;33m(\u001b[0m\u001b[1;33m)\u001b[0m \u001b[1;32mfor\u001b[0m \u001b[0mx\u001b[0m \u001b[1;32min\u001b[0m \u001b[0mB\u001b[0m\u001b[1;33m]\u001b[0m\u001b[1;33m\u001b[0m\u001b[1;33m\u001b[0m\u001b[0m\n\u001b[0;32m     21\u001b[0m     \u001b[1;32mreturn\u001b[0m \u001b[0mB\u001b[0m\u001b[1;33m\u001b[0m\u001b[1;33m\u001b[0m\u001b[0m\n",
      "\u001b[1;32m<ipython-input-9-ad1a2c10662b>\u001b[0m in \u001b[0;36mbucketSortBase\u001b[1;34m(A, base)\u001b[0m\n\u001b[0;32m      3\u001b[0m     \u001b[1;32mfor\u001b[0m \u001b[0mx\u001b[0m \u001b[1;32min\u001b[0m \u001b[0mA\u001b[0m\u001b[1;33m:\u001b[0m\u001b[1;33m\u001b[0m\u001b[1;33m\u001b[0m\u001b[0m\n\u001b[0;32m      4\u001b[0m         \u001b[1;31m# implement it by yourself (根据指定位置放进对应的桶里)\u001b[0m\u001b[1;33m\u001b[0m\u001b[1;33m\u001b[0m\u001b[1;33m\u001b[0m\u001b[0m\n\u001b[1;32m----> 5\u001b[1;33m         \u001b[0mbuckets\u001b[0m\u001b[1;33m[\u001b[0m\u001b[0mx\u001b[0m\u001b[1;33m-\u001b[0m\u001b[0mmin\u001b[0m\u001b[1;33m]\u001b[0m\u001b[1;33m.\u001b[0m\u001b[0mappend\u001b[0m\u001b[1;33m(\u001b[0m\u001b[0mx\u001b[0m\u001b[1;33m)\u001b[0m\u001b[1;33m\u001b[0m\u001b[1;33m\u001b[0m\u001b[0m\n\u001b[0m\u001b[0;32m      6\u001b[0m     \u001b[0msorted_arr\u001b[0m \u001b[1;33m=\u001b[0m \u001b[1;33m[\u001b[0m\u001b[1;33m]\u001b[0m\u001b[1;33m\u001b[0m\u001b[1;33m\u001b[0m\u001b[0m\n\u001b[0;32m      7\u001b[0m     \u001b[1;32mfor\u001b[0m \u001b[0mbucket\u001b[0m \u001b[1;32min\u001b[0m \u001b[0mbuckets\u001b[0m\u001b[1;33m:\u001b[0m\u001b[1;33m\u001b[0m\u001b[1;33m\u001b[0m\u001b[0m\n",
      "\u001b[1;31mTypeError\u001b[0m: unsupported operand type(s) for -: 'myInt' and 'builtin_function_or_method'"
=======
     "name": "stdout",
     "output_type": "stream",
     "text": [
      "[4, 12, 33, 123, 523]\n"
>>>>>>> 6aa6400d1c563e3e047eb8b57eb04c309bbb7c0b
     ]
    }
   ],
   "source": [
    "arr = [523,123,4,33,12]\n",
    "sorted_arr = radix_sort(arr, 3, 10)\n",
    "print(sorted_arr)"
   ]
  },
  {
   "cell_type": "code",
   "execution_count": null,
   "metadata": {},
   "outputs": [],
   "source": []
  },
  {
   "cell_type": "code",
   "execution_count": null,
   "metadata": {},
   "outputs": [],
   "source": []
  }
 ],
 "metadata": {
  "kernelspec": {
<<<<<<< HEAD
   "display_name": "Python 3",
   "language": "python",
   "name": "python3"
=======
   "display_name": "Python 3.7.4 64-bit ('base': conda)",
   "metadata": {
    "interpreter": {
     "hash": "b7e55d16ad3731a7fc392c6b10f0f9248f9f39d8db8269d34496fc87ade8d39b"
    }
   },
   "name": "Python 3.7.4 64-bit ('base': conda)"
>>>>>>> 6aa6400d1c563e3e047eb8b57eb04c309bbb7c0b
  },
  "language_info": {
   "codemirror_mode": {
    "name": "ipython",
    "version": 3
   },
   "file_extension": ".py",
   "mimetype": "text/x-python",
   "name": "python",
   "nbconvert_exporter": "python",
   "pygments_lexer": "ipython3",
<<<<<<< HEAD
   "version": "3.8.3"
  }
 },
 "nbformat": 4,
 "nbformat_minor": 4
=======
   "version": "3.7.4-final"
  }
 },
 "nbformat": 4,
 "nbformat_minor": 2
>>>>>>> 6aa6400d1c563e3e047eb8b57eb04c309bbb7c0b
}
