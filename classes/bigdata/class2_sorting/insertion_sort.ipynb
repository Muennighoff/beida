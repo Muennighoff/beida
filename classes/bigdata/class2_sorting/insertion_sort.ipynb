{
 "cells": [
  {
   "cell_type": "markdown",
   "metadata": {},
   "source": [
    "# Sorting"
   ]
  },
  {
   "cell_type": "code",
   "execution_count": 1,
   "metadata": {},
   "outputs": [],
   "source": [
    "%matplotlib inline\n",
    "import matplotlib\n",
    "import numpy as np\n",
    "import matplotlib.pyplot as plt"
   ]
  },
  {
   "cell_type": "markdown",
   "metadata": {},
   "source": [
    "# Insertion Sort"
   ]
  },
  {
   "cell_type": "markdown",
   "metadata": {},
   "source": [
    "This implements the most naive version of insertion sort, following the logic: \"insert the thing where it needs to go.\"\n",
    "\n",
    "It makes a blank list, and inserts elements one-at-a-time.\n",
    "\n",
    "This is not a very good way to implement insertion sort."
   ]
  },
  {
   "cell_type": "code",
   "execution_count": 2,
   "metadata": {},
   "outputs": [],
   "source": [
    "def naiveInsertionSort(A):\n",
    "    B = [None for i in range(len(A))] # B is a blank list of the same length as A\n",
    "    for x in A:\n",
    "        for i in range(len(B)):\n",
    "            if B[i] == None or B[i] > x:\n",
    "                # then x goes in spot i, and we should move everything over.\n",
    "                j = len(B)-1\n",
    "                while j > i:\n",
    "                    B[j] = B[j-1]\n",
    "                    j -= 1\n",
    "                B[i] = x\n",
    "                break # okay we are done placing x\n",
    "    return B"
   ]
  },
  {
   "cell_type": "markdown",
   "metadata": {},
   "source": [
    "Let's sanity-check:"
   ]
  },
  {
   "cell_type": "code",
   "execution_count": 3,
   "metadata": {},
   "outputs": [
    {
     "name": "stdout",
     "output_type": "stream",
     "text": [
      "[3, 4, 5, 6, 8]\n"
     ]
    }
   ],
   "source": [
    "A = [6,4,3,8,5]\n",
    "B = naiveInsertionSort(A)\n",
    "print(B)"
   ]
  },
  {
   "cell_type": "markdown",
   "metadata": {},
   "source": [
    "The code above faithfully captures the notion of \"insertion sort\" that we first described on the slides: insert the elements into a new list, one-at-a-time, where they should go. But we can be a bit more slick about it, and do it in-place. The following implements the description of insertion sort in-place, which we gave a demonstration of in the slides."
   ]
  },
  {
   "cell_type": "code",
   "execution_count": 4,
   "metadata": {},
   "outputs": [],
   "source": [
    "def InsertionSort(A):\n",
    "    for i in range(1,len(A)):\n",
    "        current = A[i]\n",
    "        j = i-1\n",
    "        while j >= 0 and A[j] > current:\n",
    "            A[j+1] = A[j]\n",
    "            j -= 1\n",
    "        A[j+1] = current\n",
    "        return A"
   ]
  },
  {
   "cell_type": "markdown",
   "metadata": {},
   "source": [
    "Let's sanity-check:"
   ]
  },
  {
   "cell_type": "code",
   "execution_count": 5,
   "metadata": {},
   "outputs": [
    {
     "name": "stdout",
     "output_type": "stream",
     "text": [
      "[4, 6, 3, 8, 5]\n"
     ]
    }
   ],
   "source": [
    "A = [6,4,3,8,5]\n",
    "InsertionSort(A)\n",
    "print(A)"
   ]
  },
  {
   "cell_type": "code",
   "execution_count": 6,
   "metadata": {},
   "outputs": [
    {
     "name": "stdout",
     "output_type": "stream",
     "text": [
      "[230, 881, 341, 781, 355, 319, 522, 952, 690, 428, 941, 990, 181, 7, 734, 800, 708, 418, 231, 894, 553, 66, 510, 607, 686, 903, 321, 103, 422, 58, 978, 242, 497, 598, 364, 470, 687, 502, 689, 908, 347, 276, 358, 737, 278, 702, 901, 987, 804, 486]\n"
     ]
    }
   ],
   "source": [
    "import random\n",
    "A=random.sample(range(1,1000),50)\n",
    "print(A)"
   ]
  },
  {
   "cell_type": "code",
   "execution_count": 7,
   "metadata": {},
   "outputs": [
    {
     "name": "stdout",
     "output_type": "stream",
     "text": [
      "[7, 58, 66, 103, 181, 230, 231, 242, 276, 278, 319, 321, 341, 347, 355, 358, 364, 418, 422, 428, 470, 486, 497, 502, 510, 522, 553, 598, 607, 686, 687, 689, 690, 702, 708, 734, 737, 781, 800, 804, 881, 894, 901, 903, 908, 941, 952, 978, 987, 990]\n"
     ]
    }
   ],
   "source": [
    "print(naiveInsertionSort(A))"
   ]
  },
  {
   "cell_type": "code",
   "execution_count": 8,
   "metadata": {},
   "outputs": [
    {
     "name": "stdout",
     "output_type": "stream",
     "text": [
      "[230, 881, 341, 781, 355, 319, 522, 952, 690, 428, 941, 990, 181, 7, 734, 800, 708, 418, 231, 894, 553, 66, 510, 607, 686, 903, 321, 103, 422, 58, 978, 242, 497, 598, 364, 470, 687, 502, 689, 908, 347, 276, 358, 737, 278, 702, 901, 987, 804, 486]\n"
     ]
    }
   ],
   "source": [
    "print(InsertionSort(A))"
   ]
  },
  {
   "cell_type": "markdown",
   "metadata": {},
   "source": [
    "Okay, now we have two working algorithms. Which one is faster?"
   ]
  }
 ],
 "metadata": {
  "kernelspec": {
   "display_name": "Python 3",
   "language": "python",
   "name": "python3"
  },
  "language_info": {
   "codemirror_mode": {
    "name": "ipython",
    "version": 3
   },
   "file_extension": ".py",
   "mimetype": "text/x-python",
   "name": "python",
   "nbconvert_exporter": "python",
   "pygments_lexer": "ipython3",
   "version": "3.9.6"
  }
 },
 "nbformat": 4,
 "nbformat_minor": 4
}
