{
  "nbformat": 4,
  "nbformat_minor": 0,
  "metadata": {
    "colab": {
      "name": "naivebayes_nm.ipynb",
      "provenance": [],
      "collapsed_sections": []
    },
    "kernelspec": {
      "name": "python3",
      "display_name": "Python 3"
    },
    "language_info": {
      "name": "python"
    }
  },
  "cells": [
    {
      "cell_type": "markdown",
      "metadata": {
        "id": "8rk7f-thpa9W"
      },
      "source": [
        "#### Homework 2 - 孟念， Niklas Muennighoff"
      ]
    },
    {
      "cell_type": "code",
      "metadata": {
        "colab": {
          "base_uri": "https://localhost:8080/"
        },
        "id": "8xzDaScRR0L0",
        "outputId": "fbf3168c-6b83-4df6-c9ce-5d86942a4ca1"
      },
      "source": [
        "!unzip /content/naive_bayes_data.zip"
      ],
      "execution_count": 1,
      "outputs": [
        {
          "output_type": "stream",
          "name": "stdout",
          "text": [
            "Archive:  /content/naive_bayes_data.zip\n",
            "   creating: naive_bayes_data/\n",
            "  inflating: naive_bayes_data/vocabulary.csv  \n",
            "  inflating: naive_bayes_data/XTest.csv  \n",
            "  inflating: naive_bayes_data/XTrain.csv  \n",
            "  inflating: naive_bayes_data/yTest.csv  \n",
            "  inflating: naive_bayes_data/yTrain.csv  \n"
          ]
        }
      ]
    },
    {
      "cell_type": "code",
      "metadata": {
        "id": "MK0fYD5hTTye"
      },
      "source": [
        "import numpy as np\n",
        "\n",
        "voc = open(\"/content/naive_bayes_data/vocabulary.csv\").read().split(\"\\n\")\n",
        "#np.genfromtxt(\"/content/naive_bayes_data/vocabulary.csv\", delimiter=',')\n",
        "\n",
        "x_train = np.genfromtxt(\"/content/naive_bayes_data/XTrain.csv\", delimiter=',')\n",
        "y_train = np.genfromtxt(\"/content/naive_bayes_data/yTrain.csv\", delimiter=',')\n",
        "\n",
        "x_test = np.genfromtxt(\"/content/naive_bayes_data/XTest.csv\", delimiter=',')\n",
        "y_test = np.genfromtxt(\"/content/naive_bayes_data/yTest.csv\", delimiter=',')"
      ],
      "execution_count": 24,
      "outputs": []
    },
    {
      "cell_type": "code",
      "metadata": {
        "colab": {
          "base_uri": "https://localhost:8080/"
        },
        "id": "XEJi8hpaT0sH",
        "outputId": "f0fec537-d445-4e73-e5d5-10fcf47c22cf"
      },
      "source": [
        "len(voc), x_train.shape, y_train.shape, x_test.shape, y_test.shape"
      ],
      "execution_count": 25,
      "outputs": [
        {
          "output_type": "execute_result",
          "data": {
            "text/plain": [
              "(26049, (580, 26048), (580,), (145, 26048), (145,))"
            ]
          },
          "metadata": {},
          "execution_count": 25
        }
      ]
    },
    {
      "cell_type": "markdown",
      "metadata": {
        "id": "MYOiHULyUOoU"
      },
      "source": [
        "##### Task 1\n",
        "\n",
        "Train a Naive Bayes classifier. Produce a confusion matrix for the Naive Bayes classifier.\n",
        "Plot the matrix as a heatmap"
      ]
    },
    {
      "cell_type": "code",
      "metadata": {
        "colab": {
          "base_uri": "https://localhost:8080/"
        },
        "id": "mqcDpTx7VvoP",
        "outputId": "a01b545b-0588-40fb-feab-59aa0a1e746a"
      },
      "source": [
        "voc"
      ],
      "execution_count": 19,
      "outputs": [
        {
          "output_type": "execute_result",
          "data": {
            "text/plain": [
              "array([nan, nan, nan, ..., nan, nan, nan])"
            ]
          },
          "metadata": {},
          "execution_count": 19
        }
      ]
    },
    {
      "cell_type": "code",
      "metadata": {
        "colab": {
          "base_uri": "https://localhost:8080/"
        },
        "id": "vvDTdhAVVle4",
        "outputId": "1190cad2-fb0a-46c2-d40a-81fb2efa1df9"
      },
      "source": [
        "!head /content/naive_bayes_data/vocabulary.csv"
      ],
      "execution_count": 16,
      "outputs": [
        {
          "output_type": "stream",
          "name": "stdout",
          "text": [
            "after\n",
            "a\n",
            "good\n",
            "summer\n",
            "romano\n",
            "prodi\n",
            "govern\n",
            "face\n",
            "harder\n",
            "econom\n"
          ]
        }
      ]
    },
    {
      "cell_type": "code",
      "metadata": {
        "colab": {
          "base_uri": "https://localhost:8080/"
        },
        "id": "EbiMWhOrSun_",
        "outputId": "0f9dd7fa-52af-4984-844c-6de20fee29b6"
      },
      "source": [
        "from sklearn.naive_bayes import MultinomialNB\n",
        "clf = MultinomialNB()\n",
        "clf.fit(x_train, y_train)"
      ],
      "execution_count": 18,
      "outputs": [
        {
          "output_type": "execute_result",
          "data": {
            "text/plain": [
              "MultinomialNB(alpha=1.0, class_prior=None, fit_prior=True)"
            ]
          },
          "metadata": {},
          "execution_count": 18
        }
      ]
    },
    {
      "cell_type": "code",
      "metadata": {
        "colab": {
          "base_uri": "https://localhost:8080/"
        },
        "id": "z5zhbU06WlAG",
        "outputId": "807b625d-6a52-4a65-f64b-3abba8a1a5b8"
      },
      "source": [
        "from sklearn.metrics import confusion_matrix\n",
        "y_pred = clf.predict(x_test)\n",
        "\n",
        "cm = confusion_matrix(y_test, y_pred)\n",
        "tn, fp, fn, tp = cm.ravel()\n",
        "\n",
        "print('Confusion matrix\\n\\n', cm)\n",
        "\n",
        "print('\\nTrue Negatives(TN) = ', tn) # Pred: Econ; GT: Econ\n",
        "print('\\nFalse Positives(FP) = ', fp)\n",
        "print('\\nFalse Negatives(FN) = ', fn)\n",
        "print('\\nTrue Positives(TP) = ', tp) # Pred: Onion; GT: Onion"
      ],
      "execution_count": 49,
      "outputs": [
        {
          "output_type": "stream",
          "name": "stdout",
          "text": [
            "Confusion matrix\n",
            "\n",
            " [[97  1]\n",
            " [22 25]]\n",
            "\n",
            "True Negatives(TN) =  97\n",
            "\n",
            "False Positives(FP) =  1\n",
            "\n",
            "False Negatives(FN) =  22\n",
            "\n",
            "True Positives(TP) =  25\n"
          ]
        }
      ]
    },
    {
      "cell_type": "code",
      "metadata": {
        "colab": {
          "base_uri": "https://localhost:8080/"
        },
        "id": "x362Mv0MZScf",
        "outputId": "55bb5343-e70c-472c-ae4d-230e51a92950"
      },
      "source": [
        "y_test.sum()"
      ],
      "execution_count": 41,
      "outputs": [
        {
          "output_type": "execute_result",
          "data": {
            "text/plain": [
              "47.0"
            ]
          },
          "metadata": {},
          "execution_count": 41
        }
      ]
    },
    {
      "cell_type": "code",
      "metadata": {
        "colab": {
          "base_uri": "https://localhost:8080/",
          "height": 708
        },
        "id": "nUbK3XutXAsn",
        "outputId": "69971542-3ab2-4542-d4ca-55945825a762"
      },
      "source": [
        "import seaborn as sn\n",
        "import pandas as pd\n",
        "import matplotlib.pyplot as plt\n",
        "\n",
        "df_cm = pd.DataFrame(cm, [\"Economist\", \"Onion\"], [\"Pred - Economist\", \"Pred - Onion\"])#, range(2))\n",
        "plt.figure(figsize=(16,12))\n",
        "\n",
        "sn.set(font_scale=1.4) # label size\n",
        "sn.heatmap(df_cm, annot=True, annot_kws={\"size\": 20})\n",
        "plt.show()"
      ],
      "execution_count": 47,
      "outputs": [
        {
          "output_type": "display_data",
          "data": {
            "image/png": "[encoded data removed]",
            "text/plain": [
              "<Figure size 1152x864 with 2 Axes>"
            ]
          },
          "metadata": {}
        }
      ]
    },
    {
      "cell_type": "code",
      "metadata": {
        "colab": {
          "base_uri": "https://localhost:8080/"
        },
        "id": "sqdQes20cNGL",
        "outputId": "4d293b54-3d83-4a35-84f8-09e09fa09a3e"
      },
      "source": [
        "sum(y_train) / len(y_train)"
      ],
      "execution_count": 50,
      "outputs": [
        {
          "output_type": "execute_result",
          "data": {
            "text/plain": [
              "0.27241379310344827"
            ]
          },
          "metadata": {},
          "execution_count": 50
        }
      ]
    },
    {
      "cell_type": "markdown",
      "metadata": {
        "id": "-thQ2DBZZEYK"
      },
      "source": [
        "- Of the 47 onion-labelled (label = 1) test samples, the model gets 25 correct (True Positives), hence its TPR, True Positive Rate, is just about 50%\n",
        "- Meanwhile the model's TNR is close to 100%, as it only misses 1 economist article (1 False Positive)\n",
        "- This is likely, because only 27.24% of the train data is from the Onion (label = 1), hence the prior probability in the Naive Bayes for The Economist is ~73%, so by default every sample is much more likely to be classified as being from The Economist\n",
        "- There are likely some very specific satire words that can shift the probability distribution & make some article be predicted as coming from the Onion, but if these words are not there, it will result in a False Negative"
      ]
    },
    {
      "cell_type": "markdown",
      "metadata": {
        "id": "2Er_n70tUWh8"
      },
      "source": [
        "##### Task 2\n",
        "\n",
        "Calculate and report the precision and recall considering the articles from The Onion as\n",
        "the positive class."
      ]
    },
    {
      "cell_type": "code",
      "metadata": {
        "colab": {
          "base_uri": "https://localhost:8080/"
        },
        "id": "Vqw9sog_UWh9",
        "outputId": "446709de-eb96-43ba-f0bb-b0d02e4f9766"
      },
      "source": [
        "# Precision = TP / (TP + FP) - How many selected items are relevant?\n",
        "prec_onion = 25 / (25 + 1)\n",
        "\n",
        "# Recall = TP / P - How many relevant items are selected?\n",
        "rec_onion = 25 / (25 + 22)\n",
        "\n",
        "print(f\"Precision: {prec_onion}\\nRecall: {rec_onion}\")"
      ],
      "execution_count": 51,
      "outputs": [
        {
          "output_type": "stream",
          "name": "stdout",
          "text": [
            "Precision: 0.9615384615384616\n",
            "Recall: 0.5319148936170213\n"
          ]
        }
      ]
    },
    {
      "cell_type": "markdown",
      "metadata": {
        "id": "Psy7cF3seE_N"
      },
      "source": [
        "- Precision is very high for onion, since as explained due to the large difference in prior probabilities, ceteris paribus, the model will assume a text to be from the economist.\n",
        "- The recall or true positive rate is just about 50%, i.e. whether an article from the onion will actually be labelled as such, is just a coin flip"
      ]
    },
    {
      "cell_type": "markdown",
      "metadata": {
        "id": "Q193KWf_UWyP"
      },
      "source": [
        "##### Task 3\n",
        "\n",
        " Calculate and report the precision and recall considering the articles from The Economist\n",
        "as the positive class"
      ]
    },
    {
      "cell_type": "code",
      "metadata": {
        "colab": {
          "base_uri": "https://localhost:8080/"
        },
        "id": "avrn0QA4UWyQ",
        "outputId": "04499447-220c-428d-8bee-75fbc782de6f"
      },
      "source": [
        "# Precision = TP / (TP + FP) - How many selected items are relevant?\n",
        "prec_econ = 97 / (97 + 22)\n",
        "\n",
        "# Recall = TP / P - How many relevant items are selected?\n",
        "rec_econ = 97 / (97 + 1)\n",
        "\n",
        "print(f\"Precision: {prec_econ}\\nRecall: {rec_econ}\")"
      ],
      "execution_count": 53,
      "outputs": [
        {
          "output_type": "stream",
          "name": "stdout",
          "text": [
            "Precision: 0.8151260504201681\n",
            "Recall: 0.9897959183673469\n"
          ]
        }
      ]
    },
    {
      "cell_type": "markdown",
      "metadata": {
        "id": "pmY32XHKe53X"
      },
      "source": [
        "- Recall (actually TNR in this case) is close to 100%, as all except one econ articles, are classified as such\n",
        "- Precision is slightly lower, as a lot of irrelevant onion articles are mixed in"
      ]
    },
    {
      "cell_type": "markdown",
      "metadata": {
        "id": "_M5F9VAwUW4y"
      },
      "source": [
        "##### Task 4\n",
        "\n",
        "What is the misclassification rate of Naive Bayes on this problem?"
      ]
    },
    {
      "cell_type": "code",
      "metadata": {
        "colab": {
          "base_uri": "https://localhost:8080/"
        },
        "id": "W4f4W_6QUW4z",
        "outputId": "9abfd256-3363-4ae4-8d59-50ffccb26f9e"
      },
      "source": [
        "# Misclassification rate = 1 - Accuracy = FP + FN / total\n",
        "\n",
        "misclf = 22 + 1 / len(y_test)\n",
        "\n",
        "print(f\"Misclassification rate: {misclf}\")"
      ],
      "execution_count": 56,
      "outputs": [
        {
          "output_type": "stream",
          "name": "stdout",
          "text": [
            "Misclassification rate: 22.00689655172414\n"
          ]
        }
      ]
    },
    {
      "cell_type": "markdown",
      "metadata": {
        "id": "MiJc70Tbf1Br"
      },
      "source": [
        "- The misclassification rate is 22% - Inversely the accuracy of our classifier is 78%"
      ]
    },
    {
      "cell_type": "markdown",
      "metadata": {
        "id": "xn7v2CrBUXH1"
      },
      "source": [
        "##### Task 5\n",
        "\n",
        "What is the true class of the 38th observation? What is its predicted class? What are the\n",
        "estimated posterior probabilities for the 38th observation according to Naive Bayes?\n"
      ]
    },
    {
      "cell_type": "code",
      "metadata": {
        "colab": {
          "base_uri": "https://localhost:8080/"
        },
        "id": "sWnrxPkQUXH1",
        "outputId": "c2f346ef-a21c-4a8b-bfe8-830d28195961"
      },
      "source": [
        "# I will assume this refers to the 38th test observation & hence the 37th index (assuming the statement was 1-indexed)\n",
        "\n",
        "gt = y_test[37:38]\n",
        "pred = y_pred[37:38]\n",
        "\n",
        "# Sci-kit gives us the log posterior probabilities, as they are numerically more stable\n",
        "# Under the hood, they just add log(p_1) + log(p_2) ..., which is equivalent to log(p_1 * p_2) ... but more stable\n",
        "probas_log = clf._joint_log_likelihood(x_test[37:38, :])\n",
        "\n",
        "# Hence we can get the original probabilities by just exponentiating the log out again\n",
        "probas_raw = np.exp(probas_log)\n",
        "\n",
        "\n",
        "print(f\"Ground Truth: {gt}, Prediction: {pred} with log probabilities: {probas_log} & raw probabilities: {probas_raw}\")"
      ],
      "execution_count": 98,
      "outputs": [
        {
          "output_type": "stream",
          "name": "stdout",
          "text": [
            "Ground Truth: [0.], Prediction: [0.] with log probabilities: [[-11188.48018348 -11247.75136325]] & raw probabilities: [[0. 0.]]\n"
          ]
        }
      ]
    },
    {
      "cell_type": "markdown",
      "metadata": {
        "id": "fvTstcG-im7R"
      },
      "source": [
        "- The true class is 0, the prediction 0\n",
        "- The raw posterior probabilities are too small to be displayed - but the log probabilities are close to each other with the one for 0 being slightly higher"
      ]
    },
    {
      "cell_type": "code",
      "metadata": {
        "colab": {
          "base_uri": "https://localhost:8080/"
        },
        "id": "jUogjSjLoiqA",
        "outputId": "9e1d6d8e-e030-4531-d042-ec1e160e9b2f"
      },
      "source": [
        "class_prior_probs = np.exp(clf.class_log_prior_)\n",
        "dist = y_train.sum() / len(y_train)\n",
        "\n",
        "\n",
        "print(f\"Distribution is {1-dist}, {dist} - Prior probas are {class_prior_probs}\")"
      ],
      "execution_count": 104,
      "outputs": [
        {
          "output_type": "stream",
          "name": "stdout",
          "text": [
            "Distribution is 0.7275862068965517, 0.27241379310344827 - Prior probas are [0.72758621 0.27241379]\n"
          ]
        }
      ]
    },
    {
      "cell_type": "markdown",
      "metadata": {
        "id": "hH2Qp-hsokBG"
      },
      "source": [
        "- We can confirm that our method above is correct by checking that the prior probabilities match our data distribution"
      ]
    }
  ]
}