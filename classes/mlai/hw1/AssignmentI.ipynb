{
 "cells": [
  {
   "cell_type": "markdown",
   "metadata": {},
   "source": [
    "# Assignment 1\n",
    "## 机器学习与人工智能 (Machine Learning and Artificial Intelligence)\n",
    "\n",
    "### <font color='red'>Due Date: October 17, 2021 11:59pm</font> "
   ]
  },
  {
   "cell_type": "markdown",
   "metadata": {},
   "source": [
    "Deliverables:\n",
    "\n",
    "- Submit your answers to conceptual questions (described in another .pdf file) in a pdf file\n",
    "- Write down your codes in the given cells described in this file, denoted as \"YOUR CODE HERE\"\n",
    "- Use \"download as\" in the \"file\" menu to convert your ipython file to a .html file\n",
    "- Zip three files: .pdf, .ipynb, and .html files, and submit your zip to the Blackboard\n",
    "\n",
    "\n",
    "This assignment covers Supervised Learning models. In this assignment, you are required to use two different clean datasets to train FOUR regression models for continous targets and THREE classification models for discrete targets.\n",
    "\n",
    "\n",
    "The total score of the implementation part is: 70"
   ]
  },
  {
   "cell_type": "code",
   "execution_count": 1,
   "metadata": {},
   "outputs": [],
   "source": [
    "NAME = \"\""
   ]
  },
  {
   "cell_type": "markdown",
   "metadata": {},
   "source": [
    "## Data Exploration"
   ]
  },
  {
   "cell_type": "code",
   "execution_count": 2,
   "metadata": {},
   "outputs": [],
   "source": [
    "%matplotlib inline \n",
    "import numpy as np\n",
    "import pandas as pd\n",
    "import sklearn\n",
    "import mglearn\n",
    "import matplotlib.pyplot as plt\n",
    "import seaborn as sns\n",
    "\n",
    "import warnings\n",
    "warnings.filterwarnings('ignore')"
   ]
  },
  {
   "cell_type": "code",
   "execution_count": 3,
   "metadata": {},
   "outputs": [],
   "source": [
    "# This is the California housing dataset.\n",
    "# The detailed description can be found in https://scikit-learn.org/stable/datasets/index.html#california-housing-dataset\n",
    "CAhousing = sklearn.datasets.fetch_california_housing()\n",
    "\n",
    "#CAhousing['DESCR']"
   ]
  },
  {
   "cell_type": "code",
   "execution_count": 4,
   "metadata": {},
   "outputs": [
    {
     "name": "stdout",
     "output_type": "stream",
     "text": [
      "Features in the housing dataset:  ['MedInc', 'HouseAge', 'AveRooms', 'AveBedrms', 'Population', 'AveOccup', 'Latitude', 'Longitude']\n"
     ]
    }
   ],
   "source": [
    "print('Features in the housing dataset: ', CAhousing['feature_names'])"
   ]
  },
  {
   "cell_type": "code",
   "execution_count": 5,
   "metadata": {},
   "outputs": [],
   "source": [
    "X = CAhousing.data\n",
    "target = CAhousing.target"
   ]
  },
  {
   "cell_type": "code",
   "execution_count": 6,
   "metadata": {},
   "outputs": [],
   "source": [
    "# convert the data into a pandas DataFrame, in case you might need to use in the following questions.\n",
    "\n",
    "df_housing = pd.DataFrame(CAhousing.data,columns=CAhousing.feature_names)\n",
    "df_housing['target'] = pd.Series(CAhousing.target)"
   ]
  },
  {
   "cell_type": "code",
   "execution_count": 7,
   "metadata": {
    "scrolled": true
   },
   "outputs": [],
   "source": [
    "# Explore the correlation plots among variables\n",
    "\n",
    "# YOUR CODE HERE\n",
    "\n",
    "\n",
    "\n"
   ]
  },
  {
   "cell_type": "markdown",
   "metadata": {},
   "source": [
    "## Regression"
   ]
  },
  {
   "cell_type": "code",
   "execution_count": 8,
   "metadata": {},
   "outputs": [],
   "source": [
    "# split the dataset into training and test sets\n",
    "\n",
    "from sklearn.model_selection import train_test_split\n",
    "X_train, X_test, y_train, y_test = train_test_split(X, target, random_state=42)\n"
   ]
  },
  {
   "cell_type": "code",
   "execution_count": 9,
   "metadata": {},
   "outputs": [],
   "source": [
    "# Compare among regular linear regression models, polynomial, Ridege, and Lasso regression models. \n",
    "# Note that for each model, you have to search for the best model parameters.\n",
    "# Comparison requirement: consider both the model performance and time efficiency.\n",
    "\n",
    "\n",
    "# YOUR CODE HERE\n",
    "\n",
    "\n",
    "\n",
    "\n",
    "\n"
   ]
  },
  {
   "cell_type": "markdown",
   "metadata": {},
   "source": [
    "## Classification "
   ]
  },
  {
   "cell_type": "code",
   "execution_count": 10,
   "metadata": {},
   "outputs": [],
   "source": [
    "selectN = 10000\n",
    "\n",
    "(X, y) = sklearn.datasets.make_moons(n_samples=selectN, noise=0.4)\n",
    "\n",
    "X_train, X_test, y_train, y_test = train_test_split(X, y, random_state=42)\n"
   ]
  },
  {
   "cell_type": "code",
   "execution_count": 11,
   "metadata": {},
   "outputs": [],
   "source": [
    "# Step 1: write a function (input argument is selectN) to compare different classification models \n",
    "# Alternative models: logistic regression, KNN, and Decision Trees\n",
    "# The function should also include the model parameter selecting process\n",
    "# Note: you have to consider both the model performance and time efficiency\n",
    "\n",
    "# Step 2: given different selectN, report how the sample sizes affect the model comparison results\n",
    "# Visualize your comparison results\n",
    "\n",
    "\n",
    "# YOUR CODE HERE\n",
    "\n",
    "\n",
    "\n",
    "\n"
   ]
  }
 ],
 "metadata": {
  "kernelspec": {
   "display_name": "Python 3",
   "language": "python",
   "name": "python3"
  },
  "language_info": {
   "codemirror_mode": {
    "name": "ipython",
    "version": 3
   },
   "file_extension": ".py",
   "mimetype": "text/x-python",
   "name": "python",
   "nbconvert_exporter": "python",
   "pygments_lexer": "ipython3",
   "version": "3.8.8"
  }
 },
 "nbformat": 4,
 "nbformat_minor": 2
}
