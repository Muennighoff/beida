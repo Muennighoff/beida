{
 "cells": [
  {
   "cell_type": "markdown",
   "metadata": {},
   "source": [
    "# Assignment 3\n",
    "## 机器学习与人工智能 (Machine Learning and Artificial Intelligence)\n",
    "\n",
    "### <font color='red'>Due Date: Nov 28, 2021 11:59pm</font> "
   ]
  },
  {
   "cell_type": "markdown",
   "metadata": {},
   "source": [
    "# PCA"
   ]
  },
  {
   "cell_type": "code",
   "execution_count": 1,
   "metadata": {},
   "outputs": [],
   "source": [
    "%matplotlib inline\n",
    "import numpy as np\n",
    "\n",
    "# load data\n",
    "XTrain = np.genfromtxt('onion_vs_economist/XTrain.csv', delimiter=',')\n",
    "XTest = np.genfromtxt('onion_vs_economist/XTest.csv', delimiter=',')\n",
    "yTrain = np.genfromtxt('onion_vs_economist/yTrain.csv', delimiter=',')\n",
    "yTest = np.genfromtxt('onion_vs_economist/yTest.csv', delimiter=',')\n",
    "vocabulary = [x.strip() for x in list(open('onion_vs_economist/vocabulary.csv', 'r'))]\n",
    "stopwords = list(open('onion_vs_economist/stopwords.txt', 'r'))[0].split()\n",
    "\n",
    "# YOUR CODE\n",
    "\n"
   ]
  },
  {
   "cell_type": "markdown",
   "metadata": {},
   "source": [
    "# Deep Learning"
   ]
  },
  {
   "cell_type": "markdown",
   "metadata": {},
   "source": [
    "### Import MNIST Dataset"
   ]
  },
  {
   "cell_type": "code",
   "execution_count": 2,
   "metadata": {},
   "outputs": [],
   "source": [
    "from tensorflow import keras\n",
    "from tensorflow.keras import layers\n",
    "from tensorflow.keras import utils\n",
    "(X_train, y_train), (X_test, y_test) = keras.datasets.mnist.load_data()\n",
    "\n",
    "img_rows, img_cols = 28, 28\n",
    "num_classes = 10 # class size\n",
    "input_unit_size = 28*28 # input vector size\n",
    "\n",
    "X_train = X_train.reshape(X_train.shape[0], input_unit_size)\n",
    "X_test  = X_test.reshape(X_test.shape[0], input_unit_size)\n",
    "X_train_image = X_train.reshape(X_train.shape[0], 1, img_rows, img_cols) \n",
    "X_test_image = X_test.reshape(X_test.shape[0], 1, img_rows, img_cols)\n",
    "\n",
    "X_train = X_train.astype('float32')\n",
    "X_test = X_test.astype('float32')\n",
    "X_train /= 255\n",
    "X_test /= 255\n",
    "\n",
    "# one-hot representation\n",
    "y_train = utils.to_categorical(y_train, num_classes)\n",
    "y_test = utils.to_categorical(y_test, num_classes)"
   ]
  },
  {
   "cell_type": "code",
   "execution_count": 3,
   "metadata": {},
   "outputs": [],
   "source": [
    "# If it takes too long to run the clustering, you can use the sampled data to do the clustering.\n",
    "X_train_sample = X_train[0:1000,:]\n",
    "y_train_sample = y_train[0:1000,:]\n",
    "X_train_image_sample = X_train_image[0:1000,:]\n",
    "\n",
    "image_shape = X_train_image_sample[0].shape"
   ]
  },
  {
   "cell_type": "code",
   "execution_count": 4,
   "metadata": {},
   "outputs": [],
   "source": [
    "'''\n",
    "Train a two-layer neural network:\n",
    "    Hidden layer: number of hidden units = 128, activation = ReLu\n",
    "    Use Dropout Strategy\n",
    "    Output layer: activation = softmax\n",
    "    loss function: categorical_crossentropy\n",
    "    optimizer: SGD\n",
    "    metrics: accuracy\n",
    "    (Regarding parameters that are not specified above, use the default values)\n",
    "    \n",
    "You need to use grid search to tune the dropout rate and the learning rate in SGD optimizer.\n",
    "\n",
    "Hint: to define the estimator required in Grid Search, you might need to use KerasClassifier \n",
    "        (https://keras.io/scikit-learn-api/)\n",
    "\n",
    "References: https://chrisalbon.com/deep_learning/keras/tuning_neural_network_hyperparameters/ \n",
    "\n",
    "Delivery:\n",
    "    Model performance\n",
    "    Optimal model parameters\n",
    "'''\n",
    "\n",
    "import tensorflow as tf\n",
    "from tensorflow import keras\n",
    "from tensorflow.keras import layers\n",
    "\n",
    "from sklearn.model_selection import GridSearchCV\n",
    "\n",
    "# YOUR CODES\n",
    "\n",
    "\n",
    "\n",
    "\n"
   ]
  },
  {
   "cell_type": "code",
   "execution_count": 5,
   "metadata": {},
   "outputs": [
    {
     "data": {
      "text/plain": [
       "'\\nTask: Explore the correlation between model preformance and the number of units\\n\\nDelivery: Plot a graph where \\n    the x-axis is the number of hidden units, \\n    and the y-axis is the model performance (two lines: one with test loss, and one with test accuracy)\\n    \\n\\n'"
      ]
     },
     "execution_count": 5,
     "metadata": {},
     "output_type": "execute_result"
    }
   ],
   "source": [
    "'''\n",
    "Task: Explore the correlation between model preformance and the number of units\n",
    "\n",
    "Delivery: Plot a graph where \n",
    "    the x-axis is the number of hidden units, \n",
    "    and the y-axis is the model performance (two lines: one with test loss, and one with test accuracy)\n",
    "    \n",
    "\n",
    "'''\n",
    "\n"
   ]
  }
 ],
 "metadata": {
  "kernelspec": {
   "display_name": "Python 3",
   "language": "python",
   "name": "python3"
  },
  "language_info": {
   "codemirror_mode": {
    "name": "ipython",
    "version": 3
   },
   "file_extension": ".py",
   "mimetype": "text/x-python",
   "name": "python",
   "nbconvert_exporter": "python",
   "pygments_lexer": "ipython3",
   "version": "3.8.8"
  }
 },
 "nbformat": 4,
 "nbformat_minor": 2
}
