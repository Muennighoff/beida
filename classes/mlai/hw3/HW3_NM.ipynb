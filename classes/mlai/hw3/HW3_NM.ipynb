{
  "nbformat": 4,
  "nbformat_minor": 0,
  "metadata": {
    "kernelspec": {
      "display_name": "Python 3",
      "language": "python",
      "name": "python3"
    },
    "language_info": {
      "codemirror_mode": {
        "name": "ipython",
        "version": 3
      },
      "file_extension": ".py",
      "mimetype": "text/x-python",
      "name": "python",
      "nbconvert_exporter": "python",
      "pygments_lexer": "ipython3",
      "version": "3.8.8"
    },
    "colab": {
      "name": "MLAI_2021-Assignment3.ipynb",
      "provenance": [],
      "collapsed_sections": []
    }
  },
  "cells": [
    {
      "cell_type": "markdown",
      "metadata": {
        "id": "nCGFKIZoutz6"
      },
      "source": [
        "# Assignment 3\n",
        "## 机器学习与人工智能 (Machine Learning and Artificial Intelligence)\n",
        "\n",
        "### <font color='red'>Due Date: Nov 28, 2021 11:59pm</font> \n",
        "\n",
        "#### Student: Niklas Muennighoff, 孟念"
      ]
    },
    {
      "cell_type": "markdown",
      "metadata": {
        "id": "7qSEnLvHut0A"
      },
      "source": [
        "# PCA"
      ]
    },
    {
      "cell_type": "code",
      "metadata": {
        "colab": {
          "base_uri": "https://localhost:8080/"
        },
        "id": "mTLzgzeBvIg4",
        "outputId": "467601ff-420f-49ca-b7a8-64b16277a0b6"
      },
      "source": [
        "!unzip onion_vs_economist.zip"
      ],
      "execution_count": 12,
      "outputs": [
        {
          "output_type": "stream",
          "name": "stdout",
          "text": [
            "Archive:  onion_vs_economist.zip\n",
            "   creating: onion_vs_economist/\n",
            "  inflating: onion_vs_economist/stopwords.txt  \n",
            "  inflating: onion_vs_economist/vocabulary.csv  \n",
            "  inflating: onion_vs_economist/XTest.csv  \n",
            "  inflating: onion_vs_economist/XTrain.csv  \n",
            "  inflating: onion_vs_economist/yTest.csv  \n",
            "  inflating: onion_vs_economist/yTrain.csv  \n"
          ]
        }
      ]
    },
    {
      "cell_type": "code",
      "metadata": {
        "id": "2nz3JPRlut0B"
      },
      "source": [
        "%matplotlib inline\n",
        "import numpy as np\n",
        "\n",
        "# load data\n",
        "XTrain = np.genfromtxt('onion_vs_economist/XTrain.csv', delimiter=',')\n",
        "XTest = np.genfromtxt('onion_vs_economist/XTest.csv', delimiter=',')\n",
        "yTrain = np.genfromtxt('onion_vs_economist/yTrain.csv', delimiter=',')\n",
        "yTest = np.genfromtxt('onion_vs_economist/yTest.csv', delimiter=',')\n",
        "vocabulary = [x.strip() for x in list(open('onion_vs_economist/vocabulary.csv', 'r'))]\n",
        "stopwords = list(open('onion_vs_economist/stopwords.txt', 'r'))[0].split()\n",
        "\n",
        "# YOUR CODE"
      ],
      "execution_count": 13,
      "outputs": []
    },
    {
      "cell_type": "code",
      "metadata": {
        "colab": {
          "base_uri": "https://localhost:8080/"
        },
        "id": "w-v4_i1U5lBu",
        "outputId": "7843177e-7513-436e-bd3d-ad17015d55fe"
      },
      "source": [
        "from sklearn.decomposition import PCA\n",
        "\n",
        "pca = PCA()\n",
        "pca.fit(XTrain)"
      ],
      "execution_count": 64,
      "outputs": [
        {
          "output_type": "execute_result",
          "data": {
            "text/plain": [
              "PCA(copy=True, iterated_power='auto', n_components=None, random_state=None,\n",
              "    svd_solver='auto', tol=0.0, whiten=False)"
            ]
          },
          "metadata": {},
          "execution_count": 64
        }
      ]
    },
    {
      "cell_type": "code",
      "metadata": {
        "colab": {
          "base_uri": "https://localhost:8080/"
        },
        "id": "ZEApXqFjeXnY",
        "outputId": "55fdbc94-fdd1-4a5b-d29b-c8e547684838"
      },
      "source": [
        "# Shape is (num_components, features)\n",
        "# num_components = min(num_samples, features)\n",
        "print(\"Components: \", pca.components_.shape) \n",
        "\n",
        "best_component_idx = np.argmax(pca.explained_variance_ratio_)\n",
        "best_component_var = round(pca.explained_variance_ratio_[best_component_idx] * 100, 2)\n",
        "\n",
        "print(f\"The top component at index {best_component_idx} explains {best_component_var}% of variance.\")"
      ],
      "execution_count": 67,
      "outputs": [
        {
          "output_type": "stream",
          "name": "stdout",
          "text": [
            "Components:  (580, 26048)\n",
            "The top component at index 0 explains 1.05% of variance.\n"
          ]
        }
      ]
    },
    {
      "cell_type": "code",
      "metadata": {
        "colab": {
          "base_uri": "https://localhost:8080/"
        },
        "id": "lj0wZ5jkfisy",
        "outputId": "84ff8e57-d134-4744-b642-71c78843edb5"
      },
      "source": [
        "top_abs_components = np.abs(pca.components_[best_component_idx, :])\n",
        "top_k = 30\n",
        "# -1 to reverse the array\n",
        "top_indices = np.argsort(top_abs_components)[-top_k:][::-1]\n",
        "print(\"Top Indices: \", top_indices)\n",
        "top_voc = [vocabulary[i] for i in top_indices]\n",
        "print(\"Top 30 words with the highest absolute coefficient in the top component:\\n\", \"\\n\".join(top_voc))\n",
        "\n",
        "low_indices = np.argsort(top_abs_components)[:top_k]\n",
        "low_voc = [vocabulary[i] for i in low_indices]\n",
        "print(\"30 words with the lowest absolute coeffecient in the top component: \", low_voc)"
      ],
      "execution_count": 83,
      "outputs": [
        {
          "output_type": "stream",
          "name": "stdout",
          "text": [
            "Top Indices:  [ 447 1169  468  136   12  189  181 1304  206  687  418    6  535  208\n",
            "  937  121  148  776   60  209 1237  795 1547  269  102  420  432   97\n",
            "  364  230]\n",
            "Top 30 words with the highest absolute coefficient in the top component:\n",
            " help\n",
            "power\n",
            "do\n",
            "now\n",
            "there\n",
            "may\n",
            "seem\n",
            "also\n",
            "mr\n",
            "peopl\n",
            "few\n",
            "govern\n",
            "mani\n",
            "about\n",
            "most\n",
            "some\n",
            "countri\n",
            "foreign\n",
            "than\n",
            "such\n",
            "includ\n",
            "even\n",
            "anoth\n",
            "no\n",
            "much\n",
            "between\n",
            "both\n",
            "into\n",
            "becaus\n",
            "which\n",
            "30 words with the lowest absolute coeffecient in the top component:  ['claric', 'crossrefer', 'seaworthi', 'forth', 'interperson', 'rubber', 'ah64', 'eighth', 'cfp', 'martiniqu', 'lobbieshumanright', 'payphon', '117', 'nickl', 'nabisco', 'gesturesensit', 'radiat', 'harsher', 'acrossbuttonhol', 'allwhit', 'nogal', 'luo', 'ben', 'hourlong', 'mao', 'silent', 'premiumbrand', 'gamblingapp', 'sen', 'chicmo']\n"
          ]
        }
      ]
    },
    {
      "cell_type": "code",
      "metadata": {
        "colab": {
          "base_uri": "https://localhost:8080/"
        },
        "id": "e0rrfzzMjcct",
        "outputId": "cf93924d-2ab2-48cf-f1d2-5024d13c3dc8"
      },
      "source": [
        "top_stopwords = {word: word in stopwords for word in top_voc}\n",
        "\n",
        "count = sum(top_stopwords.values())\n",
        "\n",
        "print(f\"{count} out of {top_k} most important words are stopwords.\")\n",
        "\n",
        "top_stopwords"
      ],
      "execution_count": 63,
      "outputs": [
        {
          "output_type": "stream",
          "name": "stdout",
          "text": [
            "10 out of 30 most important words are stopwords.\n"
          ]
        },
        {
          "output_type": "execute_result",
          "data": {
            "text/plain": [
              "{'about': True,\n",
              " 'also': False,\n",
              " 'anoth': False,\n",
              " 'becaus': False,\n",
              " 'between': True,\n",
              " 'both': True,\n",
              " 'countri': False,\n",
              " 'do': False,\n",
              " 'even': False,\n",
              " 'few': False,\n",
              " 'foreign': False,\n",
              " 'govern': False,\n",
              " 'help': False,\n",
              " 'includ': False,\n",
              " 'into': True,\n",
              " 'mani': False,\n",
              " 'may': False,\n",
              " 'most': True,\n",
              " 'mr': False,\n",
              " 'much': False,\n",
              " 'no': False,\n",
              " 'now': False,\n",
              " 'peopl': False,\n",
              " 'power': False,\n",
              " 'seem': False,\n",
              " 'some': True,\n",
              " 'such': True,\n",
              " 'than': True,\n",
              " 'there': True,\n",
              " 'which': True}"
            ]
          },
          "metadata": {},
          "execution_count": 63
        }
      ]
    },
    {
      "cell_type": "code",
      "metadata": {
        "colab": {
          "base_uri": "https://localhost:8080/"
        },
        "id": "8PBmhlKqlq-Y",
        "outputId": "ff52e1b6-cd44-46ea-af54-502a4d863b9d"
      },
      "source": [
        "stop_proportion = round((len(stopwords) / len(vocabulary)) * 100, 2)\n",
        "print(f\"Stopwords make up ~{stop_proportion}% of words\")"
      ],
      "execution_count": 81,
      "outputs": [
        {
          "output_type": "stream",
          "name": "stdout",
          "text": [
            "Stopwords make up ~0.83% of words\n"
          ]
        }
      ]
    },
    {
      "cell_type": "markdown",
      "metadata": {
        "id": "3u1S8jCKlhJI"
      },
      "source": [
        "- Indeed 33.3% out of the most impactful coefficients of the component explaining the most relevance are stopwords\n",
        "- This is despite stopwords only being 0.83% of our total words, hence the above 33.3% are highly significant\n",
        "- We can also observe that words with a low absolute coefficient are rarely used words, such as \"claric\", \"seaworthi\", \"ah64\"\n",
        "  - This makes sense since they are likely to only occur in few of the documents, hence the variation from document to document they explain is tiny\n",
        "- From the vocabulary, we can also see that it is likely preprocessed via e.g. lemmatization, as verbs are reduced to their stem (\"including\" -> \"includ\")"
      ]
    },
    {
      "cell_type": "markdown",
      "metadata": {
        "id": "lcstKMthut0C"
      },
      "source": [
        "# Deep Learning"
      ]
    },
    {
      "cell_type": "markdown",
      "metadata": {
        "id": "NM_FImchut0D"
      },
      "source": [
        "### Import MNIST Dataset"
      ]
    },
    {
      "cell_type": "code",
      "metadata": {
        "colab": {
          "base_uri": "https://localhost:8080/"
        },
        "id": "CEmOB0a2ut0E",
        "outputId": "dbb88e43-147b-4546-f557-d753bab5d414"
      },
      "source": [
        "from tensorflow import keras\n",
        "from tensorflow.keras import layers\n",
        "from tensorflow.keras import utils\n",
        "(X_train, y_train), (X_test, y_test) = keras.datasets.mnist.load_data()\n",
        "\n",
        "img_rows, img_cols = 28, 28\n",
        "num_classes = 10 # class size\n",
        "input_unit_size = 28*28 # input vector size\n",
        "\n",
        "X_train = X_train.reshape(X_train.shape[0], input_unit_size)\n",
        "X_test  = X_test.reshape(X_test.shape[0], input_unit_size)\n",
        "X_train_image = X_train.reshape(X_train.shape[0], 1, img_rows, img_cols) \n",
        "X_test_image = X_test.reshape(X_test.shape[0], 1, img_rows, img_cols)\n",
        "\n",
        "X_train = X_train.astype('float32')\n",
        "X_test = X_test.astype('float32')\n",
        "X_train /= 255\n",
        "X_test /= 255\n",
        "\n",
        "# one-hot representation\n",
        "y_train = utils.to_categorical(y_train, num_classes)\n",
        "y_test = utils.to_categorical(y_test, num_classes)"
      ],
      "execution_count": 3,
      "outputs": [
        {
          "output_type": "stream",
          "name": "stdout",
          "text": [
            "Downloading data from https://storage.googleapis.com/tensorflow/tf-keras-datasets/mnist.npz\n",
            "11493376/11490434 [==============================] - 0s 0us/step\n",
            "11501568/11490434 [==============================] - 0s 0us/step\n"
          ]
        }
      ]
    },
    {
      "cell_type": "code",
      "metadata": {
        "id": "Qbu5XhA_ut0F"
      },
      "source": [
        "# If it takes too long to run the clustering, you can use the sampled data to do the clustering.\n",
        "X_train_sample = X_train[0:1000,:]\n",
        "y_train_sample = y_train[0:1000,:]\n",
        "X_train_image_sample = X_train_image[0:1000,:]\n",
        "\n",
        "image_shape = X_train_image_sample[0].shape"
      ],
      "execution_count": 4,
      "outputs": []
    },
    {
      "cell_type": "code",
      "metadata": {
        "colab": {
          "base_uri": "https://localhost:8080/"
        },
        "id": "aBvbmmx9ut0G",
        "outputId": "f13e19a3-d056-4103-c35a-a16e6dfc191e"
      },
      "source": [
        "'''\n",
        "Train a two-layer neural network:\n",
        "    Hidden layer: number of hidden units = 128, activation = ReLu\n",
        "    Use Dropout Strategy\n",
        "    Output layer: activation = softmax\n",
        "    loss function: categorical_crossentropy\n",
        "    optimizer: SGD\n",
        "    metrics: accuracy\n",
        "    (Regarding parameters that are not specified above, use the default values)\n",
        "    \n",
        "You need to use grid search to tune the dropout rate and the learning rate in SGD optimizer.\n",
        "\n",
        "Hint: to define the estimator required in Grid Search, you might need to use KerasClassifier \n",
        "        (https://keras.io/scikit-learn-api/)\n",
        "\n",
        "References: https://chrisalbon.com/deep_learning/keras/tuning_neural_network_hyperparameters/ \n",
        "\n",
        "Delivery:\n",
        "    Model performance\n",
        "    Optimal model parameters\n",
        "'''\n",
        "\n",
        "import tensorflow as tf\n",
        "from tensorflow import keras\n",
        "from tensorflow.keras import layers\n",
        "\n",
        "from sklearn.model_selection import GridSearchCV\n",
        "\n",
        "# YOUR CODES\n",
        "\n",
        "# To combine TF2-Keras & Sci-kit\n",
        "!pip install -q scikeras\n",
        "\n",
        "from scikeras.wrappers import KerasClassifier\n",
        "\n",
        "def get_model(hidden_layer_dim, dropout_rate):\n",
        "    model = keras.Sequential(\n",
        "        [\n",
        "          keras.Input(shape=(input_unit_size,), name=\"digits\"),\n",
        "          layers.Dense(hidden_layer_dim, activation=\"relu\", name=\"dense_1\"),\n",
        "          tf.keras.layers.Dropout(dropout_rate, seed=42),\n",
        "          layers.Dense(10, name=\"predictions\", activation=\"softmax\")\n",
        "        ]\n",
        "    )\n",
        "    return model\n",
        "\n",
        "clf = KerasClassifier(\n",
        "    get_model,\n",
        "    loss=\"categorical_crossentropy\", # sparse_categorical_crossentropy if labels are not one hot\n",
        "    hidden_layer_dim=128,\n",
        "    dropout_rate=0.2,\n",
        "    metrics=keras.metrics.CategoricalAccuracy(),\n",
        ")\n",
        "\n",
        "\n",
        "# Grid Search\n",
        "params = {\n",
        "    \"hidden_layer_dim\": [128],\n",
        "    \"optimizer\": [\"sgd\"],\n",
        "    \"optimizer__learning_rate\": [1e-5, 1e-4, 1e-3, 1e-2, 1e-1],\n",
        "    \"dropout_rate\": [0.0, 0.1, 0.2, 0.3, 0.4, 0.5]\n",
        "}\n",
        "\n",
        "gs = GridSearchCV(clf, params, refit=True, cv=3, scoring='accuracy')\n",
        "gs.fit(X_train, y_train)\n",
        "\n",
        "print(\"Delivery:\")\n",
        "print(\"Model performance Folds: \", gs.best_score_)\n",
        "print(\"Model performance Test: \", gs.score(X_test, y_test))\n",
        "print(\"Optimal parameters: \", gs.best_params_)"
      ],
      "execution_count": 6,
      "outputs": [
        {
          "output_type": "stream",
          "name": "stdout",
          "text": [
            "1250/1250 [==============================] - 3s 2ms/step - loss: 2.3802 - categorical_accuracy: 0.1006\n",
            "625/625 [==============================] - 1s 1ms/step\n",
            "1250/1250 [==============================] - 3s 2ms/step - loss: 2.4122 - categorical_accuracy: 0.0759\n",
            "625/625 [==============================] - 1s 1ms/step\n",
            "1250/1250 [==============================] - 3s 2ms/step - loss: 2.3401 - categorical_accuracy: 0.0642\n",
            "625/625 [==============================] - 1s 1ms/step\n",
            "1250/1250 [==============================] - 3s 2ms/step - loss: 2.2842 - categorical_accuracy: 0.1278\n",
            "625/625 [==============================] - 1s 1ms/step\n",
            "1250/1250 [==============================] - 3s 2ms/step - loss: 2.3470 - categorical_accuracy: 0.1149\n",
            "625/625 [==============================] - 1s 1ms/step\n",
            "1250/1250 [==============================] - 3s 2ms/step - loss: 2.3157 - categorical_accuracy: 0.1119\n",
            "625/625 [==============================] - 1s 1ms/step\n",
            "1250/1250 [==============================] - 3s 2ms/step - loss: 1.9235 - categorical_accuracy: 0.4250\n",
            "625/625 [==============================] - 1s 1ms/step\n",
            "1250/1250 [==============================] - 3s 2ms/step - loss: 1.9077 - categorical_accuracy: 0.4633\n",
            "625/625 [==============================] - 1s 1ms/step\n",
            "1250/1250 [==============================] - 3s 2ms/step - loss: 1.8916 - categorical_accuracy: 0.4612\n",
            "625/625 [==============================] - 1s 1ms/step\n",
            "1250/1250 [==============================] - 3s 2ms/step - loss: 0.7659 - categorical_accuracy: 0.8124\n",
            "625/625 [==============================] - 1s 1ms/step\n",
            "1250/1250 [==============================] - 3s 2ms/step - loss: 0.7549 - categorical_accuracy: 0.8158\n",
            "625/625 [==============================] - 1s 1ms/step\n",
            "1250/1250 [==============================] - 3s 2ms/step - loss: 0.7540 - categorical_accuracy: 0.8155\n",
            "625/625 [==============================] - 1s 1ms/step\n",
            "1250/1250 [==============================] - 3s 2ms/step - loss: 0.3400 - categorical_accuracy: 0.9025\n",
            "625/625 [==============================] - 1s 1ms/step\n",
            "1250/1250 [==============================] - 3s 2ms/step - loss: 0.3399 - categorical_accuracy: 0.9028\n",
            "625/625 [==============================] - 1s 1ms/step\n",
            "1250/1250 [==============================] - 3s 2ms/step - loss: 0.3519 - categorical_accuracy: 0.9007\n",
            "625/625 [==============================] - 1s 1ms/step\n",
            "1250/1250 [==============================] - 3s 2ms/step - loss: 2.4391 - categorical_accuracy: 0.1055\n",
            "625/625 [==============================] - 1s 1ms/step\n",
            "1250/1250 [==============================] - 3s 2ms/step - loss: 2.3610 - categorical_accuracy: 0.1035\n",
            "625/625 [==============================] - 1s 1ms/step\n",
            "1250/1250 [==============================] - 3s 2ms/step - loss: 2.4240 - categorical_accuracy: 0.0705\n",
            "625/625 [==============================] - 1s 1ms/step\n",
            "1250/1250 [==============================] - 3s 2ms/step - loss: 2.2567 - categorical_accuracy: 0.1496\n",
            "625/625 [==============================] - 1s 1ms/step\n",
            "1250/1250 [==============================] - 3s 2ms/step - loss: 2.3270 - categorical_accuracy: 0.1286\n",
            "625/625 [==============================] - 1s 1ms/step\n",
            "1250/1250 [==============================] - 3s 2ms/step - loss: 2.2870 - categorical_accuracy: 0.1418\n",
            "625/625 [==============================] - 1s 1ms/step\n",
            "1250/1250 [==============================] - 3s 2ms/step - loss: 1.9138 - categorical_accuracy: 0.4363\n",
            "625/625 [==============================] - 1s 1ms/step\n",
            "1250/1250 [==============================] - 3s 2ms/step - loss: 1.8754 - categorical_accuracy: 0.4633\n",
            "625/625 [==============================] - 1s 1ms/step\n",
            "1250/1250 [==============================] - 3s 2ms/step - loss: 1.9350 - categorical_accuracy: 0.4278\n",
            "625/625 [==============================] - 1s 1ms/step\n",
            "1250/1250 [==============================] - 3s 2ms/step - loss: 0.7983 - categorical_accuracy: 0.7914\n",
            "625/625 [==============================] - 1s 1ms/step\n",
            "1250/1250 [==============================] - 3s 2ms/step - loss: 0.8176 - categorical_accuracy: 0.7774\n",
            "625/625 [==============================] - 1s 1ms/step\n",
            "1250/1250 [==============================] - 3s 2ms/step - loss: 0.8206 - categorical_accuracy: 0.7879\n",
            "625/625 [==============================] - 1s 1ms/step\n",
            "1250/1250 [==============================] - 3s 2ms/step - loss: 0.3646 - categorical_accuracy: 0.8952\n",
            "625/625 [==============================] - 1s 1ms/step\n",
            "1250/1250 [==============================] - 3s 2ms/step - loss: 0.3577 - categorical_accuracy: 0.8966\n",
            "625/625 [==============================] - 1s 1ms/step\n",
            "1250/1250 [==============================] - 3s 2ms/step - loss: 0.3666 - categorical_accuracy: 0.8942\n",
            "625/625 [==============================] - 1s 1ms/step\n",
            "1250/1250 [==============================] - 3s 2ms/step - loss: 2.3940 - categorical_accuracy: 0.0952\n",
            "625/625 [==============================] - 1s 1ms/step\n",
            "1250/1250 [==============================] - 3s 2ms/step - loss: 2.3990 - categorical_accuracy: 0.0876\n",
            "625/625 [==============================] - 1s 1ms/step\n",
            "1250/1250 [==============================] - 3s 2ms/step - loss: 2.3823 - categorical_accuracy: 0.1051\n",
            "625/625 [==============================] - 1s 1ms/step\n",
            "1250/1250 [==============================] - 3s 2ms/step - loss: 2.2224 - categorical_accuracy: 0.2017\n",
            "625/625 [==============================] - 1s 1ms/step\n",
            "1250/1250 [==============================] - 3s 2ms/step - loss: 2.3610 - categorical_accuracy: 0.1044\n",
            "625/625 [==============================] - 1s 1ms/step\n",
            "1250/1250 [==============================] - 3s 2ms/step - loss: 2.2791 - categorical_accuracy: 0.1524\n",
            "625/625 [==============================] - 1s 1ms/step\n",
            "1250/1250 [==============================] - 3s 2ms/step - loss: 1.8711 - categorical_accuracy: 0.4484\n",
            "625/625 [==============================] - 1s 1ms/step\n",
            "1250/1250 [==============================] - 3s 2ms/step - loss: 1.8908 - categorical_accuracy: 0.4243\n",
            "625/625 [==============================] - 1s 1ms/step\n",
            "1250/1250 [==============================] - 3s 2ms/step - loss: 1.8747 - categorical_accuracy: 0.4296\n",
            "625/625 [==============================] - 1s 1ms/step\n",
            "1250/1250 [==============================] - 3s 2ms/step - loss: 0.8352 - categorical_accuracy: 0.7728\n",
            "625/625 [==============================] - 1s 1ms/step\n",
            "1250/1250 [==============================] - 3s 2ms/step - loss: 0.8464 - categorical_accuracy: 0.7717\n",
            "625/625 [==============================] - 1s 1ms/step\n",
            "1250/1250 [==============================] - 3s 2ms/step - loss: 0.8462 - categorical_accuracy: 0.7737\n",
            "625/625 [==============================] - 1s 1ms/step\n",
            "1250/1250 [==============================] - 3s 2ms/step - loss: 0.3862 - categorical_accuracy: 0.8866\n",
            "625/625 [==============================] - 1s 1ms/step\n",
            "1250/1250 [==============================] - 3s 2ms/step - loss: 0.3852 - categorical_accuracy: 0.8874\n",
            "625/625 [==============================] - 1s 1ms/step\n",
            "1250/1250 [==============================] - 3s 2ms/step - loss: 0.3919 - categorical_accuracy: 0.8875\n",
            "625/625 [==============================] - 1s 1ms/step\n",
            "1250/1250 [==============================] - 3s 2ms/step - loss: 2.4586 - categorical_accuracy: 0.0761\n",
            "625/625 [==============================] - 1s 1ms/step\n",
            "1250/1250 [==============================] - 3s 2ms/step - loss: 2.3587 - categorical_accuracy: 0.1249\n",
            "625/625 [==============================] - 1s 1ms/step\n",
            "1250/1250 [==============================] - 3s 2ms/step - loss: 2.3861 - categorical_accuracy: 0.0869\n",
            "625/625 [==============================] - 1s 1ms/step\n",
            "1250/1250 [==============================] - 3s 2ms/step - loss: 2.3632 - categorical_accuracy: 0.1153\n",
            "625/625 [==============================] - 1s 1ms/step\n",
            "1250/1250 [==============================] - 3s 2ms/step - loss: 2.3357 - categorical_accuracy: 0.1394\n",
            "625/625 [==============================] - 1s 1ms/step\n",
            "1250/1250 [==============================] - 3s 2ms/step - loss: 2.3896 - categorical_accuracy: 0.0865\n",
            "625/625 [==============================] - 1s 1ms/step\n",
            "1250/1250 [==============================] - 3s 2ms/step - loss: 1.9621 - categorical_accuracy: 0.3731\n",
            "625/625 [==============================] - 1s 1ms/step\n",
            "1250/1250 [==============================] - 3s 2ms/step - loss: 1.8627 - categorical_accuracy: 0.4278\n",
            "625/625 [==============================] - 1s 1ms/step\n",
            "1250/1250 [==============================] - 3s 2ms/step - loss: 1.9893 - categorical_accuracy: 0.3743\n",
            "625/625 [==============================] - 1s 1ms/step\n",
            "1250/1250 [==============================] - 3s 2ms/step - loss: 0.8564 - categorical_accuracy: 0.7582\n",
            "625/625 [==============================] - 1s 1ms/step\n",
            "1250/1250 [==============================] - 3s 2ms/step - loss: 0.9049 - categorical_accuracy: 0.7447\n",
            "625/625 [==============================] - 1s 1ms/step\n",
            "1250/1250 [==============================] - 3s 2ms/step - loss: 0.8904 - categorical_accuracy: 0.7488\n",
            "625/625 [==============================] - 1s 1ms/step\n",
            "1250/1250 [==============================] - 3s 2ms/step - loss: 0.4053 - categorical_accuracy: 0.8817\n",
            "625/625 [==============================] - 1s 1ms/step\n",
            "1250/1250 [==============================] - 3s 2ms/step - loss: 0.4039 - categorical_accuracy: 0.8817\n",
            "625/625 [==============================] - 1s 1ms/step\n",
            "1250/1250 [==============================] - 3s 2ms/step - loss: 0.4136 - categorical_accuracy: 0.8794\n",
            "625/625 [==============================] - 1s 1ms/step\n",
            "1250/1250 [==============================] - 3s 2ms/step - loss: 2.3857 - categorical_accuracy: 0.1068\n",
            "625/625 [==============================] - 1s 1ms/step\n",
            "1250/1250 [==============================] - 3s 2ms/step - loss: 2.3857 - categorical_accuracy: 0.1177\n",
            "625/625 [==============================] - 1s 1ms/step\n",
            "1250/1250 [==============================] - 3s 2ms/step - loss: 2.4637 - categorical_accuracy: 0.0932\n",
            "625/625 [==============================] - 1s 1ms/step\n",
            "1250/1250 [==============================] - 3s 2ms/step - loss: 2.3166 - categorical_accuracy: 0.1466\n",
            "625/625 [==============================] - 1s 1ms/step\n",
            "1250/1250 [==============================] - 3s 2ms/step - loss: 2.3573 - categorical_accuracy: 0.1361\n",
            "625/625 [==============================] - 1s 1ms/step\n",
            "1250/1250 [==============================] - 3s 2ms/step - loss: 2.3699 - categorical_accuracy: 0.1143\n",
            "625/625 [==============================] - 1s 1ms/step\n",
            "1250/1250 [==============================] - 3s 2ms/step - loss: 1.9641 - categorical_accuracy: 0.3548\n",
            "625/625 [==============================] - 1s 1ms/step\n",
            "1250/1250 [==============================] - 3s 2ms/step - loss: 1.9154 - categorical_accuracy: 0.3830\n",
            "625/625 [==============================] - 1s 1ms/step\n",
            "1250/1250 [==============================] - 3s 2ms/step - loss: 1.9509 - categorical_accuracy: 0.3659\n",
            "625/625 [==============================] - 1s 1ms/step\n",
            "1250/1250 [==============================] - 3s 2ms/step - loss: 0.9290 - categorical_accuracy: 0.7304\n",
            "625/625 [==============================] - 1s 1ms/step\n",
            "1250/1250 [==============================] - 3s 2ms/step - loss: 0.9156 - categorical_accuracy: 0.7355\n",
            "625/625 [==============================] - 1s 1ms/step\n",
            "1250/1250 [==============================] - 3s 2ms/step - loss: 0.9222 - categorical_accuracy: 0.7324\n",
            "625/625 [==============================] - 1s 1ms/step\n",
            "1250/1250 [==============================] - 3s 2ms/step - loss: 0.4350 - categorical_accuracy: 0.8691\n",
            "625/625 [==============================] - 1s 1ms/step\n",
            "1250/1250 [==============================] - 3s 2ms/step - loss: 0.4343 - categorical_accuracy: 0.8730\n",
            "625/625 [==============================] - 1s 1ms/step\n",
            "1250/1250 [==============================] - 3s 2ms/step - loss: 0.4400 - categorical_accuracy: 0.8699\n",
            "625/625 [==============================] - 1s 1ms/step\n",
            "1250/1250 [==============================] - 3s 2ms/step - loss: 2.4556 - categorical_accuracy: 0.0956\n",
            "625/625 [==============================] - 1s 1ms/step\n",
            "1250/1250 [==============================] - 3s 2ms/step - loss: 2.4634 - categorical_accuracy: 0.0924\n",
            "625/625 [==============================] - 1s 1ms/step\n",
            "1250/1250 [==============================] - 3s 2ms/step - loss: 2.4994 - categorical_accuracy: 0.0926\n",
            "625/625 [==============================] - 1s 1ms/step\n",
            "1250/1250 [==============================] - 3s 2ms/step - loss: 2.3839 - categorical_accuracy: 0.1204\n",
            "625/625 [==============================] - 1s 1ms/step\n",
            "1250/1250 [==============================] - 3s 2ms/step - loss: 2.3802 - categorical_accuracy: 0.1131\n",
            "625/625 [==============================] - 1s 1ms/step\n",
            "1250/1250 [==============================] - 3s 2ms/step - loss: 2.3594 - categorical_accuracy: 0.1348\n",
            "625/625 [==============================] - 1s 1ms/step\n",
            "1250/1250 [==============================] - 3s 2ms/step - loss: 2.0426 - categorical_accuracy: 0.2981\n",
            "625/625 [==============================] - 1s 1ms/step\n",
            "1250/1250 [==============================] - 3s 2ms/step - loss: 1.9970 - categorical_accuracy: 0.3453\n",
            "625/625 [==============================] - 1s 1ms/step\n",
            "1250/1250 [==============================] - 3s 2ms/step - loss: 1.9308 - categorical_accuracy: 0.3610\n",
            "625/625 [==============================] - 1s 1ms/step\n",
            "1250/1250 [==============================] - 3s 2ms/step - loss: 0.9771 - categorical_accuracy: 0.7092\n",
            "625/625 [==============================] - 1s 1ms/step\n",
            "1250/1250 [==============================] - 3s 2ms/step - loss: 0.9813 - categorical_accuracy: 0.7112\n",
            "625/625 [==============================] - 1s 1ms/step\n",
            "1250/1250 [==============================] - 3s 2ms/step - loss: 1.0020 - categorical_accuracy: 0.6977\n",
            "625/625 [==============================] - 1s 1ms/step\n",
            "1250/1250 [==============================] - 3s 2ms/step - loss: 0.4794 - categorical_accuracy: 0.8571\n",
            "625/625 [==============================] - 1s 1ms/step\n",
            "1250/1250 [==============================] - 3s 2ms/step - loss: 0.4744 - categorical_accuracy: 0.8566\n",
            "625/625 [==============================] - 1s 1ms/step\n",
            "1250/1250 [==============================] - 3s 2ms/step - loss: 0.4762 - categorical_accuracy: 0.8584\n",
            "625/625 [==============================] - 1s 1ms/step\n",
            "1875/1875 [==============================] - 4s 2ms/step - loss: 0.3504 - categorical_accuracy: 0.8968\n",
            "Delivery:\n",
            "Model performance Folds:  0.9381666666666666\n",
            "313/313 [==============================] - 0s 1ms/step\n",
            "Model performance Test:  0.9518\n",
            "Optimal parameters:  {'dropout_rate': 0.3, 'hidden_layer_dim': 128, 'optimizer': 'sgd', 'optimizer__learning_rate': 0.1}\n"
          ]
        }
      ]
    },
    {
      "cell_type": "markdown",
      "metadata": {
        "id": "-92cVhF1WGd1"
      },
      "source": [
        "- Results:\n",
        "  - K-fold accuracy: 93.82%\n",
        "  - Test accuracy: 95.18%\n",
        "  - Dropout rate: 0.3\n",
        "  - SGD Learning Rate: 0.1"
      ]
    },
    {
      "cell_type": "code",
      "metadata": {
        "colab": {
          "base_uri": "https://localhost:8080/"
        },
        "id": "FrdaUsTKut0G",
        "outputId": "fd8df78d-f233-4fe8-d858-161454c45ffb"
      },
      "source": [
        "'''\n",
        "Task: Explore the correlation between model preformance and the number of units\n",
        "\n",
        "Delivery: Plot a graph where \n",
        "    the x-axis is the number of hidden units, \n",
        "    and the y-axis is the model performance (two lines: one with test loss, and one with test accuracy)\n",
        "    \n",
        "\n",
        "'''\n",
        "\n",
        "units_grid = [2 ** x for x in range(0, 11)] # 2 -> 1024\n",
        "\n",
        "test_losses = []\n",
        "test_accs = []\n",
        "\n",
        "for num_units in units_grid:\n",
        "    # Use parameters found via GridSearch\n",
        "    clf = KerasClassifier(\n",
        "    get_model,\n",
        "    loss=\"categorical_crossentropy\", # sparse_categorical_crossentropy if labels are not one hot\n",
        "    hidden_layer_dim=num_units,\n",
        "    dropout_rate=0.3,\n",
        "    metrics=keras.metrics.CategoricalAccuracy(),\n",
        "    optimizer=\"sgd\",\n",
        "    optimizer__learning_rate=0.1,\n",
        "    )\n",
        "\n",
        "    clf.fit(X_train, y_train)\n",
        "    acc = clf.score(X_test, y_test)\n",
        "\n",
        "    preds = clf.predict_proba(X_test)\n",
        "    losses = tf.keras.metrics.categorical_crossentropy(\n",
        "    y_test, preds, from_logits=False, label_smoothing=0.0, axis=-1\n",
        "    ).numpy()\n",
        "    # Take the average of all sample losses\n",
        "    avg_loss = sum(losses) / len(losses)\n",
        "\n",
        "    test_losses.append(avg_loss)\n",
        "    test_accs.append(acc)"
      ],
      "execution_count": 9,
      "outputs": [
        {
          "output_type": "stream",
          "name": "stdout",
          "text": [
            "1875/1875 [==============================] - 3s 1ms/step - loss: 2.0880 - categorical_accuracy: 0.1890\n",
            "313/313 [==============================] - 0s 1ms/step\n",
            "313/313 [==============================] - 0s 1ms/step\n",
            "1875/1875 [==============================] - 3s 1ms/step - loss: 1.8508 - categorical_accuracy: 0.3024\n",
            "313/313 [==============================] - 0s 1ms/step\n",
            "313/313 [==============================] - 0s 1ms/step\n",
            "1875/1875 [==============================] - 3s 2ms/step - loss: 1.4698 - categorical_accuracy: 0.4566\n",
            "313/313 [==============================] - 0s 1ms/step\n",
            "313/313 [==============================] - 0s 1ms/step\n",
            "1875/1875 [==============================] - 3s 1ms/step - loss: 1.1123 - categorical_accuracy: 0.5835\n",
            "313/313 [==============================] - 0s 1ms/step\n",
            "313/313 [==============================] - 0s 1ms/step\n",
            "1875/1875 [==============================] - 3s 1ms/step - loss: 0.7266 - categorical_accuracy: 0.7621\n",
            "313/313 [==============================] - 0s 1ms/step\n",
            "313/313 [==============================] - 0s 1ms/step\n",
            "1875/1875 [==============================] - 3s 2ms/step - loss: 0.5176 - categorical_accuracy: 0.8411\n",
            "313/313 [==============================] - 0s 1ms/step\n",
            "313/313 [==============================] - 0s 1ms/step\n",
            "1875/1875 [==============================] - 3s 2ms/step - loss: 0.4129 - categorical_accuracy: 0.8784\n",
            "313/313 [==============================] - 0s 1ms/step\n",
            "313/313 [==============================] - 0s 1ms/step\n",
            "1875/1875 [==============================] - 4s 2ms/step - loss: 0.3511 - categorical_accuracy: 0.8978\n",
            "313/313 [==============================] - 0s 1ms/step\n",
            "313/313 [==============================] - 0s 1ms/step\n",
            "1875/1875 [==============================] - 5s 3ms/step - loss: 0.3159 - categorical_accuracy: 0.9081\n",
            "313/313 [==============================] - 1s 2ms/step\n",
            "313/313 [==============================] - 1s 2ms/step\n",
            "1875/1875 [==============================] - 8s 4ms/step - loss: 0.3008 - categorical_accuracy: 0.9132\n",
            "313/313 [==============================] - 1s 2ms/step\n",
            "313/313 [==============================] - 1s 2ms/step\n",
            "1875/1875 [==============================] - 12s 6ms/step - loss: 0.2903 - categorical_accuracy: 0.9164\n",
            "313/313 [==============================] - 1s 3ms/step\n",
            "313/313 [==============================] - 1s 3ms/step\n"
          ]
        }
      ]
    },
    {
      "cell_type": "code",
      "metadata": {
        "colab": {
          "base_uri": "https://localhost:8080/",
          "height": 730
        },
        "id": "3mL38Gy3R4gW",
        "outputId": "c2b877c4-3591-4e27-a779-680c978c8db5"
      },
      "source": [
        "import matplotlib.pyplot as plt\n",
        "\n",
        "plt.figure(figsize=(16, 12))\n",
        "\n",
        "plt.plot(units_grid, test_accs, linestyle='--', marker='o', color='g', label='line with marker')\n",
        "plt.plot(units_grid, test_losses, linestyle='--', marker='o', color='r', label='line with marker')\n",
        "\n",
        "best_loss_idx = np.argmin(test_losses)\n",
        "best_acc_idx = np.argmax(test_accs)\n",
        "\n",
        "plt.annotate(f\"Best Loss of {round(test_losses[best_loss_idx], 4)}\", (units_grid[best_loss_idx], test_losses[best_loss_idx]))\n",
        "plt.annotate(f\"Best Accuracy of {round(test_accs[best_acc_idx], 4)}\", (units_grid[best_acc_idx], test_accs[best_acc_idx]))\n",
        "\n",
        "plt.xlabel(\"Hidden Units\")\n",
        "plt.ylabel(\"Performance\")\n",
        "\n",
        "plt.title('Test performance while scaling Hidden Units')\n",
        "plt.legend(['Accuracy', 'Loss'], loc='upper left')\n",
        "\n",
        "plt.show()"
      ],
      "execution_count": 10,
      "outputs": [
        {
          "output_type": "display_data",
          "data": {
            "image/png": "[encoded data removed]",
            "text/plain": [
              "<Figure size 1152x864 with 1 Axes>"
            ]
          },
          "metadata": {
            "needs_background": "light"
          }
        }
      ]
    },
    {
      "cell_type": "markdown",
      "metadata": {
        "id": "xszH9EEcVrWb"
      },
      "source": [
        "- As we increase hidden units, we gradually move from underfitting (high bias, low variance) to overfitting (low bias, high variance)\n",
        "- We have found a loss optimum at 512 hidden units and slightly higher accuracy at 1024, though it could be more efficient to use multiple layers"
      ]
    },
    {
      "cell_type": "markdown",
      "metadata": {
        "id": "2a0Q6KRdWptL"
      },
      "source": [
        "References\n",
        "- https://www.adriangb.com/scikeras/stable/notebooks/Basic_Usage.html\n",
        "- TensorFlow, Keras, sci-kit documentation\n",
        "- https://stackoverflow.com/questions/50796024/feature-variable-importance-after-a-pca-analysis"
      ]
    },
    {
      "cell_type": "code",
      "metadata": {
        "id": "hu5XpWKIn1tR"
      },
      "source": [
        ""
      ],
      "execution_count": null,
      "outputs": []
    }
  ]
}