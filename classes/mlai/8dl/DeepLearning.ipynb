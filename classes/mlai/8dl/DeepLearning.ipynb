{
 "cells": [
  {
   "cell_type": "markdown",
   "metadata": {},
   "source": [
    "# Deep Learning"
   ]
  },
  {
   "cell_type": "code",
   "execution_count": 1,
   "metadata": {},
   "outputs": [],
   "source": [
    "%matplotlib inline\n",
    "# import necessary libraries and specify that graphs should be plotted inline. \n",
    "import matplotlib.pyplot as plt\n",
    "import numpy as np\n",
    "\n",
    "import warnings\n",
    "warnings.filterwarnings('ignore')"
   ]
  },
  {
   "cell_type": "code",
   "execution_count": 2,
   "metadata": {},
   "outputs": [],
   "source": [
    "np.random.seed(13)\n",
    "\n",
    "from tensorflow import keras\n",
    "from tensorflow.keras import layers\n",
    "from tensorflow.keras import utils"
   ]
  },
  {
   "cell_type": "markdown",
   "metadata": {},
   "source": [
    "### MNIST Dataset"
   ]
  },
  {
   "cell_type": "code",
   "execution_count": 3,
   "metadata": {},
   "outputs": [],
   "source": [
    "# visualization\n",
    "def draw_digit(data, row, col, n):\n",
    "    plt.subplot(row, col, n)    \n",
    "    plt.imshow(data)\n",
    "    plt.gray()\n"
   ]
  },
  {
   "cell_type": "code",
   "execution_count": 4,
   "metadata": {},
   "outputs": [],
   "source": [
    "(x_train, y_train), (x_test, y_test) = keras.datasets.mnist.load_data()\n",
    "\n",
    "num_classes = 10 # class size\n",
    "input_unit_size = 28*28 # input vector size\n",
    "\n",
    "x_train = x_train.reshape(x_train.shape[0], input_unit_size)\n",
    "x_test  = x_test.reshape(x_test.shape[0], input_unit_size)\n",
    "x_train = x_train.astype('float32')\n",
    "x_test  = x_test.astype('float32')\n",
    "x_train /= 255\n",
    "x_test  /= 255\n",
    "\n",
    "# one-hot representation\n",
    "y_train = utils.to_categorical(y_train, num_classes)\n",
    "y_test = utils.to_categorical(y_test, num_classes)"
   ]
  },
  {
   "cell_type": "code",
   "execution_count": 5,
   "metadata": {},
   "outputs": [
    {
     "data": {
      "image/png": "[encoded data removed]",
      "text/plain": [
       "<Figure size 1440x1440 with 10 Axes>"
      ]
     },
     "metadata": {
      "needs_background": "light"
     },
     "output_type": "display_data"
    }
   ],
   "source": [
    "show_size = 10\n",
    "plt.figure(figsize=(20,20))\n",
    "\n",
    "for i in range(show_size):\n",
    "    draw_digit(x_train[i].reshape(28,28), 1, show_size, i+1)\n",
    "plt.show()"
   ]
  },
  {
   "cell_type": "code",
   "execution_count": 6,
   "metadata": {},
   "outputs": [
    {
     "name": "stdout",
     "output_type": "stream",
     "text": [
      "Model: \"sequential\"\n",
      "_________________________________________________________________\n",
      "Layer (type)                 Output Shape              Param #   \n",
      "=================================================================\n",
      "dense (Dense)                (None, 500)               392500    \n",
      "_________________________________________________________________\n",
      "dense_1 (Dense)              (None, 500)               250500    \n",
      "_________________________________________________________________\n",
      "dropout (Dropout)            (None, 500)               0         \n",
      "_________________________________________________________________\n",
      "dense_2 (Dense)              (None, 10)                5010      \n",
      "=================================================================\n",
      "Total params: 648,010\n",
      "Trainable params: 648,010\n",
      "Non-trainable params: 0\n",
      "_________________________________________________________________\n"
     ]
    }
   ],
   "source": [
    "model = keras.Sequential()\n",
    "model.add(layers.Dense(500, input_dim=input_unit_size, activation='relu'))\n",
    "model.add(layers.Dense(500, activation='relu'))\n",
    "model.add(layers.Dropout(rate=0.2))\n",
    "model.add(layers.Dense(num_classes, activation='softmax'))\n",
    "\n",
    "model.summary()"
   ]
  },
  {
   "cell_type": "code",
   "execution_count": 7,
   "metadata": {
    "scrolled": true
   },
   "outputs": [
    {
     "name": "stdout",
     "output_type": "stream",
     "text": [
      "Epoch 1/50\n",
      "422/422 [==============================] - 5s 10ms/step - loss: 2.2871 - accuracy: 0.1533 - val_loss: 2.2150 - val_accuracy: 0.2835\n",
      "Epoch 2/50\n",
      "422/422 [==============================] - 4s 10ms/step - loss: 2.1690 - accuracy: 0.2927 - val_loss: 2.0919 - val_accuracy: 0.4600\n",
      "Epoch 3/50\n",
      "422/422 [==============================] - 4s 9ms/step - loss: 2.0521 - accuracy: 0.4246 - val_loss: 1.9712 - val_accuracy: 0.5708\n",
      "Epoch 4/50\n",
      "422/422 [==============================] - 4s 10ms/step - loss: 1.9388 - accuracy: 0.5200 - val_loss: 1.8515 - val_accuracy: 0.6470\n",
      "Epoch 5/50\n",
      "422/422 [==============================] - 4s 10ms/step - loss: 1.8254 - accuracy: 0.5894 - val_loss: 1.7328 - val_accuracy: 0.6982\n",
      "Epoch 6/50\n",
      "422/422 [==============================] - 4s 10ms/step - loss: 1.7128 - accuracy: 0.6381 - val_loss: 1.6158 - val_accuracy: 0.7307\n",
      "Epoch 7/50\n",
      "422/422 [==============================] - 4s 10ms/step - loss: 1.6055 - accuracy: 0.6696 - val_loss: 1.5018 - val_accuracy: 0.7530\n",
      "Epoch 8/50\n",
      "422/422 [==============================] - 4s 9ms/step - loss: 1.5006 - accuracy: 0.6944 - val_loss: 1.3930 - val_accuracy: 0.7735\n",
      "Epoch 9/50\n",
      "422/422 [==============================] - 4s 10ms/step - loss: 1.4013 - accuracy: 0.7166 - val_loss: 1.2907 - val_accuracy: 0.7882\n",
      "Epoch 10/50\n",
      "422/422 [==============================] - 4s 10ms/step - loss: 1.3069 - accuracy: 0.7347 - val_loss: 1.1961 - val_accuracy: 0.8022\n",
      "Epoch 11/50\n",
      "422/422 [==============================] - 4s 10ms/step - loss: 1.2229 - accuracy: 0.7504 - val_loss: 1.1099 - val_accuracy: 0.8162\n",
      "Epoch 12/50\n",
      "422/422 [==============================] - 4s 10ms/step - loss: 1.1456 - accuracy: 0.7604 - val_loss: 1.0322 - val_accuracy: 0.8283\n",
      "Epoch 13/50\n",
      "422/422 [==============================] - 4s 10ms/step - loss: 1.0762 - accuracy: 0.7723 - val_loss: 0.9623 - val_accuracy: 0.8393\n",
      "Epoch 14/50\n",
      "422/422 [==============================] - 4s 10ms/step - loss: 1.0147 - accuracy: 0.7814 - val_loss: 0.8997 - val_accuracy: 0.8487\n",
      "Epoch 15/50\n",
      "422/422 [==============================] - 4s 10ms/step - loss: 0.9589 - accuracy: 0.7900 - val_loss: 0.8440 - val_accuracy: 0.8545\n",
      "Epoch 16/50\n",
      "422/422 [==============================] - 4s 10ms/step - loss: 0.9093 - accuracy: 0.8008 - val_loss: 0.7945 - val_accuracy: 0.8612\n",
      "Epoch 17/50\n",
      "422/422 [==============================] - 4s 10ms/step - loss: 0.8648 - accuracy: 0.8055 - val_loss: 0.7506 - val_accuracy: 0.8662\n",
      "Epoch 18/50\n",
      "422/422 [==============================] - 4s 10ms/step - loss: 0.8245 - accuracy: 0.8131 - val_loss: 0.7111 - val_accuracy: 0.8722\n",
      "Epoch 19/50\n",
      "422/422 [==============================] - 4s 10ms/step - loss: 0.7907 - accuracy: 0.8156 - val_loss: 0.6761 - val_accuracy: 0.8763\n",
      "Epoch 20/50\n",
      "422/422 [==============================] - 4s 10ms/step - loss: 0.7569 - accuracy: 0.8233 - val_loss: 0.6447 - val_accuracy: 0.8792\n",
      "Epoch 21/50\n",
      "422/422 [==============================] - 4s 10ms/step - loss: 0.7309 - accuracy: 0.8270 - val_loss: 0.6167 - val_accuracy: 0.8840\n",
      "Epoch 22/50\n",
      "422/422 [==============================] - 4s 10ms/step - loss: 0.7046 - accuracy: 0.8320 - val_loss: 0.5912 - val_accuracy: 0.8863\n",
      "Epoch 23/50\n",
      "422/422 [==============================] - 4s 10ms/step - loss: 0.6814 - accuracy: 0.8343 - val_loss: 0.5682 - val_accuracy: 0.8885\n",
      "Epoch 24/50\n",
      "422/422 [==============================] - 4s 10ms/step - loss: 0.6589 - accuracy: 0.8399 - val_loss: 0.5473 - val_accuracy: 0.8903\n",
      "Epoch 25/50\n",
      "422/422 [==============================] - 4s 10ms/step - loss: 0.6404 - accuracy: 0.8435 - val_loss: 0.5285 - val_accuracy: 0.8930\n",
      "Epoch 26/50\n",
      "422/422 [==============================] - 4s 10ms/step - loss: 0.6232 - accuracy: 0.8451 - val_loss: 0.5112 - val_accuracy: 0.8948\n",
      "Epoch 27/50\n",
      "422/422 [==============================] - 4s 10ms/step - loss: 0.6062 - accuracy: 0.8485 - val_loss: 0.4956 - val_accuracy: 0.8963\n",
      "Epoch 28/50\n",
      "422/422 [==============================] - 4s 10ms/step - loss: 0.5913 - accuracy: 0.8524 - val_loss: 0.4811 - val_accuracy: 0.8977\n",
      "Epoch 29/50\n",
      "422/422 [==============================] - 4s 10ms/step - loss: 0.5776 - accuracy: 0.8542 - val_loss: 0.4679 - val_accuracy: 0.8983\n",
      "Epoch 30/50\n",
      "422/422 [==============================] - 4s 10ms/step - loss: 0.5657 - accuracy: 0.8555 - val_loss: 0.4557 - val_accuracy: 0.8988\n",
      "Epoch 31/50\n",
      "422/422 [==============================] - 4s 10ms/step - loss: 0.5525 - accuracy: 0.8594 - val_loss: 0.4443 - val_accuracy: 0.9023\n",
      "Epoch 32/50\n",
      "422/422 [==============================] - 4s 10ms/step - loss: 0.5429 - accuracy: 0.8610 - val_loss: 0.4339 - val_accuracy: 0.9040\n",
      "Epoch 33/50\n",
      "422/422 [==============================] - 4s 10ms/step - loss: 0.5312 - accuracy: 0.8624 - val_loss: 0.4242 - val_accuracy: 0.9055\n",
      "Epoch 34/50\n",
      "422/422 [==============================] - 4s 10ms/step - loss: 0.5229 - accuracy: 0.8643 - val_loss: 0.4153 - val_accuracy: 0.9072\n",
      "Epoch 35/50\n",
      "422/422 [==============================] - 4s 10ms/step - loss: 0.5130 - accuracy: 0.8657 - val_loss: 0.4071 - val_accuracy: 0.9075\n",
      "Epoch 36/50\n",
      "422/422 [==============================] - 4s 10ms/step - loss: 0.5042 - accuracy: 0.8679 - val_loss: 0.3992 - val_accuracy: 0.9092\n",
      "Epoch 37/50\n",
      "422/422 [==============================] - 4s 10ms/step - loss: 0.4969 - accuracy: 0.8710 - val_loss: 0.3919 - val_accuracy: 0.9102\n",
      "Epoch 38/50\n",
      "422/422 [==============================] - 4s 10ms/step - loss: 0.4884 - accuracy: 0.8720 - val_loss: 0.3850 - val_accuracy: 0.9112\n",
      "Epoch 39/50\n",
      "422/422 [==============================] - 4s 10ms/step - loss: 0.4833 - accuracy: 0.8722 - val_loss: 0.3786 - val_accuracy: 0.9117\n",
      "Epoch 40/50\n",
      "422/422 [==============================] - 4s 10ms/step - loss: 0.4762 - accuracy: 0.8736 - val_loss: 0.3725 - val_accuracy: 0.9128\n",
      "Epoch 41/50\n",
      "422/422 [==============================] - 4s 10ms/step - loss: 0.4697 - accuracy: 0.8751 - val_loss: 0.3668 - val_accuracy: 0.9137\n",
      "Epoch 42/50\n",
      "422/422 [==============================] - 4s 10ms/step - loss: 0.4650 - accuracy: 0.8760 - val_loss: 0.3615 - val_accuracy: 0.9147\n",
      "Epoch 43/50\n",
      "422/422 [==============================] - 4s 10ms/step - loss: 0.4588 - accuracy: 0.8771 - val_loss: 0.3564 - val_accuracy: 0.9157\n",
      "Epoch 44/50\n",
      "422/422 [==============================] - 4s 10ms/step - loss: 0.4524 - accuracy: 0.8785 - val_loss: 0.3517 - val_accuracy: 0.9167\n",
      "Epoch 45/50\n",
      "422/422 [==============================] - 4s 10ms/step - loss: 0.4474 - accuracy: 0.8805 - val_loss: 0.3471 - val_accuracy: 0.9177\n",
      "Epoch 46/50\n",
      "422/422 [==============================] - 4s 10ms/step - loss: 0.4432 - accuracy: 0.8804 - val_loss: 0.3428 - val_accuracy: 0.9182\n",
      "Epoch 47/50\n",
      "422/422 [==============================] - 4s 10ms/step - loss: 0.4401 - accuracy: 0.8810 - val_loss: 0.3387 - val_accuracy: 0.9187\n",
      "Epoch 48/50\n",
      "422/422 [==============================] - 4s 10ms/step - loss: 0.4334 - accuracy: 0.8833 - val_loss: 0.3348 - val_accuracy: 0.9190\n",
      "Epoch 49/50\n",
      "422/422 [==============================] - 4s 10ms/step - loss: 0.4290 - accuracy: 0.8841 - val_loss: 0.3310 - val_accuracy: 0.9198\n",
      "Epoch 50/50\n",
      "422/422 [==============================] - 4s 10ms/step - loss: 0.4255 - accuracy: 0.8846 - val_loss: 0.3275 - val_accuracy: 0.9207\n"
     ]
    }
   ],
   "source": [
    "model.compile(loss='categorical_crossentropy', optimizer='adadelta', metrics=['accuracy'])\n",
    "\n",
    "result = model.fit(x_train, y_train, epochs=50, batch_size=128, validation_split=0.1)"
   ]
  },
  {
   "cell_type": "code",
   "execution_count": 8,
   "metadata": {},
   "outputs": [
    {
     "data": {
      "image/png": "[encoded data removed]",
      "text/plain": [
       "<Figure size 432x288 with 1 Axes>"
      ]
     },
     "metadata": {
      "needs_background": "light"
     },
     "output_type": "display_data"
    },
    {
     "data": {
      "text/plain": [
       "<matplotlib.legend.Legend at 0x1af31a4c670>"
      ]
     },
     "execution_count": 8,
     "metadata": {},
     "output_type": "execute_result"
    },
    {
     "data": {
      "image/png": "[encoded data removed]",
      "text/plain": [
       "<Figure size 432x288 with 1 Axes>"
      ]
     },
     "metadata": {
      "needs_background": "light"
     },
     "output_type": "display_data"
    }
   ],
   "source": [
    "x = range(50)\n",
    "plt.plot(x, result.history['accuracy'], label='train')\n",
    "plt.plot(x, result.history['val_accuracy'], label='validation')\n",
    "plt.title('Accuracy')\n",
    "plt.legend(loc='center left', bbox_to_anchor=(1, 0.5))\n",
    "plt.show()\n",
    "\n",
    "plt.plot(x, result.history['loss'], label='train')\n",
    "plt.plot(x, result.history['val_loss'], label='validation')\n",
    "plt.title('Loss')\n",
    "plt.legend(loc='center left', bbox_to_anchor=(1, 0.5))"
   ]
  },
  {
   "cell_type": "markdown",
   "metadata": {},
   "source": [
    "## CNN"
   ]
  },
  {
   "cell_type": "code",
   "execution_count": 9,
   "metadata": {},
   "outputs": [
    {
     "name": "stdout",
     "output_type": "stream",
     "text": [
      "x_train shape: (60000, 28, 28, 1)\n",
      "60000 train samples\n",
      "10000 test samples\n"
     ]
    }
   ],
   "source": [
    "# Model / data parameters\n",
    "num_classes = 10\n",
    "input_shape = (28, 28, 1)\n",
    "\n",
    "# the data, split between train and test sets\n",
    "(x_train, y_train), (x_test, y_test) = keras.datasets.mnist.load_data()\n",
    "\n",
    "# Scale images to the [0, 1] range\n",
    "x_train = x_train.astype(\"float32\") / 255\n",
    "x_test = x_test.astype(\"float32\") / 255\n",
    "# Make sure images have shape (28, 28, 1)\n",
    "x_train = np.expand_dims(x_train, -1)\n",
    "x_test = np.expand_dims(x_test, -1)\n",
    "print(\"x_train shape:\", x_train.shape)\n",
    "print(x_train.shape[0], \"train samples\")\n",
    "print(x_test.shape[0], \"test samples\")\n",
    "\n",
    "\n",
    "# convert class vectors to binary class matrices\n",
    "y_train = keras.utils.to_categorical(y_train, num_classes)\n",
    "y_test = keras.utils.to_categorical(y_test, num_classes)\n"
   ]
  },
  {
   "cell_type": "code",
   "execution_count": 10,
   "metadata": {},
   "outputs": [
    {
     "name": "stdout",
     "output_type": "stream",
     "text": [
      "Model: \"sequential_1\"\n",
      "_________________________________________________________________\n",
      "Layer (type)                 Output Shape              Param #   \n",
      "=================================================================\n",
      "conv2d (Conv2D)              (None, 26, 26, 32)        320       \n",
      "_________________________________________________________________\n",
      "max_pooling2d (MaxPooling2D) (None, 13, 13, 32)        0         \n",
      "_________________________________________________________________\n",
      "conv2d_1 (Conv2D)            (None, 11, 11, 64)        18496     \n",
      "_________________________________________________________________\n",
      "max_pooling2d_1 (MaxPooling2 (None, 5, 5, 64)          0         \n",
      "_________________________________________________________________\n",
      "flatten (Flatten)            (None, 1600)              0         \n",
      "_________________________________________________________________\n",
      "dropout_1 (Dropout)          (None, 1600)              0         \n",
      "_________________________________________________________________\n",
      "dense_3 (Dense)              (None, 10)                16010     \n",
      "=================================================================\n",
      "Total params: 34,826\n",
      "Trainable params: 34,826\n",
      "Non-trainable params: 0\n",
      "_________________________________________________________________\n"
     ]
    }
   ],
   "source": [
    "model = keras.Sequential(\n",
    "    [\n",
    "        keras.Input(shape=input_shape),\n",
    "        layers.Conv2D(32, kernel_size=(3, 3), activation=\"relu\"),\n",
    "        layers.MaxPooling2D(pool_size=(2, 2)),\n",
    "        layers.Conv2D(64, kernel_size=(3, 3), activation=\"relu\"),\n",
    "        layers.MaxPooling2D(pool_size=(2, 2)),\n",
    "        layers.Flatten(),\n",
    "        layers.Dropout(0.5),\n",
    "        layers.Dense(num_classes, activation=\"softmax\"),\n",
    "    ]\n",
    ")\n",
    "\n",
    "model.summary()"
   ]
  },
  {
   "cell_type": "code",
   "execution_count": 11,
   "metadata": {},
   "outputs": [
    {
     "name": "stdout",
     "output_type": "stream",
     "text": [
      "Epoch 1/15\n",
      "422/422 [==============================] - 19s 44ms/step - loss: 0.3673 - accuracy: 0.8927 - val_loss: 0.0845 - val_accuracy: 0.9762\n",
      "Epoch 2/15\n",
      "422/422 [==============================] - 18s 44ms/step - loss: 0.1081 - accuracy: 0.9668 - val_loss: 0.0583 - val_accuracy: 0.9837\n",
      "Epoch 3/15\n",
      "422/422 [==============================] - 19s 44ms/step - loss: 0.0813 - accuracy: 0.9751 - val_loss: 0.0484 - val_accuracy: 0.9867\n",
      "Epoch 4/15\n",
      "422/422 [==============================] - 19s 45ms/step - loss: 0.0688 - accuracy: 0.9786 - val_loss: 0.0406 - val_accuracy: 0.9893\n",
      "Epoch 5/15\n",
      "422/422 [==============================] - 19s 45ms/step - loss: 0.0570 - accuracy: 0.9820 - val_loss: 0.0355 - val_accuracy: 0.9902\n",
      "Epoch 6/15\n",
      "422/422 [==============================] - 19s 45ms/step - loss: 0.0538 - accuracy: 0.9834 - val_loss: 0.0375 - val_accuracy: 0.9892\n",
      "Epoch 7/15\n",
      "422/422 [==============================] - 19s 45ms/step - loss: 0.0482 - accuracy: 0.9852 - val_loss: 0.0326 - val_accuracy: 0.9918\n",
      "Epoch 8/15\n",
      "422/422 [==============================] - 19s 46ms/step - loss: 0.0442 - accuracy: 0.9859 - val_loss: 0.0309 - val_accuracy: 0.9918\n",
      "Epoch 9/15\n",
      "422/422 [==============================] - 20s 47ms/step - loss: 0.0433 - accuracy: 0.9863 - val_loss: 0.0324 - val_accuracy: 0.9908\n",
      "Epoch 10/15\n",
      "422/422 [==============================] - 19s 46ms/step - loss: 0.0404 - accuracy: 0.9874 - val_loss: 0.0296 - val_accuracy: 0.9918\n",
      "Epoch 11/15\n",
      "422/422 [==============================] - 19s 45ms/step - loss: 0.0376 - accuracy: 0.9877 - val_loss: 0.0273 - val_accuracy: 0.9922\n",
      "Epoch 12/15\n",
      "422/422 [==============================] - 19s 45ms/step - loss: 0.0344 - accuracy: 0.9887 - val_loss: 0.0276 - val_accuracy: 0.9932\n",
      "Epoch 13/15\n",
      "422/422 [==============================] - 19s 45ms/step - loss: 0.0334 - accuracy: 0.9890 - val_loss: 0.0273 - val_accuracy: 0.9928\n",
      "Epoch 14/15\n",
      "422/422 [==============================] - 19s 45ms/step - loss: 0.0318 - accuracy: 0.9899 - val_loss: 0.0266 - val_accuracy: 0.9928\n",
      "Epoch 15/15\n",
      "422/422 [==============================] - 19s 45ms/step - loss: 0.0292 - accuracy: 0.9905 - val_loss: 0.0280 - val_accuracy: 0.9925\n"
     ]
    },
    {
     "data": {
      "text/plain": [
       "<keras.callbacks.History at 0x1af318cb880>"
      ]
     },
     "execution_count": 11,
     "metadata": {},
     "output_type": "execute_result"
    }
   ],
   "source": [
    "batch_size = 128\n",
    "epochs = 15\n",
    "\n",
    "model.compile(loss=\"categorical_crossentropy\", optimizer=\"adam\", metrics=[\"accuracy\"])\n",
    "\n",
    "model.fit(x_train, y_train, batch_size=batch_size, epochs=epochs, validation_split=0.1)"
   ]
  },
  {
   "cell_type": "code",
   "execution_count": 12,
   "metadata": {},
   "outputs": [
    {
     "name": "stdout",
     "output_type": "stream",
     "text": [
      "Test loss: 0.023213088512420654\n",
      "Test accuracy: 0.9926999807357788\n"
     ]
    }
   ],
   "source": [
    "score = model.evaluate(x_test, y_test, verbose=0)\n",
    "print(\"Test loss:\", score[0])\n",
    "print(\"Test accuracy:\", score[1])"
   ]
  },
  {
   "cell_type": "markdown",
   "metadata": {},
   "source": [
    "### RNN"
   ]
  },
  {
   "cell_type": "code",
   "execution_count": 13,
   "metadata": {},
   "outputs": [
    {
     "data": {
      "image/png": "[encoded data removed]",
      "text/plain": [
       "<Figure size 432x288 with 1 Axes>"
      ]
     },
     "metadata": {
      "needs_background": "light"
     },
     "output_type": "display_data"
    }
   ],
   "source": [
    "# source: https://machinelearningmastery.com/time-series-prediction-lstm-recurrent-neural-networks-python-keras/\n",
    "\n",
    "import pandas\n",
    "import matplotlib.pyplot as plt\n",
    "dataset = pandas.read_csv('international-airline-passengers.csv', usecols=[1], engine='python', skipfooter=3)\n",
    "plt.plot(dataset)\n",
    "plt.show()"
   ]
  },
  {
   "cell_type": "code",
   "execution_count": 14,
   "metadata": {},
   "outputs": [],
   "source": [
    "import pandas\n",
    "import math\n",
    "from keras.models import Sequential\n",
    "from keras.layers import Dense\n",
    "from keras.layers import LSTM\n",
    "from sklearn.preprocessing import MinMaxScaler\n",
    "from sklearn.metrics import mean_squared_error"
   ]
  },
  {
   "cell_type": "code",
   "execution_count": 15,
   "metadata": {},
   "outputs": [],
   "source": [
    "# fix random seed for reproducibility\n",
    "np.random.seed(7)"
   ]
  },
  {
   "cell_type": "code",
   "execution_count": 16,
   "metadata": {},
   "outputs": [],
   "source": [
    "# convert an array of values into a dataset matrix\n",
    "def create_dataset(dataset, look_back=1):\n",
    "    dataX, dataY = [], []\n",
    "    for i in range(len(dataset)-look_back-1):\n",
    "        a = dataset[i:(i+look_back), 0]\n",
    "        dataX.append(a)\n",
    "        dataY.append(dataset[i + look_back, 0])\n",
    "    return np.array(dataX), np.array(dataY)\n",
    "\n",
    "# load the dataset\n",
    "dataframe = pandas.read_csv('international-airline-passengers.csv', usecols=[1], engine='python', skipfooter=3)\n",
    "dataset = dataframe.values\n",
    "dataset = dataset.astype('float32')\n",
    "# normalize the dataset\n",
    "scaler = MinMaxScaler(feature_range=(0, 1))\n",
    "dataset = scaler.fit_transform(dataset)\n",
    "# split into train and test sets\n",
    "train_size = int(len(dataset) * 0.67)\n",
    "test_size = len(dataset) - train_size\n",
    "train, test = dataset[0:train_size,:], dataset[train_size:len(dataset),:]\n",
    "# reshape into X=t and Y=t+1\n",
    "look_back = 1\n",
    "trainX, trainY = create_dataset(train, look_back)\n",
    "testX, testY = create_dataset(test, look_back)\n",
    "# reshape input to be [samples, time steps, features]\n",
    "trainX = np.reshape(trainX, (trainX.shape[0], 1, trainX.shape[1]))\n",
    "testX = np.reshape(testX, (testX.shape[0], 1, testX.shape[1]))\n"
   ]
  },
  {
   "cell_type": "code",
   "execution_count": 17,
   "metadata": {},
   "outputs": [
    {
     "name": "stdout",
     "output_type": "stream",
     "text": [
      "Epoch 1/100\n",
      "94/94 - 1s - loss: 0.0480\n",
      "Epoch 2/100\n",
      "94/94 - 0s - loss: 0.0237\n",
      "Epoch 3/100\n",
      "94/94 - 0s - loss: 0.0167\n",
      "Epoch 4/100\n",
      "94/94 - 0s - loss: 0.0148\n",
      "Epoch 5/100\n",
      "94/94 - 0s - loss: 0.0138\n",
      "Epoch 6/100\n",
      "94/94 - 0s - loss: 0.0129\n",
      "Epoch 7/100\n",
      "94/94 - 0s - loss: 0.0119\n",
      "Epoch 8/100\n",
      "94/94 - 0s - loss: 0.0111\n",
      "Epoch 9/100\n",
      "94/94 - 0s - loss: 0.0101\n",
      "Epoch 10/100\n",
      "94/94 - 0s - loss: 0.0092\n",
      "Epoch 11/100\n",
      "94/94 - 0s - loss: 0.0082\n",
      "Epoch 12/100\n",
      "94/94 - 0s - loss: 0.0075\n",
      "Epoch 13/100\n",
      "94/94 - 0s - loss: 0.0065\n",
      "Epoch 14/100\n",
      "94/94 - 0s - loss: 0.0058\n",
      "Epoch 15/100\n",
      "94/94 - 0s - loss: 0.0051\n",
      "Epoch 16/100\n",
      "94/94 - 0s - loss: 0.0044\n",
      "Epoch 17/100\n",
      "94/94 - 0s - loss: 0.0039\n",
      "Epoch 18/100\n",
      "94/94 - 0s - loss: 0.0033\n",
      "Epoch 19/100\n",
      "94/94 - 0s - loss: 0.0032\n",
      "Epoch 20/100\n",
      "94/94 - 0s - loss: 0.0028\n",
      "Epoch 21/100\n",
      "94/94 - 0s - loss: 0.0025\n",
      "Epoch 22/100\n",
      "94/94 - 0s - loss: 0.0024\n",
      "Epoch 23/100\n",
      "94/94 - 0s - loss: 0.0022\n",
      "Epoch 24/100\n",
      "94/94 - 0s - loss: 0.0021\n",
      "Epoch 25/100\n",
      "94/94 - 0s - loss: 0.0021\n",
      "Epoch 26/100\n",
      "94/94 - 0s - loss: 0.0021\n",
      "Epoch 27/100\n",
      "94/94 - 0s - loss: 0.0020\n",
      "Epoch 28/100\n",
      "94/94 - 0s - loss: 0.0020\n",
      "Epoch 29/100\n",
      "94/94 - 0s - loss: 0.0020\n",
      "Epoch 30/100\n",
      "94/94 - 0s - loss: 0.0020\n",
      "Epoch 31/100\n",
      "94/94 - 0s - loss: 0.0020\n",
      "Epoch 32/100\n",
      "94/94 - 0s - loss: 0.0020\n",
      "Epoch 33/100\n",
      "94/94 - 0s - loss: 0.0020\n",
      "Epoch 34/100\n",
      "94/94 - 0s - loss: 0.0020\n",
      "Epoch 35/100\n",
      "94/94 - 0s - loss: 0.0020\n",
      "Epoch 36/100\n",
      "94/94 - 0s - loss: 0.0020\n",
      "Epoch 37/100\n",
      "94/94 - 0s - loss: 0.0020\n",
      "Epoch 38/100\n",
      "94/94 - 0s - loss: 0.0020\n",
      "Epoch 39/100\n",
      "94/94 - 0s - loss: 0.0020\n",
      "Epoch 40/100\n",
      "94/94 - 0s - loss: 0.0020\n",
      "Epoch 41/100\n",
      "94/94 - 0s - loss: 0.0020\n",
      "Epoch 42/100\n",
      "94/94 - 0s - loss: 0.0020\n",
      "Epoch 43/100\n",
      "94/94 - 0s - loss: 0.0020\n",
      "Epoch 44/100\n",
      "94/94 - 0s - loss: 0.0019\n",
      "Epoch 45/100\n",
      "94/94 - 0s - loss: 0.0020\n",
      "Epoch 46/100\n",
      "94/94 - 0s - loss: 0.0021\n",
      "Epoch 47/100\n",
      "94/94 - 0s - loss: 0.0020\n",
      "Epoch 48/100\n",
      "94/94 - 0s - loss: 0.0020\n",
      "Epoch 49/100\n",
      "94/94 - 0s - loss: 0.0020\n",
      "Epoch 50/100\n",
      "94/94 - 0s - loss: 0.0019\n",
      "Epoch 51/100\n",
      "94/94 - 0s - loss: 0.0020\n",
      "Epoch 52/100\n",
      "94/94 - 0s - loss: 0.0020\n",
      "Epoch 53/100\n",
      "94/94 - 0s - loss: 0.0020\n",
      "Epoch 54/100\n",
      "94/94 - 0s - loss: 0.0020\n",
      "Epoch 55/100\n",
      "94/94 - 0s - loss: 0.0020\n",
      "Epoch 56/100\n",
      "94/94 - 0s - loss: 0.0020\n",
      "Epoch 57/100\n",
      "94/94 - 0s - loss: 0.0020\n",
      "Epoch 58/100\n",
      "94/94 - 0s - loss: 0.0020\n",
      "Epoch 59/100\n",
      "94/94 - 0s - loss: 0.0020\n",
      "Epoch 60/100\n",
      "94/94 - 0s - loss: 0.0020\n",
      "Epoch 61/100\n",
      "94/94 - 0s - loss: 0.0020\n",
      "Epoch 62/100\n",
      "94/94 - 0s - loss: 0.0019\n",
      "Epoch 63/100\n",
      "94/94 - 0s - loss: 0.0020\n",
      "Epoch 64/100\n",
      "94/94 - 0s - loss: 0.0020\n",
      "Epoch 65/100\n",
      "94/94 - 0s - loss: 0.0019\n",
      "Epoch 66/100\n",
      "94/94 - 0s - loss: 0.0020\n",
      "Epoch 67/100\n",
      "94/94 - 0s - loss: 0.0020\n",
      "Epoch 68/100\n",
      "94/94 - 0s - loss: 0.0019\n",
      "Epoch 69/100\n",
      "94/94 - 0s - loss: 0.0020\n",
      "Epoch 70/100\n",
      "94/94 - 0s - loss: 0.0020\n",
      "Epoch 71/100\n",
      "94/94 - 0s - loss: 0.0019\n",
      "Epoch 72/100\n",
      "94/94 - 0s - loss: 0.0020\n",
      "Epoch 73/100\n",
      "94/94 - 0s - loss: 0.0020\n",
      "Epoch 74/100\n",
      "94/94 - 0s - loss: 0.0020\n",
      "Epoch 75/100\n",
      "94/94 - 0s - loss: 0.0020\n",
      "Epoch 76/100\n",
      "94/94 - 0s - loss: 0.0020\n",
      "Epoch 77/100\n",
      "94/94 - 0s - loss: 0.0020\n",
      "Epoch 78/100\n",
      "94/94 - 0s - loss: 0.0021\n",
      "Epoch 79/100\n",
      "94/94 - 0s - loss: 0.0020\n",
      "Epoch 80/100\n",
      "94/94 - 0s - loss: 0.0020\n",
      "Epoch 81/100\n",
      "94/94 - 0s - loss: 0.0020\n",
      "Epoch 82/100\n",
      "94/94 - 0s - loss: 0.0020\n",
      "Epoch 83/100\n",
      "94/94 - 0s - loss: 0.0020\n",
      "Epoch 84/100\n",
      "94/94 - 0s - loss: 0.0020\n",
      "Epoch 85/100\n",
      "94/94 - 0s - loss: 0.0020\n",
      "Epoch 86/100\n",
      "94/94 - 0s - loss: 0.0020\n",
      "Epoch 87/100\n",
      "94/94 - 0s - loss: 0.0020\n",
      "Epoch 88/100\n",
      "94/94 - 0s - loss: 0.0019\n",
      "Epoch 89/100\n",
      "94/94 - 0s - loss: 0.0020\n",
      "Epoch 90/100\n",
      "94/94 - 0s - loss: 0.0019\n",
      "Epoch 91/100\n",
      "94/94 - 0s - loss: 0.0020\n",
      "Epoch 92/100\n",
      "94/94 - 0s - loss: 0.0020\n",
      "Epoch 93/100\n",
      "94/94 - 0s - loss: 0.0020\n",
      "Epoch 94/100\n",
      "94/94 - 0s - loss: 0.0020\n",
      "Epoch 95/100\n",
      "94/94 - 0s - loss: 0.0020\n",
      "Epoch 96/100\n",
      "94/94 - 0s - loss: 0.0019\n",
      "Epoch 97/100\n",
      "94/94 - 0s - loss: 0.0020\n",
      "Epoch 98/100\n",
      "94/94 - 0s - loss: 0.0019\n",
      "Epoch 99/100\n",
      "94/94 - 0s - loss: 0.0021\n",
      "Epoch 100/100\n",
      "94/94 - 0s - loss: 0.0021\n"
     ]
    }
   ],
   "source": [
    "# create and fit the LSTM network\n",
    "model = Sequential()\n",
    "model.add(LSTM(4, input_shape=(1, look_back)))\n",
    "model.add(Dense(1))\n",
    "model.compile(loss='mean_squared_error', optimizer='adam')\n",
    "model.fit(trainX, trainY, epochs=100, batch_size=1, verbose=2)\n",
    "# make predictions\n",
    "trainPredict = model.predict(trainX)\n",
    "testPredict = model.predict(testX)\n"
   ]
  },
  {
   "cell_type": "code",
   "execution_count": 18,
   "metadata": {},
   "outputs": [
    {
     "name": "stdout",
     "output_type": "stream",
     "text": [
      "Train Score: 22.63 RMSE\n",
      "Test Score: 52.50 RMSE\n"
     ]
    }
   ],
   "source": [
    "# invert predictions\n",
    "trainPredict = scaler.inverse_transform(trainPredict)\n",
    "trainY = scaler.inverse_transform([trainY])\n",
    "testPredict = scaler.inverse_transform(testPredict)\n",
    "testY = scaler.inverse_transform([testY])\n",
    "# calculate root mean squared error\n",
    "trainScore = math.sqrt(mean_squared_error(trainY[0], trainPredict[:,0]))\n",
    "print('Train Score: %.2f RMSE' % (trainScore))\n",
    "testScore = math.sqrt(mean_squared_error(testY[0], testPredict[:,0]))\n",
    "print('Test Score: %.2f RMSE' % (testScore))"
   ]
  },
  {
   "cell_type": "code",
   "execution_count": 19,
   "metadata": {},
   "outputs": [
    {
     "data": {
      "image/png": "[encoded data removed]",
      "text/plain": [
       "<Figure size 432x288 with 1 Axes>"
      ]
     },
     "metadata": {
      "needs_background": "light"
     },
     "output_type": "display_data"
    }
   ],
   "source": [
    "# shift train predictions for plotting\n",
    "trainPredictPlot = np.empty_like(dataset)\n",
    "trainPredictPlot[:, :] = np.nan\n",
    "trainPredictPlot[look_back:len(trainPredict)+look_back, :] = trainPredict\n",
    "# shift test predictions for plotting\n",
    "testPredictPlot = np.empty_like(dataset)\n",
    "testPredictPlot[:, :] = np.nan\n",
    "testPredictPlot[len(trainPredict)+(look_back*2)+1:len(dataset)-1, :] = testPredict\n",
    "# plot baseline and predictions\n",
    "plt.plot(scaler.inverse_transform(dataset))\n",
    "plt.plot(trainPredictPlot)\n",
    "plt.plot(testPredictPlot)\n",
    "plt.show()"
   ]
  }
 ],
 "metadata": {
  "kernelspec": {
   "display_name": "Python 3",
   "language": "python",
   "name": "python3"
  },
  "language_info": {
   "codemirror_mode": {
    "name": "ipython",
    "version": 3
   },
   "file_extension": ".py",
   "mimetype": "text/x-python",
   "name": "python",
   "nbconvert_exporter": "python",
   "pygments_lexer": "ipython3",
   "version": "3.8.8"
  }
 },
 "nbformat": 4,
 "nbformat_minor": 2
}
